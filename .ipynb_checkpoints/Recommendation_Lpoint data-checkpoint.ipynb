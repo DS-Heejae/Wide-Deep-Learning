{
 "cells": [
  {
   "cell_type": "markdown",
   "metadata": {},
   "source": [
    "Recommendation System\n",
    "==========="
   ]
  },
  {
   "cell_type": "markdown",
   "metadata": {},
   "source": [
    "[Doc2vec + Wide & Deep learning] = Google 매니아\n",
    "----------------------------------"
   ]
  },
  {
   "cell_type": "markdown",
   "metadata": {},
   "source": [
    "<div class=pull-right><h3>\n",
    "    연습용 파일입니다. [Recommendation_Wide & Deep]을 봐주세요 | J. H. Park\n",
    "</h3></div>"
   ]
  },
  {
   "cell_type": "markdown",
   "metadata": {},
   "source": [
    "---"
   ]
  },
  {
   "cell_type": "markdown",
   "metadata": {},
   "source": [
    "### 순서\n",
    "\n",
    "1. 데이터 소개\n",
    "2. Doc2Vec\n",
    "3. Wide & Deep\n",
    "4. Recommendation"
   ]
  },
  {
   "cell_type": "markdown",
   "metadata": {},
   "source": [
    "---"
   ]
  },
  {
   "cell_type": "markdown",
   "metadata": {},
   "source": [
    "본 문서에 사용된 데이터는 Lpoint 2016년 공모전에서 제공받은 데이터임을 밝힙니다. (공유 불가.) "
   ]
  },
  {
   "cell_type": "markdown",
   "metadata": {},
   "source": [
    "---"
   ]
  },
  {
   "cell_type": "markdown",
   "metadata": {},
   "source": [
    "# 1. 데이터 소개"
   ]
  },
  {
   "cell_type": "markdown",
   "metadata": {},
   "source": [
    "해당 데이터가 꽤 크므로 간단한 분석용으로 줄였습니다.\n",
    "\n",
    "* C 제휴사 거래내역\n",
    "* 한번 구매할 때 5개 품목 이상인 거래  (이하 session 이라고 표현).\n",
    "* 10번 이상 거래내역이 있는 고객 \n",
    "\n",
    "위 조건 중에서 고객별로 시간상 최근 거래내역 10개를 가지고 왔습니다."
   ]
  },
  {
   "cell_type": "code",
   "execution_count": 1,
   "metadata": {
    "collapsed": true
   },
   "outputs": [],
   "source": [
    "import pandas as pd"
   ]
  },
  {
   "cell_type": "code",
   "execution_count": 2,
   "metadata": {
    "collapsed": true
   },
   "outputs": [],
   "source": [
    "train_data = pd.read_csv(\"./data/Lpoint/train_data.csv\", encoding=\"cp949\")\n",
    "train_label = pd.read_csv(\"./data/Lpoint/train_label.csv\", encoding=\"cp949\")\n",
    "\n",
    "test_data = pd.read_csv(\"./data/Lpoint/test_data.csv\", encoding=\"cp949\")\n",
    "test_label = pd.read_csv(\"./data/Lpoint/test_label.csv\", encoding=\"cp949\")\n",
    "test_label_real = pd.read_csv(\"./data/Lpoint/test_label_real.csv\", encoding=\"cp949\")\n",
    "\n",
    "categorical_data = pd.read_csv(\"./data/Lpoint/categorical.csv\", encoding=\"cp949\")\n",
    "continuous_data = pd.read_csv(\"./data/Lpoint/continuous.csv\", encoding=\"cp949\")"
   ]
  },
  {
   "cell_type": "markdown",
   "metadata": {},
   "source": [
    "각 데이터는 아래 진행될 분석 흐름에 맞게 미리 `R`로 핸들링 하였습니다."
   ]
  },
  {
   "cell_type": "code",
   "execution_count": 3,
   "metadata": {},
   "outputs": [
    {
     "data": {
      "text/html": [
       "<div>\n",
       "<style>\n",
       "    .dataframe thead tr:only-child th {\n",
       "        text-align: right;\n",
       "    }\n",
       "\n",
       "    .dataframe thead th {\n",
       "        text-align: left;\n",
       "    }\n",
       "\n",
       "    .dataframe tbody tr th {\n",
       "        vertical-align: top;\n",
       "    }\n",
       "</style>\n",
       "<table border=\"1\" class=\"dataframe\">\n",
       "  <thead>\n",
       "    <tr style=\"text-align: right;\">\n",
       "      <th></th>\n",
       "      <th>item</th>\n",
       "      <th>영수증번호</th>\n",
       "      <th>고객번호</th>\n",
       "    </tr>\n",
       "  </thead>\n",
       "  <tbody>\n",
       "    <tr>\n",
       "      <th>0</th>\n",
       "      <td>C010215/기타수입과일 C030308/기타뿌리채소 C030506/봄동 C0306...</td>\n",
       "      <td>425</td>\n",
       "      <td>13889</td>\n",
       "    </tr>\n",
       "    <tr>\n",
       "      <th>1</th>\n",
       "      <td>C010101/사과 C020301/미숫가루 C070101/일반우유 C070202/마...</td>\n",
       "      <td>1811</td>\n",
       "      <td>4740</td>\n",
       "    </tr>\n",
       "    <tr>\n",
       "      <th>2</th>\n",
       "      <td>C060501/한과 C110202/사이다 C110502/전통차음료 C170206/종...</td>\n",
       "      <td>2106</td>\n",
       "      <td>4740</td>\n",
       "    </tr>\n",
       "    <tr>\n",
       "      <th>3</th>\n",
       "      <td>C010110/딸기 C030401/두부류 C080201/어묵 C100202/냉장면 ...</td>\n",
       "      <td>2450</td>\n",
       "      <td>4740</td>\n",
       "    </tr>\n",
       "    <tr>\n",
       "      <th>4</th>\n",
       "      <td>C050208/국산돼지뒷다리 C050302/볶음탕용닭 C070101/일반우유 C13...</td>\n",
       "      <td>4147</td>\n",
       "      <td>4817</td>\n",
       "    </tr>\n",
       "  </tbody>\n",
       "</table>\n",
       "</div>"
      ],
      "text/plain": [
       "                                                item  영수증번호   고객번호\n",
       "0  C010215/기타수입과일 C030308/기타뿌리채소 C030506/봄동 C0306...    425  13889\n",
       "1  C010101/사과 C020301/미숫가루 C070101/일반우유 C070202/마...   1811   4740\n",
       "2  C060501/한과 C110202/사이다 C110502/전통차음료 C170206/종...   2106   4740\n",
       "3  C010110/딸기 C030401/두부류 C080201/어묵 C100202/냉장면 ...   2450   4740\n",
       "4  C050208/국산돼지뒷다리 C050302/볶음탕용닭 C070101/일반우유 C13...   4147   4817"
      ]
     },
     "execution_count": 3,
     "metadata": {},
     "output_type": "execute_result"
    }
   ],
   "source": [
    "train_data.head()"
   ]
  },
  {
   "cell_type": "code",
   "execution_count": 4,
   "metadata": {},
   "outputs": [
    {
     "data": {
      "text/html": [
       "<div>\n",
       "<style>\n",
       "    .dataframe thead tr:only-child th {\n",
       "        text-align: right;\n",
       "    }\n",
       "\n",
       "    .dataframe thead th {\n",
       "        text-align: left;\n",
       "    }\n",
       "\n",
       "    .dataframe tbody tr th {\n",
       "        vertical-align: top;\n",
       "    }\n",
       "</style>\n",
       "<table border=\"1\" class=\"dataframe\">\n",
       "  <thead>\n",
       "    <tr style=\"text-align: right;\">\n",
       "      <th></th>\n",
       "      <th>C010101/사과</th>\n",
       "      <th>C010102/배</th>\n",
       "      <th>C010103/감</th>\n",
       "      <th>C010104/귤류</th>\n",
       "      <th>C010105/유자/모과</th>\n",
       "      <th>C010106/복숭아</th>\n",
       "      <th>C010107/자두</th>\n",
       "      <th>C010108/살구</th>\n",
       "      <th>C010109/매실</th>\n",
       "      <th>C010110/딸기</th>\n",
       "      <th>...</th>\n",
       "      <th>C170647/아동서적</th>\n",
       "      <th>C170648/일반서적</th>\n",
       "      <th>C170650/일반교육완구</th>\n",
       "      <th>C170651/자연/과학완구</th>\n",
       "      <th>C170652/음악/악기완구</th>\n",
       "      <th>C170654/스포츠완구</th>\n",
       "      <th>C170655/실외놀이완구</th>\n",
       "      <th>C170657/미니자동차</th>\n",
       "      <th>C170662/역할놀이</th>\n",
       "      <th>C170701/생활잡화균일가</th>\n",
       "    </tr>\n",
       "  </thead>\n",
       "  <tbody>\n",
       "    <tr>\n",
       "      <th>0</th>\n",
       "      <td>0</td>\n",
       "      <td>0</td>\n",
       "      <td>0</td>\n",
       "      <td>0</td>\n",
       "      <td>0</td>\n",
       "      <td>0</td>\n",
       "      <td>0</td>\n",
       "      <td>0</td>\n",
       "      <td>0</td>\n",
       "      <td>0</td>\n",
       "      <td>...</td>\n",
       "      <td>0</td>\n",
       "      <td>0</td>\n",
       "      <td>0</td>\n",
       "      <td>0</td>\n",
       "      <td>0</td>\n",
       "      <td>0</td>\n",
       "      <td>0</td>\n",
       "      <td>0</td>\n",
       "      <td>0</td>\n",
       "      <td>0</td>\n",
       "    </tr>\n",
       "    <tr>\n",
       "      <th>1</th>\n",
       "      <td>1</td>\n",
       "      <td>0</td>\n",
       "      <td>0</td>\n",
       "      <td>0</td>\n",
       "      <td>0</td>\n",
       "      <td>0</td>\n",
       "      <td>0</td>\n",
       "      <td>0</td>\n",
       "      <td>0</td>\n",
       "      <td>0</td>\n",
       "      <td>...</td>\n",
       "      <td>0</td>\n",
       "      <td>0</td>\n",
       "      <td>0</td>\n",
       "      <td>0</td>\n",
       "      <td>0</td>\n",
       "      <td>0</td>\n",
       "      <td>0</td>\n",
       "      <td>0</td>\n",
       "      <td>0</td>\n",
       "      <td>1</td>\n",
       "    </tr>\n",
       "    <tr>\n",
       "      <th>2</th>\n",
       "      <td>0</td>\n",
       "      <td>0</td>\n",
       "      <td>0</td>\n",
       "      <td>0</td>\n",
       "      <td>0</td>\n",
       "      <td>0</td>\n",
       "      <td>0</td>\n",
       "      <td>0</td>\n",
       "      <td>0</td>\n",
       "      <td>0</td>\n",
       "      <td>...</td>\n",
       "      <td>0</td>\n",
       "      <td>0</td>\n",
       "      <td>0</td>\n",
       "      <td>0</td>\n",
       "      <td>0</td>\n",
       "      <td>0</td>\n",
       "      <td>0</td>\n",
       "      <td>0</td>\n",
       "      <td>0</td>\n",
       "      <td>1</td>\n",
       "    </tr>\n",
       "    <tr>\n",
       "      <th>3</th>\n",
       "      <td>0</td>\n",
       "      <td>0</td>\n",
       "      <td>0</td>\n",
       "      <td>0</td>\n",
       "      <td>0</td>\n",
       "      <td>0</td>\n",
       "      <td>0</td>\n",
       "      <td>0</td>\n",
       "      <td>0</td>\n",
       "      <td>1</td>\n",
       "      <td>...</td>\n",
       "      <td>0</td>\n",
       "      <td>0</td>\n",
       "      <td>0</td>\n",
       "      <td>0</td>\n",
       "      <td>0</td>\n",
       "      <td>0</td>\n",
       "      <td>0</td>\n",
       "      <td>0</td>\n",
       "      <td>0</td>\n",
       "      <td>0</td>\n",
       "    </tr>\n",
       "    <tr>\n",
       "      <th>4</th>\n",
       "      <td>0</td>\n",
       "      <td>0</td>\n",
       "      <td>0</td>\n",
       "      <td>0</td>\n",
       "      <td>0</td>\n",
       "      <td>0</td>\n",
       "      <td>0</td>\n",
       "      <td>0</td>\n",
       "      <td>0</td>\n",
       "      <td>0</td>\n",
       "      <td>...</td>\n",
       "      <td>0</td>\n",
       "      <td>0</td>\n",
       "      <td>0</td>\n",
       "      <td>0</td>\n",
       "      <td>0</td>\n",
       "      <td>0</td>\n",
       "      <td>0</td>\n",
       "      <td>0</td>\n",
       "      <td>0</td>\n",
       "      <td>0</td>\n",
       "    </tr>\n",
       "  </tbody>\n",
       "</table>\n",
       "<p>5 rows × 872 columns</p>\n",
       "</div>"
      ],
      "text/plain": [
       "   C010101/사과  C010102/배  C010103/감  C010104/귤류  C010105/유자/모과  C010106/복숭아  \\\n",
       "0           0          0          0           0              0            0   \n",
       "1           1          0          0           0              0            0   \n",
       "2           0          0          0           0              0            0   \n",
       "3           0          0          0           0              0            0   \n",
       "4           0          0          0           0              0            0   \n",
       "\n",
       "   C010107/자두  C010108/살구  C010109/매실  C010110/딸기       ...         \\\n",
       "0           0           0           0           0       ...          \n",
       "1           0           0           0           0       ...          \n",
       "2           0           0           0           0       ...          \n",
       "3           0           0           0           1       ...          \n",
       "4           0           0           0           0       ...          \n",
       "\n",
       "   C170647/아동서적  C170648/일반서적  C170650/일반교육완구  C170651/자연/과학완구  \\\n",
       "0             0             0               0                0   \n",
       "1             0             0               0                0   \n",
       "2             0             0               0                0   \n",
       "3             0             0               0                0   \n",
       "4             0             0               0                0   \n",
       "\n",
       "   C170652/음악/악기완구  C170654/스포츠완구  C170655/실외놀이완구  C170657/미니자동차  \\\n",
       "0                0              0               0              0   \n",
       "1                0              0               0              0   \n",
       "2                0              0               0              0   \n",
       "3                0              0               0              0   \n",
       "4                0              0               0              0   \n",
       "\n",
       "   C170662/역할놀이  C170701/생활잡화균일가  \n",
       "0             0                0  \n",
       "1             0                1  \n",
       "2             0                1  \n",
       "3             0                0  \n",
       "4             0                0  \n",
       "\n",
       "[5 rows x 872 columns]"
      ]
     },
     "execution_count": 4,
     "metadata": {},
     "output_type": "execute_result"
    }
   ],
   "source": [
    "train_label.head()"
   ]
  },
  {
   "cell_type": "code",
   "execution_count": 5,
   "metadata": {
    "collapsed": true
   },
   "outputs": [],
   "source": [
    "categorical_data = categorical_data.fillna(0)\n",
    "categorical_data.head()\n",
    "\n",
    "del categorical_data[\"영수증번호\"], categorical_data[\"고객번호\"]"
   ]
  },
  {
   "cell_type": "code",
   "execution_count": 6,
   "metadata": {
    "collapsed": true
   },
   "outputs": [],
   "source": [
    "continuous_data = continuous_data.fillna(0)\n",
    "continuous_data.head()\n",
    "\n",
    "del continuous_data[\"영수증번호\"], continuous_data[\"고객번호\"]"
   ]
  },
  {
   "cell_type": "markdown",
   "metadata": {},
   "source": [
    "본 문서에서는 고객별로 가장 최근 구매 내역을 Test 로 선정하고, 이전 9번의 구매내역을 Train 데이터로 선정하였습니다.  \n",
    "\n",
    "추천 방식은 Train 인 9번의 구매내역을 (누적 구매 내역) 이용해서 추천을 한 후 Test 데이터로 평가하는 방식을 소개합니다.  \n",
    "(Test 데이터는 추천 방식에 따라 달라질 수 있습니다. )"
   ]
  },
  {
   "cell_type": "markdown",
   "metadata": {},
   "source": [
    "---"
   ]
  },
  {
   "cell_type": "markdown",
   "metadata": {},
   "source": [
    "# 2. Doc2Vec"
   ]
  },
  {
   "cell_type": "code",
   "execution_count": 7,
   "metadata": {},
   "outputs": [
    {
     "data": {
      "text/plain": [
       "872"
      ]
     },
     "execution_count": 7,
     "metadata": {},
     "output_type": "execute_result"
    }
   ],
   "source": [
    "len(train_label.columns)"
   ]
  },
  {
   "cell_type": "markdown",
   "metadata": {},
   "source": [
    "해당 데이터의 column은 872개의 label을 가지고 있습니다.  \n",
    "이 데이터를 input으로 그냥 넣기에는 고전적 deep learning 방식이며 one-hot 방식을 취하므로 \"사과\" 라는 데이터를 구매한 특징을 잘 살리지 못할 수 있습니다.  \n",
    "\n",
    "이러한 이유로 해당 데이터를 Gensim의 Doc2Vec기술로 Embedding을 제안해 볼 수 있습니다. Hinton 교수님이 설명한 Deep learning에서 분산표현의 의미를 살리는 것입니다.   \n",
    "NLP 계열에서 사용하는 Doc2Vec을 상품에 적용한 Item2Vec 이라고 말하고 싶습니다."
   ]
  },
  {
   "cell_type": "code",
   "execution_count": 8,
   "metadata": {
    "collapsed": true
   },
   "outputs": [],
   "source": [
    "train_docs = [(str(row['item']).split(), row['고객번호']) for idx, row in train_data.iterrows()]\n",
    "test_docs = [(str(row['item']).split(), row['고객번호']) for idx, row in test_data.iterrows()]"
   ]
  },
  {
   "cell_type": "code",
   "execution_count": 9,
   "metadata": {},
   "outputs": [
    {
     "data": {
      "text/plain": [
       "(['C010215/기타수입과일',\n",
       "  'C030308/기타뿌리채소',\n",
       "  'C030506/봄동',\n",
       "  'C030602/새송이버섯류',\n",
       "  'C070302/치즈',\n",
       "  'C080304/소시지',\n",
       "  'C130101/채소병통조림',\n",
       "  'C150302/쿠키',\n",
       "  'C170206/종량제봉투',\n",
       "  'C170427/여성헤어액세서리'],\n",
       " 13889)"
      ]
     },
     "execution_count": 9,
     "metadata": {},
     "output_type": "execute_result"
    }
   ],
   "source": [
    "train_docs[0]"
   ]
  },
  {
   "cell_type": "markdown",
   "metadata": {},
   "source": [
    "위 list는 ID:13889 인 고객이 한 번 결제할 때 구매한 내역입니다."
   ]
  },
  {
   "cell_type": "code",
   "execution_count": 10,
   "metadata": {
    "collapsed": true
   },
   "outputs": [],
   "source": [
    "from gensim.models import doc2vec\n",
    "from collections import namedtuple\n",
    "import multiprocessing"
   ]
  },
  {
   "cell_type": "code",
   "execution_count": 11,
   "metadata": {
    "collapsed": true
   },
   "outputs": [],
   "source": [
    "TaggedDocument = namedtuple('TaggedDocument', 'words tags')\n",
    "tagged_train_docs = [TaggedDocument(d, [c]) for d, c in train_docs]\n",
    "tagged_test_docs = [TaggedDocument(d, [c]) for d, c in test_docs]\n",
    "\n",
    "cores = multiprocessing.cpu_count()"
   ]
  },
  {
   "cell_type": "markdown",
   "metadata": {},
   "source": [
    "해당 Parameters는 [Rakuten [1]](https://www.slideshare.net/rakutentech/recommender-system-with-distributed-representation) 에서 실험한 Doc2Vec을 이용한 상품추천 시스템에 적용한 최적의 결과를 적용하였습니다."
   ]
  },
  {
   "cell_type": "code",
   "execution_count": 20,
   "metadata": {},
   "outputs": [
    {
     "name": "stdout",
     "output_type": "stream",
     "text": [
      "Doc2Vec(dbow,d300,n5,hs,mc3,s1e-05,t16)\n"
     ]
    }
   ],
   "source": [
    "doc_vectorizer = doc2vec.Doc2Vec(\n",
    "    \n",
    "    dm = 0,            # PV-DBOW\n",
    "    dbow_words = 0,    # w2v simultaneous with DBOW d2v / default 0\n",
    "    window = 8,        # distance between the predicted word and context words \n",
    "    size = 300,        # vector size \n",
    "    alpha = 0.025,     # learning-rate\n",
    "    min_alpha = 0.025, # min learning-rate\n",
    "    \n",
    "    seed = 1,\n",
    "    \n",
    "    sample= 1e-5,      # threshold for configuring\n",
    "    min_count=3,       # ignore with freq lower\n",
    "    workers=cores,     # multi cpu\n",
    "    hs = 1             # hierarchical softmax / default 0\n",
    "    )\n",
    "\n",
    "doc_vectorizer.build_vocab(tagged_train_docs)\n",
    "print(str(doc_vectorizer))"
   ]
  },
  {
   "cell_type": "code",
   "execution_count": 21,
   "metadata": {},
   "outputs": [
    {
     "name": "stdout",
     "output_type": "stream",
     "text": [
      "CPU times: user 12.7 s, sys: 1.58 s, total: 14.3 s\n",
      "Wall time: 11.4 s\n",
      "CPU times: user 12.5 s, sys: 1.55 s, total: 14.1 s\n",
      "Wall time: 11.3 s\n",
      "CPU times: user 12.4 s, sys: 1.61 s, total: 14 s\n",
      "Wall time: 11.3 s\n",
      "CPU times: user 12.6 s, sys: 1.58 s, total: 14.2 s\n",
      "Wall time: 11.3 s\n",
      "CPU times: user 12.8 s, sys: 1.44 s, total: 14.2 s\n",
      "Wall time: 11.4 s\n",
      "CPU times: user 13 s, sys: 1.52 s, total: 14.5 s\n",
      "Wall time: 11.6 s\n",
      "CPU times: user 12.6 s, sys: 1.52 s, total: 14.2 s\n",
      "Wall time: 11.4 s\n",
      "CPU times: user 12.6 s, sys: 1.42 s, total: 14 s\n",
      "Wall time: 11.2 s\n",
      "CPU times: user 12.8 s, sys: 1.49 s, total: 14.3 s\n",
      "Wall time: 11.5 s\n",
      "CPU times: user 12.7 s, sys: 1.5 s, total: 14.2 s\n",
      "Wall time: 11.4 s\n",
      "CPU times: user 12.5 s, sys: 1.7 s, total: 14.2 s\n",
      "Wall time: 11.4 s\n",
      "CPU times: user 12.7 s, sys: 1.43 s, total: 14.2 s\n",
      "Wall time: 11.4 s\n",
      "CPU times: user 12.7 s, sys: 1.41 s, total: 14.1 s\n",
      "Wall time: 11.3 s\n",
      "CPU times: user 12.7 s, sys: 1.51 s, total: 14.2 s\n",
      "Wall time: 11.4 s\n",
      "CPU times: user 12.5 s, sys: 1.51 s, total: 14 s\n",
      "Wall time: 11.2 s\n",
      "CPU times: user 12.5 s, sys: 1.46 s, total: 14 s\n",
      "Wall time: 11.2 s\n",
      "CPU times: user 12.9 s, sys: 1.4 s, total: 14.3 s\n",
      "Wall time: 11.4 s\n",
      "CPU times: user 12.5 s, sys: 1.47 s, total: 14 s\n",
      "Wall time: 11.2 s\n",
      "CPU times: user 12.8 s, sys: 1.3 s, total: 14.1 s\n",
      "Wall time: 11.3 s\n",
      "CPU times: user 12.8 s, sys: 1.51 s, total: 14.3 s\n",
      "Wall time: 11.4 s\n"
     ]
    }
   ],
   "source": [
    "for epoch in range(20):\n",
    "    %time doc_vectorizer.train(tagged_train_docs)\n",
    "    doc_vectorizer.alpha -= 0.001\n",
    "    doc_vectorizer.min_alpha = doc_vectorizer.alpha"
   ]
  },
  {
   "cell_type": "code",
   "execution_count": 22,
   "metadata": {
    "collapsed": true
   },
   "outputs": [],
   "source": [
    "# To save\n",
    "doc_vectorizer.save('./Doc_model/Item2Vec.model')"
   ]
  },
  {
   "cell_type": "code",
   "execution_count": 12,
   "metadata": {
    "collapsed": true
   },
   "outputs": [],
   "source": [
    "# To load\n",
    "doc_vectorizer=doc2vec.Doc2Vec.load('./Doc_model/Item2Vec.model')"
   ]
  },
  {
   "cell_type": "markdown",
   "metadata": {},
   "source": [
    "Train 데이터를 이용해서 고객별 session 을 Doc2Vec 을 이용해서 학습하였습니다.  \n",
    "872개의 Item을 300 차원으로 Embedding 을 진행하여 각 column이 Items 의 특징을 가지게 되었습니다."
   ]
  },
  {
   "cell_type": "code",
   "execution_count": 13,
   "metadata": {
    "collapsed": true
   },
   "outputs": [],
   "source": [
    "train_item = [doc_vectorizer.infer_vector(doc.words) for doc in tagged_train_docs]"
   ]
  },
  {
   "cell_type": "code",
   "execution_count": 14,
   "metadata": {},
   "outputs": [
    {
     "data": {
      "text/html": [
       "<div>\n",
       "<style>\n",
       "    .dataframe thead tr:only-child th {\n",
       "        text-align: right;\n",
       "    }\n",
       "\n",
       "    .dataframe thead th {\n",
       "        text-align: left;\n",
       "    }\n",
       "\n",
       "    .dataframe tbody tr th {\n",
       "        vertical-align: top;\n",
       "    }\n",
       "</style>\n",
       "<table border=\"1\" class=\"dataframe\">\n",
       "  <thead>\n",
       "    <tr style=\"text-align: right;\">\n",
       "      <th></th>\n",
       "      <th>0</th>\n",
       "      <th>1</th>\n",
       "      <th>2</th>\n",
       "      <th>3</th>\n",
       "      <th>4</th>\n",
       "      <th>5</th>\n",
       "      <th>6</th>\n",
       "      <th>7</th>\n",
       "      <th>8</th>\n",
       "      <th>9</th>\n",
       "      <th>...</th>\n",
       "      <th>290</th>\n",
       "      <th>291</th>\n",
       "      <th>292</th>\n",
       "      <th>293</th>\n",
       "      <th>294</th>\n",
       "      <th>295</th>\n",
       "      <th>296</th>\n",
       "      <th>297</th>\n",
       "      <th>298</th>\n",
       "      <th>299</th>\n",
       "    </tr>\n",
       "  </thead>\n",
       "  <tbody>\n",
       "    <tr>\n",
       "      <th>0</th>\n",
       "      <td>0.128859</td>\n",
       "      <td>-0.108076</td>\n",
       "      <td>-0.027360</td>\n",
       "      <td>-0.083252</td>\n",
       "      <td>-0.045981</td>\n",
       "      <td>-0.009877</td>\n",
       "      <td>0.250382</td>\n",
       "      <td>0.085453</td>\n",
       "      <td>0.176705</td>\n",
       "      <td>0.007599</td>\n",
       "      <td>...</td>\n",
       "      <td>-0.003815</td>\n",
       "      <td>-0.042487</td>\n",
       "      <td>0.010719</td>\n",
       "      <td>-0.094222</td>\n",
       "      <td>-0.053283</td>\n",
       "      <td>0.122606</td>\n",
       "      <td>0.070666</td>\n",
       "      <td>-0.198512</td>\n",
       "      <td>0.142067</td>\n",
       "      <td>0.059067</td>\n",
       "    </tr>\n",
       "    <tr>\n",
       "      <th>1</th>\n",
       "      <td>-0.034619</td>\n",
       "      <td>-0.103194</td>\n",
       "      <td>0.008407</td>\n",
       "      <td>0.176803</td>\n",
       "      <td>0.027261</td>\n",
       "      <td>-0.035091</td>\n",
       "      <td>-0.012493</td>\n",
       "      <td>0.074029</td>\n",
       "      <td>0.138146</td>\n",
       "      <td>0.095728</td>\n",
       "      <td>...</td>\n",
       "      <td>-0.051408</td>\n",
       "      <td>-0.009371</td>\n",
       "      <td>0.018060</td>\n",
       "      <td>0.064059</td>\n",
       "      <td>-0.202544</td>\n",
       "      <td>-0.091100</td>\n",
       "      <td>0.061994</td>\n",
       "      <td>-0.111594</td>\n",
       "      <td>0.174368</td>\n",
       "      <td>0.001487</td>\n",
       "    </tr>\n",
       "    <tr>\n",
       "      <th>2</th>\n",
       "      <td>-0.001139</td>\n",
       "      <td>0.001934</td>\n",
       "      <td>-0.002214</td>\n",
       "      <td>-0.002704</td>\n",
       "      <td>0.001958</td>\n",
       "      <td>0.002594</td>\n",
       "      <td>-0.000482</td>\n",
       "      <td>0.004479</td>\n",
       "      <td>0.002097</td>\n",
       "      <td>0.000473</td>\n",
       "      <td>...</td>\n",
       "      <td>0.000439</td>\n",
       "      <td>-0.002068</td>\n",
       "      <td>0.000044</td>\n",
       "      <td>0.000123</td>\n",
       "      <td>-0.003152</td>\n",
       "      <td>0.001432</td>\n",
       "      <td>0.000613</td>\n",
       "      <td>-0.000067</td>\n",
       "      <td>-0.001971</td>\n",
       "      <td>0.001944</td>\n",
       "    </tr>\n",
       "    <tr>\n",
       "      <th>3</th>\n",
       "      <td>0.019129</td>\n",
       "      <td>0.046102</td>\n",
       "      <td>0.055549</td>\n",
       "      <td>-0.086795</td>\n",
       "      <td>0.071184</td>\n",
       "      <td>0.014293</td>\n",
       "      <td>0.028075</td>\n",
       "      <td>0.163346</td>\n",
       "      <td>0.026578</td>\n",
       "      <td>0.025614</td>\n",
       "      <td>...</td>\n",
       "      <td>-0.039438</td>\n",
       "      <td>-0.056394</td>\n",
       "      <td>0.060592</td>\n",
       "      <td>-0.108922</td>\n",
       "      <td>-0.009827</td>\n",
       "      <td>0.029451</td>\n",
       "      <td>0.040038</td>\n",
       "      <td>-0.000561</td>\n",
       "      <td>0.023137</td>\n",
       "      <td>0.040183</td>\n",
       "    </tr>\n",
       "    <tr>\n",
       "      <th>4</th>\n",
       "      <td>-0.002009</td>\n",
       "      <td>-0.000054</td>\n",
       "      <td>0.002682</td>\n",
       "      <td>0.002730</td>\n",
       "      <td>-0.000751</td>\n",
       "      <td>0.001106</td>\n",
       "      <td>0.000047</td>\n",
       "      <td>0.001299</td>\n",
       "      <td>-0.001158</td>\n",
       "      <td>-0.001414</td>\n",
       "      <td>...</td>\n",
       "      <td>-0.001678</td>\n",
       "      <td>0.000672</td>\n",
       "      <td>0.000075</td>\n",
       "      <td>-0.001737</td>\n",
       "      <td>0.000515</td>\n",
       "      <td>-0.001130</td>\n",
       "      <td>0.000452</td>\n",
       "      <td>-0.001545</td>\n",
       "      <td>0.000497</td>\n",
       "      <td>0.002335</td>\n",
       "    </tr>\n",
       "  </tbody>\n",
       "</table>\n",
       "<p>5 rows × 300 columns</p>\n",
       "</div>"
      ],
      "text/plain": [
       "        0         1         2         3         4         5         6    \\\n",
       "0  0.128859 -0.108076 -0.027360 -0.083252 -0.045981 -0.009877  0.250382   \n",
       "1 -0.034619 -0.103194  0.008407  0.176803  0.027261 -0.035091 -0.012493   \n",
       "2 -0.001139  0.001934 -0.002214 -0.002704  0.001958  0.002594 -0.000482   \n",
       "3  0.019129  0.046102  0.055549 -0.086795  0.071184  0.014293  0.028075   \n",
       "4 -0.002009 -0.000054  0.002682  0.002730 -0.000751  0.001106  0.000047   \n",
       "\n",
       "        7         8         9      ...          290       291       292  \\\n",
       "0  0.085453  0.176705  0.007599    ...    -0.003815 -0.042487  0.010719   \n",
       "1  0.074029  0.138146  0.095728    ...    -0.051408 -0.009371  0.018060   \n",
       "2  0.004479  0.002097  0.000473    ...     0.000439 -0.002068  0.000044   \n",
       "3  0.163346  0.026578  0.025614    ...    -0.039438 -0.056394  0.060592   \n",
       "4  0.001299 -0.001158 -0.001414    ...    -0.001678  0.000672  0.000075   \n",
       "\n",
       "        293       294       295       296       297       298       299  \n",
       "0 -0.094222 -0.053283  0.122606  0.070666 -0.198512  0.142067  0.059067  \n",
       "1  0.064059 -0.202544 -0.091100  0.061994 -0.111594  0.174368  0.001487  \n",
       "2  0.000123 -0.003152  0.001432  0.000613 -0.000067 -0.001971  0.001944  \n",
       "3 -0.108922 -0.009827  0.029451  0.040038 -0.000561  0.023137  0.040183  \n",
       "4 -0.001737  0.000515 -0.001130  0.000452 -0.001545  0.000497  0.002335  \n",
       "\n",
       "[5 rows x 300 columns]"
      ]
     },
     "execution_count": 14,
     "metadata": {},
     "output_type": "execute_result"
    }
   ],
   "source": [
    "train_item_pd = pd.DataFrame(train_item)\n",
    "train_item_pd.head()"
   ]
  },
  {
   "cell_type": "markdown",
   "metadata": {},
   "source": [
    "---"
   ]
  },
  {
   "cell_type": "markdown",
   "metadata": {},
   "source": [
    "# 2. Wide & Deep learning"
   ]
  },
  {
   "cell_type": "markdown",
   "metadata": {},
   "source": [
    "## Define Base Feature Columns"
   ]
  },
  {
   "cell_type": "code",
   "execution_count": 15,
   "metadata": {
    "collapsed": true
   },
   "outputs": [],
   "source": [
    "import tensorflow as tf\n",
    "from tensorflow.contrib import layers\n",
    "from tensorflow.contrib.learn import preprocessing\n",
    "from datetime import datetime"
   ]
  },
  {
   "cell_type": "markdown",
   "metadata": {},
   "source": [
    "Wide 에 넣은 Cross_column 입니다."
   ]
  },
  {
   "cell_type": "code",
   "execution_count": 16,
   "metadata": {
    "collapsed": true
   },
   "outputs": [],
   "source": [
    "def cross_columns(data, cross_colnames):\n",
    "    for i in cross_colnames:\n",
    "        tmp = 0\n",
    "        for j in i:\n",
    "            tmp += 1\n",
    "            if tmp == 1:\n",
    "                cross_data = data[j]\n",
    "                columns = j\n",
    "            else:\n",
    "                cross_data = cross_data + data[j]\n",
    "                columns = columns + \"+\" + j\n",
    "        data[columns] = cross_data\n",
    "        \n",
    "    return data"
   ]
  },
  {
   "cell_type": "markdown",
   "metadata": {},
   "source": [
    "고객 특징인 데이터들을 합치고 더미화 합니다."
   ]
  },
  {
   "cell_type": "code",
   "execution_count": 17,
   "metadata": {
    "collapsed": true
   },
   "outputs": [],
   "source": [
    "user_feature = pd.DataFrame(pd.concat([categorical_data, continuous_data], axis=1, join_axes=[categorical_data.index]))\n",
    "user_feature_dm = pd.get_dummies(user_feature)"
   ]
  },
  {
   "cell_type": "code",
   "execution_count": 18,
   "metadata": {
    "scrolled": true
   },
   "outputs": [
    {
     "data": {
      "text/html": [
       "<div>\n",
       "<style>\n",
       "    .dataframe thead tr:only-child th {\n",
       "        text-align: right;\n",
       "    }\n",
       "\n",
       "    .dataframe thead th {\n",
       "        text-align: left;\n",
       "    }\n",
       "\n",
       "    .dataframe tbody tr th {\n",
       "        vertical-align: top;\n",
       "    }\n",
       "</style>\n",
       "<table border=\"1\" class=\"dataframe\">\n",
       "  <thead>\n",
       "    <tr style=\"text-align: right;\">\n",
       "      <th></th>\n",
       "      <th>다둥이</th>\n",
       "      <th>더영</th>\n",
       "      <th>롭스</th>\n",
       "      <th>하이마트</th>\n",
       "      <th>A_MOBILE/APP</th>\n",
       "      <th>B_MOBILE/APP</th>\n",
       "      <th>B_ONLINEMALL</th>\n",
       "      <th>C_MOBILE/APP</th>\n",
       "      <th>C_ONLINEMALL</th>\n",
       "      <th>D_MOBILE/APP</th>\n",
       "      <th>...</th>\n",
       "      <th>A거주지역_A630</th>\n",
       "      <th>A거주지역_A65</th>\n",
       "      <th>A거주지역_A69</th>\n",
       "      <th>A거주지역_A72</th>\n",
       "      <th>A거주지역_A75</th>\n",
       "      <th>A거주지역_A79</th>\n",
       "      <th>A거주지역_A82</th>\n",
       "      <th>A거주지역_A85</th>\n",
       "      <th>A거주지역_A87</th>\n",
       "      <th>A거주지역_ANA</th>\n",
       "    </tr>\n",
       "  </thead>\n",
       "  <tbody>\n",
       "    <tr>\n",
       "      <th>0</th>\n",
       "      <td>0.0</td>\n",
       "      <td>0.0</td>\n",
       "      <td>0.0</td>\n",
       "      <td>0.0</td>\n",
       "      <td>0.0</td>\n",
       "      <td>0.0</td>\n",
       "      <td>0.0</td>\n",
       "      <td>0.0</td>\n",
       "      <td>0.0</td>\n",
       "      <td>0.0</td>\n",
       "      <td>...</td>\n",
       "      <td>0</td>\n",
       "      <td>0</td>\n",
       "      <td>0</td>\n",
       "      <td>0</td>\n",
       "      <td>0</td>\n",
       "      <td>0</td>\n",
       "      <td>0</td>\n",
       "      <td>0</td>\n",
       "      <td>0</td>\n",
       "      <td>0</td>\n",
       "    </tr>\n",
       "    <tr>\n",
       "      <th>1</th>\n",
       "      <td>0.0</td>\n",
       "      <td>0.0</td>\n",
       "      <td>0.0</td>\n",
       "      <td>0.0</td>\n",
       "      <td>4.0</td>\n",
       "      <td>0.0</td>\n",
       "      <td>0.0</td>\n",
       "      <td>0.0</td>\n",
       "      <td>0.0</td>\n",
       "      <td>0.0</td>\n",
       "      <td>...</td>\n",
       "      <td>0</td>\n",
       "      <td>0</td>\n",
       "      <td>0</td>\n",
       "      <td>0</td>\n",
       "      <td>0</td>\n",
       "      <td>0</td>\n",
       "      <td>0</td>\n",
       "      <td>0</td>\n",
       "      <td>0</td>\n",
       "      <td>0</td>\n",
       "    </tr>\n",
       "    <tr>\n",
       "      <th>2</th>\n",
       "      <td>0.0</td>\n",
       "      <td>0.0</td>\n",
       "      <td>0.0</td>\n",
       "      <td>0.0</td>\n",
       "      <td>4.0</td>\n",
       "      <td>0.0</td>\n",
       "      <td>0.0</td>\n",
       "      <td>0.0</td>\n",
       "      <td>0.0</td>\n",
       "      <td>0.0</td>\n",
       "      <td>...</td>\n",
       "      <td>0</td>\n",
       "      <td>0</td>\n",
       "      <td>0</td>\n",
       "      <td>0</td>\n",
       "      <td>0</td>\n",
       "      <td>0</td>\n",
       "      <td>0</td>\n",
       "      <td>0</td>\n",
       "      <td>0</td>\n",
       "      <td>0</td>\n",
       "    </tr>\n",
       "    <tr>\n",
       "      <th>3</th>\n",
       "      <td>0.0</td>\n",
       "      <td>0.0</td>\n",
       "      <td>0.0</td>\n",
       "      <td>0.0</td>\n",
       "      <td>4.0</td>\n",
       "      <td>0.0</td>\n",
       "      <td>0.0</td>\n",
       "      <td>0.0</td>\n",
       "      <td>0.0</td>\n",
       "      <td>0.0</td>\n",
       "      <td>...</td>\n",
       "      <td>0</td>\n",
       "      <td>0</td>\n",
       "      <td>0</td>\n",
       "      <td>0</td>\n",
       "      <td>0</td>\n",
       "      <td>0</td>\n",
       "      <td>0</td>\n",
       "      <td>0</td>\n",
       "      <td>0</td>\n",
       "      <td>0</td>\n",
       "    </tr>\n",
       "    <tr>\n",
       "      <th>4</th>\n",
       "      <td>0.0</td>\n",
       "      <td>0.0</td>\n",
       "      <td>0.0</td>\n",
       "      <td>0.0</td>\n",
       "      <td>0.0</td>\n",
       "      <td>4.0</td>\n",
       "      <td>4.0</td>\n",
       "      <td>0.0</td>\n",
       "      <td>0.0</td>\n",
       "      <td>0.0</td>\n",
       "      <td>...</td>\n",
       "      <td>0</td>\n",
       "      <td>0</td>\n",
       "      <td>0</td>\n",
       "      <td>0</td>\n",
       "      <td>0</td>\n",
       "      <td>0</td>\n",
       "      <td>0</td>\n",
       "      <td>0</td>\n",
       "      <td>0</td>\n",
       "      <td>0</td>\n",
       "    </tr>\n",
       "  </tbody>\n",
       "</table>\n",
       "<p>5 rows × 73 columns</p>\n",
       "</div>"
      ],
      "text/plain": [
       "   다둥이   더영   롭스  하이마트  A_MOBILE/APP  B_MOBILE/APP  B_ONLINEMALL  \\\n",
       "0  0.0  0.0  0.0   0.0           0.0           0.0           0.0   \n",
       "1  0.0  0.0  0.0   0.0           4.0           0.0           0.0   \n",
       "2  0.0  0.0  0.0   0.0           4.0           0.0           0.0   \n",
       "3  0.0  0.0  0.0   0.0           4.0           0.0           0.0   \n",
       "4  0.0  0.0  0.0   0.0           0.0           4.0           4.0   \n",
       "\n",
       "   C_MOBILE/APP  C_ONLINEMALL  D_MOBILE/APP    ...      A거주지역_A630  A거주지역_A65  \\\n",
       "0           0.0           0.0           0.0    ...               0          0   \n",
       "1           0.0           0.0           0.0    ...               0          0   \n",
       "2           0.0           0.0           0.0    ...               0          0   \n",
       "3           0.0           0.0           0.0    ...               0          0   \n",
       "4           0.0           0.0           0.0    ...               0          0   \n",
       "\n",
       "   A거주지역_A69  A거주지역_A72  A거주지역_A75  A거주지역_A79  A거주지역_A82  A거주지역_A85  \\\n",
       "0          0          0          0          0          0          0   \n",
       "1          0          0          0          0          0          0   \n",
       "2          0          0          0          0          0          0   \n",
       "3          0          0          0          0          0          0   \n",
       "4          0          0          0          0          0          0   \n",
       "\n",
       "   A거주지역_A87  A거주지역_ANA  \n",
       "0          0          0  \n",
       "1          0          0  \n",
       "2          0          0  \n",
       "3          0          0  \n",
       "4          0          0  \n",
       "\n",
       "[5 rows x 73 columns]"
      ]
     },
     "execution_count": 18,
     "metadata": {},
     "output_type": "execute_result"
    }
   ],
   "source": [
    "user_feature_dm.head()"
   ]
  },
  {
   "cell_type": "markdown",
   "metadata": {},
   "source": [
    "Deep learningn 부분에 input할 데이터가 만들어 졌습니다."
   ]
  },
  {
   "cell_type": "code",
   "execution_count": 19,
   "metadata": {
    "collapsed": true
   },
   "outputs": [],
   "source": [
    "Deep_data = pd.DataFrame(pd.concat([train_item_pd, user_feature_dm], axis=1, join_axes=[train_item_pd.index]))"
   ]
  },
  {
   "cell_type": "markdown",
   "metadata": {},
   "source": [
    "### Cross columns"
   ]
  },
  {
   "cell_type": "markdown",
   "metadata": {},
   "source": [
    "Wide 부분에 들어갈 Cross_culumns 들을 만드는 부분입니다."
   ]
  },
  {
   "cell_type": "code",
   "execution_count": 20,
   "metadata": {
    "collapsed": true
   },
   "outputs": [],
   "source": [
    "CROSS_COLUMNS = [[\"성별\", \"연령대\"],\n",
    "                 [\"다둥이\", \"더영\", \"롭스\", \"하이마트\"]]"
   ]
  },
  {
   "cell_type": "code",
   "execution_count": 21,
   "metadata": {},
   "outputs": [
    {
     "data": {
      "text/html": [
       "<div>\n",
       "<style>\n",
       "    .dataframe thead tr:only-child th {\n",
       "        text-align: right;\n",
       "    }\n",
       "\n",
       "    .dataframe thead th {\n",
       "        text-align: left;\n",
       "    }\n",
       "\n",
       "    .dataframe tbody tr th {\n",
       "        vertical-align: top;\n",
       "    }\n",
       "</style>\n",
       "<table border=\"1\" class=\"dataframe\">\n",
       "  <thead>\n",
       "    <tr style=\"text-align: right;\">\n",
       "      <th></th>\n",
       "      <th>다둥이</th>\n",
       "      <th>더영</th>\n",
       "      <th>롭스</th>\n",
       "      <th>하이마트</th>\n",
       "      <th>A_MOBILE/APP</th>\n",
       "      <th>B_MOBILE/APP</th>\n",
       "      <th>B_ONLINEMALL</th>\n",
       "      <th>C_MOBILE/APP</th>\n",
       "      <th>C_ONLINEMALL</th>\n",
       "      <th>D_MOBILE/APP</th>\n",
       "      <th>...</th>\n",
       "      <th>성별+연령대_M19세이하</th>\n",
       "      <th>성별+연령대_M20세~24세</th>\n",
       "      <th>성별+연령대_M25세~29세</th>\n",
       "      <th>성별+연령대_M30세~34세</th>\n",
       "      <th>성별+연령대_M35세~39세</th>\n",
       "      <th>성별+연령대_M40세~44세</th>\n",
       "      <th>성별+연령대_M45세~49세</th>\n",
       "      <th>성별+연령대_M50세~54세</th>\n",
       "      <th>성별+연령대_M55세~59세</th>\n",
       "      <th>성별+연령대_M60세이상</th>\n",
       "    </tr>\n",
       "  </thead>\n",
       "  <tbody>\n",
       "    <tr>\n",
       "      <th>0</th>\n",
       "      <td>0.0</td>\n",
       "      <td>0.0</td>\n",
       "      <td>0.0</td>\n",
       "      <td>0.0</td>\n",
       "      <td>0.0</td>\n",
       "      <td>0.0</td>\n",
       "      <td>0.0</td>\n",
       "      <td>0.0</td>\n",
       "      <td>0.0</td>\n",
       "      <td>0.0</td>\n",
       "      <td>...</td>\n",
       "      <td>0</td>\n",
       "      <td>0</td>\n",
       "      <td>0</td>\n",
       "      <td>0</td>\n",
       "      <td>0</td>\n",
       "      <td>0</td>\n",
       "      <td>0</td>\n",
       "      <td>0</td>\n",
       "      <td>0</td>\n",
       "      <td>0</td>\n",
       "    </tr>\n",
       "    <tr>\n",
       "      <th>1</th>\n",
       "      <td>0.0</td>\n",
       "      <td>0.0</td>\n",
       "      <td>0.0</td>\n",
       "      <td>0.0</td>\n",
       "      <td>4.0</td>\n",
       "      <td>0.0</td>\n",
       "      <td>0.0</td>\n",
       "      <td>0.0</td>\n",
       "      <td>0.0</td>\n",
       "      <td>0.0</td>\n",
       "      <td>...</td>\n",
       "      <td>0</td>\n",
       "      <td>0</td>\n",
       "      <td>0</td>\n",
       "      <td>0</td>\n",
       "      <td>0</td>\n",
       "      <td>0</td>\n",
       "      <td>0</td>\n",
       "      <td>0</td>\n",
       "      <td>0</td>\n",
       "      <td>0</td>\n",
       "    </tr>\n",
       "    <tr>\n",
       "      <th>2</th>\n",
       "      <td>0.0</td>\n",
       "      <td>0.0</td>\n",
       "      <td>0.0</td>\n",
       "      <td>0.0</td>\n",
       "      <td>4.0</td>\n",
       "      <td>0.0</td>\n",
       "      <td>0.0</td>\n",
       "      <td>0.0</td>\n",
       "      <td>0.0</td>\n",
       "      <td>0.0</td>\n",
       "      <td>...</td>\n",
       "      <td>0</td>\n",
       "      <td>0</td>\n",
       "      <td>0</td>\n",
       "      <td>0</td>\n",
       "      <td>0</td>\n",
       "      <td>0</td>\n",
       "      <td>0</td>\n",
       "      <td>0</td>\n",
       "      <td>0</td>\n",
       "      <td>0</td>\n",
       "    </tr>\n",
       "    <tr>\n",
       "      <th>3</th>\n",
       "      <td>0.0</td>\n",
       "      <td>0.0</td>\n",
       "      <td>0.0</td>\n",
       "      <td>0.0</td>\n",
       "      <td>4.0</td>\n",
       "      <td>0.0</td>\n",
       "      <td>0.0</td>\n",
       "      <td>0.0</td>\n",
       "      <td>0.0</td>\n",
       "      <td>0.0</td>\n",
       "      <td>...</td>\n",
       "      <td>0</td>\n",
       "      <td>0</td>\n",
       "      <td>0</td>\n",
       "      <td>0</td>\n",
       "      <td>0</td>\n",
       "      <td>0</td>\n",
       "      <td>0</td>\n",
       "      <td>0</td>\n",
       "      <td>0</td>\n",
       "      <td>0</td>\n",
       "    </tr>\n",
       "    <tr>\n",
       "      <th>4</th>\n",
       "      <td>0.0</td>\n",
       "      <td>0.0</td>\n",
       "      <td>0.0</td>\n",
       "      <td>0.0</td>\n",
       "      <td>0.0</td>\n",
       "      <td>4.0</td>\n",
       "      <td>4.0</td>\n",
       "      <td>0.0</td>\n",
       "      <td>0.0</td>\n",
       "      <td>0.0</td>\n",
       "      <td>...</td>\n",
       "      <td>0</td>\n",
       "      <td>0</td>\n",
       "      <td>0</td>\n",
       "      <td>0</td>\n",
       "      <td>0</td>\n",
       "      <td>0</td>\n",
       "      <td>0</td>\n",
       "      <td>0</td>\n",
       "      <td>0</td>\n",
       "      <td>0</td>\n",
       "    </tr>\n",
       "  </tbody>\n",
       "</table>\n",
       "<p>5 rows × 94 columns</p>\n",
       "</div>"
      ],
      "text/plain": [
       "   다둥이   더영   롭스  하이마트  A_MOBILE/APP  B_MOBILE/APP  B_ONLINEMALL  \\\n",
       "0  0.0  0.0  0.0   0.0           0.0           0.0           0.0   \n",
       "1  0.0  0.0  0.0   0.0           4.0           0.0           0.0   \n",
       "2  0.0  0.0  0.0   0.0           4.0           0.0           0.0   \n",
       "3  0.0  0.0  0.0   0.0           4.0           0.0           0.0   \n",
       "4  0.0  0.0  0.0   0.0           0.0           4.0           4.0   \n",
       "\n",
       "   C_MOBILE/APP  C_ONLINEMALL  D_MOBILE/APP      ...        성별+연령대_M19세이하  \\\n",
       "0           0.0           0.0           0.0      ...                    0   \n",
       "1           0.0           0.0           0.0      ...                    0   \n",
       "2           0.0           0.0           0.0      ...                    0   \n",
       "3           0.0           0.0           0.0      ...                    0   \n",
       "4           0.0           0.0           0.0      ...                    0   \n",
       "\n",
       "   성별+연령대_M20세~24세  성별+연령대_M25세~29세  성별+연령대_M30세~34세  성별+연령대_M35세~39세  \\\n",
       "0                0                0                0                0   \n",
       "1                0                0                0                0   \n",
       "2                0                0                0                0   \n",
       "3                0                0                0                0   \n",
       "4                0                0                0                0   \n",
       "\n",
       "   성별+연령대_M40세~44세  성별+연령대_M45세~49세  성별+연령대_M50세~54세  성별+연령대_M55세~59세  \\\n",
       "0                0                0                0                0   \n",
       "1                0                0                0                0   \n",
       "2                0                0                0                0   \n",
       "3                0                0                0                0   \n",
       "4                0                0                0                0   \n",
       "\n",
       "   성별+연령대_M60세이상  \n",
       "0              0  \n",
       "1              0  \n",
       "2              0  \n",
       "3              0  \n",
       "4              0  \n",
       "\n",
       "[5 rows x 94 columns]"
      ]
     },
     "execution_count": 21,
     "metadata": {},
     "output_type": "execute_result"
    }
   ],
   "source": [
    "user_feature_cc = pd.get_dummies(cross_columns(user_feature, CROSS_COLUMNS))\n",
    "user_feature_cc.head()"
   ]
  },
  {
   "cell_type": "code",
   "execution_count": 22,
   "metadata": {
    "collapsed": true
   },
   "outputs": [],
   "source": [
    "Wide_data = pd.DataFrame(pd.concat([train_item_pd, user_feature_cc], axis=1, join_axes=[train_item_pd.index]))"
   ]
  },
  {
   "cell_type": "code",
   "execution_count": 23,
   "metadata": {},
   "outputs": [
    {
     "name": "stdout",
     "output_type": "stream",
     "text": [
      "373\n",
      "394\n"
     ]
    }
   ],
   "source": [
    "print(len(Deep_data.columns))\n",
    "print(len(Wide_data.columns))"
   ]
  },
  {
   "cell_type": "markdown",
   "metadata": {},
   "source": [
    "---"
   ]
  },
  {
   "cell_type": "markdown",
   "metadata": {},
   "source": [
    "# 3. Wide & Deep learning"
   ]
  },
  {
   "cell_type": "code",
   "execution_count": 24,
   "metadata": {
    "collapsed": true
   },
   "outputs": [],
   "source": [
    "# parameters\n",
    "keep_prob = 0.7\n",
    "learning_rate = 1e-5\n",
    "training_epochs = 1001\n",
    "batch_size = 128\n",
    "\n",
    "wide_size = len(Wide_data.columns)\n",
    "deep_size = len(Deep_data.columns)\n",
    "output_size = len(train_label.columns)\n",
    "\n",
    "He = tf.contrib.layers.variance_scaling_initializer()\n",
    "\n",
    "# input place holders\n",
    "tf.reset_default_graph()\n",
    "Wide = tf.placeholder(tf.float32, [None, wide_size])\n",
    "Deep = tf.placeholder(tf.float32, [None, deep_size])\n",
    "Y = tf.placeholder(tf.float32, [None, output_size])\n",
    "train_mode = tf.placeholder(tf.bool, name='train_mode')"
   ]
  },
  {
   "cell_type": "markdown",
   "metadata": {},
   "source": [
    "## Wide"
   ]
  },
  {
   "cell_type": "code",
   "execution_count": 25,
   "metadata": {
    "collapsed": true
   },
   "outputs": [],
   "source": [
    "A = tf.get_variable(\"A\", shape=[wide_size, output_size])\n",
    "b = tf.Variable(tf.random_normal([output_size]))\n",
    "\n",
    "wide = tf.add(tf.matmul(Wide, A), b)"
   ]
  },
  {
   "cell_type": "markdown",
   "metadata": {},
   "source": [
    "## Deep"
   ]
  },
  {
   "cell_type": "code",
   "execution_count": 26,
   "metadata": {
    "collapsed": true
   },
   "outputs": [],
   "source": [
    "W1 = tf.get_variable(\"W1\", shape=[deep_size, 1024], initializer=He)\n",
    "b1 = tf.Variable(tf.random_normal([1024]))\n",
    "L1 = tf.nn.relu(tf.matmul(Deep, W1) + b1)\n",
    "\n",
    "W2 = tf.get_variable(\"W2\", shape=[1024, 512], initializer=He)\n",
    "b2 = tf.Variable(tf.random_normal([512]))\n",
    "L2 = tf.nn.relu(tf.matmul(L1, W2) + b2)\n",
    "\n",
    "W3 = tf.get_variable(\"W3\", shape=[512, 256], initializer=He)\n",
    "b3 = tf.Variable(tf.random_normal([256]))\n",
    "L3 = tf.nn.relu(tf.matmul(L2, W3) + b3)\n",
    "\n",
    "W4 = tf.get_variable(\"W4\", shape=[256, output_size], initializer=He)\n",
    "b4 = tf.Variable(tf.random_normal([output_size]))\n",
    "\n",
    "deep = tf.add(tf.matmul(L3, W4), b4)"
   ]
  },
  {
   "cell_type": "code",
   "execution_count": 27,
   "metadata": {
    "collapsed": true
   },
   "outputs": [],
   "source": [
    "hypothesis = wide + deep"
   ]
  },
  {
   "cell_type": "code",
   "execution_count": 28,
   "metadata": {
    "collapsed": true
   },
   "outputs": [],
   "source": [
    "cost = tf.reduce_mean(tf.nn.sigmoid_cross_entropy_with_logits(logits=hypothesis, labels=Y))\n",
    "optimizer = tf.train.AdamOptimizer(learning_rate=learning_rate).minimize(cost)"
   ]
  },
  {
   "cell_type": "code",
   "execution_count": 29,
   "metadata": {
    "collapsed": true
   },
   "outputs": [],
   "source": [
    "# initialize\n",
    "sess = tf.Session()\n",
    "sess.run(tf.global_variables_initializer())"
   ]
  },
  {
   "cell_type": "markdown",
   "metadata": {},
   "source": [
    "1000번 학습합니다."
   ]
  },
  {
   "cell_type": "code",
   "execution_count": 30,
   "metadata": {},
   "outputs": [
    {
     "name": "stdout",
     "output_type": "stream",
     "text": [
      "[Epoch:    0][Cost: 0.79014][2017-08-10 20:13:27]\n",
      "[Epoch:  100][Cost: 0.03578][2017-08-10 20:18:08]\n",
      "[Epoch:  200][Cost: 0.03458][2017-08-10 20:22:45]\n",
      "[Epoch:  300][Cost: 0.03382][2017-08-10 20:27:23]\n",
      "[Epoch:  400][Cost: 0.03326][2017-08-10 20:32:00]\n",
      "[Epoch:  500][Cost: 0.03278][2017-08-10 20:36:38]\n",
      "[Epoch:  600][Cost: 0.03233][2017-08-10 20:41:16]\n",
      "[Epoch:  700][Cost: 0.03192][2017-08-10 20:45:53]\n",
      "[Epoch:  800][Cost: 0.03154][2017-08-10 20:50:32]\n",
      "[Epoch:  900][Cost: 0.03118][2017-08-10 20:55:09]\n",
      "Learning Finished!\n"
     ]
    }
   ],
   "source": [
    "for epoch in range(training_epochs):\n",
    "    avg_cost = 0\n",
    "    total_batch = int(len(Deep_data) / batch_size)\n",
    "\n",
    "    for i in range(0, len(Deep_data), batch_size):\n",
    "        batch_wide = Wide_data[i:i+batch_size]\n",
    "        batch_deep = Deep_data[i:i+batch_size]\n",
    "        batch_label = train_label[i:i+batch_size]\n",
    "\n",
    "        feed_dict_train = {Wide: batch_wide, Deep: batch_deep, Y: batch_label}\n",
    "        opt, c = sess.run([optimizer, cost], feed_dict=feed_dict_train)\n",
    "\n",
    "        avg_cost += c/total_batch\n",
    "\n",
    "    if epoch % 100 == 0:\n",
    "        time = datetime.now().strftime('%Y-%m-%d %H:%M:%S')\n",
    "        print(\"[Epoch: {:>4}][Cost: {:>.5f}][{}]\".format(epoch, avg_cost, time))\n",
    "\n",
    "print('Learning Finished!')"
   ]
  },
  {
   "cell_type": "markdown",
   "metadata": {},
   "source": [
    "---"
   ]
  },
  {
   "cell_type": "markdown",
   "metadata": {},
   "source": [
    "### 모형평가"
   ]
  },
  {
   "cell_type": "markdown",
   "metadata": {},
   "source": [
    "단순한 Accuracy를 확인하면 다음과 같습니다."
   ]
  },
  {
   "cell_type": "code",
   "execution_count": 32,
   "metadata": {
    "collapsed": true
   },
   "outputs": [],
   "source": [
    "test_item = [doc_vectorizer.infer_vector(doc.words) for doc in tagged_test_docs]\n",
    "test_item_pd = pd.DataFrame(test_item)"
   ]
  },
  {
   "cell_type": "code",
   "execution_count": 88,
   "metadata": {
    "collapsed": true
   },
   "outputs": [],
   "source": [
    "user_feature_dm_test = user_feature_dm[55062:].reset_index(drop=True)\n",
    "user_feature_cc_test = user_feature_cc[55062:].reset_index(drop=True)"
   ]
  },
  {
   "cell_type": "code",
   "execution_count": 89,
   "metadata": {
    "collapsed": true
   },
   "outputs": [],
   "source": [
    "deep_data_test = pd.DataFrame(pd.concat([test_item_pd, user_feature_dm_test], axis=1, join_axes=[test_item_pd.index]))\n",
    "Wide_data_test = pd.DataFrame(pd.concat([test_item_pd, user_feature_cc_test], axis=1, join_axes=[test_item_pd.index]))"
   ]
  },
  {
   "cell_type": "code",
   "execution_count": 144,
   "metadata": {},
   "outputs": [
    {
     "name": "stdout",
     "output_type": "stream",
     "text": [
      "Accuracy: 0.98858\n"
     ]
    }
   ],
   "source": [
    "YY = tf.equal(Y , 1)\n",
    "XX = tf.greater(tf.sigmoid(hypothesis),0.5)\n",
    "correct = tf.equal(XX, YY)\n",
    "# score = sess.run(correct, feed_dict={Wide: Wide_data_test, Deep: deep_data_test, Y: test_label_real})\n",
    "accuracy = tf.reduce_mean(tf.cast(correct, 'float'))\n",
    "print(\"Accuracy: {:>.5f}\".format(sess.run(accuracy, feed_dict={Wide: Wide_data_test, Deep: deep_data_test, Y: test_label_real})))"
   ]
  },
  {
   "cell_type": "markdown",
   "metadata": {},
   "source": [
    "정확도가 98.858 % 정도가 나옵니다. scroe 값이 0.5 이상인 것만 추천을 해주는 방식인데  \n",
    "실제 구매는 min ~ max = 5 ~ 27  이 나왔고   \n",
    "추천 개수는 min ~ max = 0 ~ 41 값이 나왔습니다.  \n",
    "매번 20개정도 틀린값이 나온다고 해도 780 / 800 = 0.975 가 나오기 때문에 이는 정확한 평가가 아닙니다."
   ]
  },
  {
   "cell_type": "markdown",
   "metadata": {},
   "source": [
    "추천시스탬은 일반적인 Accuracy를 이용하지 않습니다. 800개나 되는 Label을 맞출 리 없죠.   \n",
    "보통은 Top 5 내지 Top 20을 추천을 하게 됩니다.  그중 실제로 고객이 구매한 내역과 비교하여 Hit rate: (맞춘 개수 / 추천한 수) 를 보게 됩니다."
   ]
  },
  {
   "cell_type": "code",
   "execution_count": 158,
   "metadata": {
    "collapsed": true
   },
   "outputs": [],
   "source": [
    "score = sess.run(tf.sigmoid(hypothesis), feed_dict={Wide: Wide_data_test, Deep: deep_data_test})\n",
    "score = pd.DataFrame(score, columns=train_label.columns)"
   ]
  },
  {
   "cell_type": "code",
   "execution_count": 192,
   "metadata": {
    "collapsed": true
   },
   "outputs": [],
   "source": [
    "def get_acc(score_matrix, top_n, test_matix):\n",
    "    avg_acc = 0\n",
    "    for i in range(len(score_matrix)):\n",
    "        top = score_matrix.iloc[i].nlargest(top_n).index\n",
    "        tmp = 0\n",
    "        for j in range(len(top)):\n",
    "            if top[j] in test_matix[\"item\"][i].split():\n",
    "                tmp += 1\n",
    "\n",
    "        acc = tmp / len(top)\n",
    "        avg_acc += acc / len(score_matrix)\n",
    "\n",
    "    return avg_acc"
   ]
  },
  {
   "cell_type": "code",
   "execution_count": 199,
   "metadata": {
    "scrolled": true
   },
   "outputs": [
    {
     "name": "stdout",
     "output_type": "stream",
     "text": [
      "Hit rate of Top 10: 0.10387\n",
      "Hit rate of Top 20: 0.08614\n"
     ]
    }
   ],
   "source": [
    "print(\"Hit rate of Top 10: {:>.5f}\".format(get_acc(score, 10, test_label)))\n",
    "print(\"Hit rate of Top 20: {:>.5f}\".format(get_acc(score, 20, test_label)))"
   ]
  },
  {
   "cell_type": "markdown",
   "metadata": {},
   "source": [
    "10개를 추천해준다면 그 중 10% 가량을 실제로 구매하는 것으로 나타났습니다."
   ]
  },
  {
   "cell_type": "markdown",
   "metadata": {},
   "source": [
    "\n",
    "---"
   ]
  },
  {
   "cell_type": "markdown",
   "metadata": {},
   "source": [
    "# Reference"
   ]
  },
  {
   "cell_type": "markdown",
   "metadata": {},
   "source": [
    "<h3>\n",
    "[[1] Recommender System with Distributed Representation](https://www.slideshare.net/rakutentech/recommender-system-with-distributed-representation)   \n",
    "[[2] Distributed Representations of Sentences and Documents](https://arxiv.org/abs/1405.4053)   \n",
    "[[3] Wide & Deep Learning for Recommender Systems](https://arxiv.org/abs/1606.07792)   \n",
    "[[4] TensorFlow Wide & Deep Learning Tutorial](https://www.tensorflow.org/tutorials/wide_and_deep)   \n",
    "[[5] Korean NLP in Python](http://konlpy.org/en/v0.4.4/)\n",
    "</h3>"
   ]
  }
 ],
 "metadata": {
  "kernelspec": {
   "display_name": "Python 3",
   "language": "python",
   "name": "python3"
  },
  "language_info": {
   "codemirror_mode": {
    "name": "ipython",
    "version": 3
   },
   "file_extension": ".py",
   "mimetype": "text/x-python",
   "name": "python",
   "nbconvert_exporter": "python",
   "pygments_lexer": "ipython3",
   "version": "3.6.1"
  }
 },
 "nbformat": 4,
 "nbformat_minor": 2
}
