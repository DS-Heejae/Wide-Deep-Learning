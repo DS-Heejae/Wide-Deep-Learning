{
 "cells": [
  {
   "cell_type": "markdown",
   "metadata": {},
   "source": [
    "Recommendation System\n",
    "==========="
   ]
  },
  {
   "cell_type": "markdown",
   "metadata": {},
   "source": [
    "Doc2vec + Wide & Deep 을 이용한 추천시스템\n",
    "----------------------------------\n",
    "모형별 Hit rate 비교\n",
    "------------------------------------"
   ]
  },
  {
   "cell_type": "markdown",
   "metadata": {},
   "source": [
    "<div style=\"text-align:right\"><h3>\n",
    "J. H. Park | 2017.08.16.\n",
    "</h3></div>"
   ]
  },
  {
   "cell_type": "markdown",
   "metadata": {},
   "source": [
    "---"
   ]
  },
  {
   "cell_type": "markdown",
   "metadata": {},
   "source": [
    "### 순서\n",
    "\n",
    "1. Wide\n",
    "2. Deep\n",
    "3. Wide & Deep\n"
   ]
  },
  {
   "cell_type": "markdown",
   "metadata": {},
   "source": [
    "---"
   ]
  },
  {
   "cell_type": "markdown",
   "metadata": {},
   "source": [
    "본 문서에 사용된 데이터는 Lpoint 2016년 공모전에서 제공받은 데이터임을 밝힙니다."
   ]
  },
  {
   "cell_type": "markdown",
   "metadata": {},
   "source": [
    "---"
   ]
  },
  {
   "cell_type": "markdown",
   "metadata": {},
   "source": [
    "# 1. 데이터 소개"
   ]
  },
  {
   "cell_type": "code",
   "execution_count": 1,
   "metadata": {
    "collapsed": true
   },
   "outputs": [],
   "source": [
    "import pandas as pd\n",
    "import numpy as np\n",
    "import matplotlib.pyplot as plt\n",
    "import copy as cp\n",
    "import pickle"
   ]
  },
  {
   "cell_type": "code",
   "execution_count": 2,
   "metadata": {
    "collapsed": true
   },
   "outputs": [],
   "source": [
    "train_label = pd.read_csv(\"./Lpoint_C/data/train_label.csv\", encoding=\"cp949\")\n",
    "test_label = pd.read_csv(\"./Lpoint_C/data/test_label.csv\", encoding=\"cp949\")"
   ]
  },
  {
   "cell_type": "code",
   "execution_count": 3,
   "metadata": {},
   "outputs": [],
   "source": [
    "train_label = train_label.fillna(0)"
   ]
  },
  {
   "cell_type": "code",
   "execution_count": 4,
   "metadata": {},
   "outputs": [],
   "source": [
    "with open(\"./data/Wide_data.p\", 'rb') as rd:\n",
    "    Wide_data = pickle.load(rd)\n",
    "    \n",
    "with open(\"./data/Deep_data.p\", 'rb') as rd:\n",
    "    Deep_data = pickle.load(rd)"
   ]
  },
  {
   "cell_type": "code",
   "execution_count": 5,
   "metadata": {
    "collapsed": true
   },
   "outputs": [],
   "source": [
    "with open(\"./data/Wide_data_test.p\", 'rb') as rd:\n",
    "    Wide_data_test = pickle.load(rd)\n",
    "    \n",
    "with open(\"./data/Deep_data_test.p\", 'rb') as rd:\n",
    "    Deep_data_test = pickle.load(rd)"
   ]
  },
  {
   "cell_type": "code",
   "execution_count": 6,
   "metadata": {
    "scrolled": true
   },
   "outputs": [
    {
     "data": {
      "text/html": [
       "<div>\n",
       "<style>\n",
       "    .dataframe thead tr:only-child th {\n",
       "        text-align: right;\n",
       "    }\n",
       "\n",
       "    .dataframe thead th {\n",
       "        text-align: left;\n",
       "    }\n",
       "\n",
       "    .dataframe tbody tr th {\n",
       "        vertical-align: top;\n",
       "    }\n",
       "</style>\n",
       "<table border=\"1\" class=\"dataframe\">\n",
       "  <thead>\n",
       "    <tr style=\"text-align: right;\">\n",
       "      <th></th>\n",
       "      <th>0</th>\n",
       "      <th>1</th>\n",
       "      <th>2</th>\n",
       "      <th>3</th>\n",
       "      <th>4</th>\n",
       "      <th>5</th>\n",
       "      <th>6</th>\n",
       "      <th>7</th>\n",
       "      <th>8</th>\n",
       "      <th>9</th>\n",
       "      <th>...</th>\n",
       "      <th>X15+X16_1.00.0</th>\n",
       "      <th>X15+X16_1.01.0</th>\n",
       "      <th>X15+X17_0.00.0</th>\n",
       "      <th>X15+X17_0.01.0</th>\n",
       "      <th>X15+X17_1.00.0</th>\n",
       "      <th>X15+X17_1.01.0</th>\n",
       "      <th>X16+X17_0.00.0</th>\n",
       "      <th>X16+X17_0.01.0</th>\n",
       "      <th>X16+X17_1.00.0</th>\n",
       "      <th>X16+X17_1.01.0</th>\n",
       "    </tr>\n",
       "  </thead>\n",
       "  <tbody>\n",
       "    <tr>\n",
       "      <th>0</th>\n",
       "      <td>0.001469</td>\n",
       "      <td>-0.001295</td>\n",
       "      <td>0.000005</td>\n",
       "      <td>-0.001118</td>\n",
       "      <td>0.000692</td>\n",
       "      <td>0.000112</td>\n",
       "      <td>0.001632</td>\n",
       "      <td>0.000754</td>\n",
       "      <td>-0.001351</td>\n",
       "      <td>0.000008</td>\n",
       "      <td>...</td>\n",
       "      <td>0</td>\n",
       "      <td>0</td>\n",
       "      <td>0</td>\n",
       "      <td>1</td>\n",
       "      <td>0</td>\n",
       "      <td>0</td>\n",
       "      <td>0</td>\n",
       "      <td>1</td>\n",
       "      <td>0</td>\n",
       "      <td>0</td>\n",
       "    </tr>\n",
       "    <tr>\n",
       "      <th>1</th>\n",
       "      <td>0.013858</td>\n",
       "      <td>-0.069797</td>\n",
       "      <td>-0.228386</td>\n",
       "      <td>0.245291</td>\n",
       "      <td>-0.083660</td>\n",
       "      <td>0.052444</td>\n",
       "      <td>0.052756</td>\n",
       "      <td>0.044706</td>\n",
       "      <td>0.056476</td>\n",
       "      <td>-0.068763</td>\n",
       "      <td>...</td>\n",
       "      <td>0</td>\n",
       "      <td>1</td>\n",
       "      <td>0</td>\n",
       "      <td>0</td>\n",
       "      <td>0</td>\n",
       "      <td>1</td>\n",
       "      <td>0</td>\n",
       "      <td>0</td>\n",
       "      <td>0</td>\n",
       "      <td>1</td>\n",
       "    </tr>\n",
       "    <tr>\n",
       "      <th>2</th>\n",
       "      <td>0.008569</td>\n",
       "      <td>-0.001905</td>\n",
       "      <td>-0.006886</td>\n",
       "      <td>0.014368</td>\n",
       "      <td>-0.002174</td>\n",
       "      <td>-0.001780</td>\n",
       "      <td>0.002976</td>\n",
       "      <td>0.002795</td>\n",
       "      <td>0.003305</td>\n",
       "      <td>-0.000971</td>\n",
       "      <td>...</td>\n",
       "      <td>0</td>\n",
       "      <td>0</td>\n",
       "      <td>1</td>\n",
       "      <td>0</td>\n",
       "      <td>0</td>\n",
       "      <td>0</td>\n",
       "      <td>1</td>\n",
       "      <td>0</td>\n",
       "      <td>0</td>\n",
       "      <td>0</td>\n",
       "    </tr>\n",
       "    <tr>\n",
       "      <th>3</th>\n",
       "      <td>-0.000099</td>\n",
       "      <td>0.001165</td>\n",
       "      <td>-0.002520</td>\n",
       "      <td>-0.002333</td>\n",
       "      <td>0.001259</td>\n",
       "      <td>0.001369</td>\n",
       "      <td>-0.001451</td>\n",
       "      <td>0.001527</td>\n",
       "      <td>0.001928</td>\n",
       "      <td>0.001024</td>\n",
       "      <td>...</td>\n",
       "      <td>1</td>\n",
       "      <td>0</td>\n",
       "      <td>0</td>\n",
       "      <td>0</td>\n",
       "      <td>1</td>\n",
       "      <td>0</td>\n",
       "      <td>1</td>\n",
       "      <td>0</td>\n",
       "      <td>0</td>\n",
       "      <td>0</td>\n",
       "    </tr>\n",
       "    <tr>\n",
       "      <th>4</th>\n",
       "      <td>0.022761</td>\n",
       "      <td>-0.009565</td>\n",
       "      <td>-0.022066</td>\n",
       "      <td>-0.004037</td>\n",
       "      <td>-0.016980</td>\n",
       "      <td>0.022040</td>\n",
       "      <td>0.002982</td>\n",
       "      <td>0.006029</td>\n",
       "      <td>0.019570</td>\n",
       "      <td>0.002430</td>\n",
       "      <td>...</td>\n",
       "      <td>0</td>\n",
       "      <td>0</td>\n",
       "      <td>1</td>\n",
       "      <td>0</td>\n",
       "      <td>0</td>\n",
       "      <td>0</td>\n",
       "      <td>1</td>\n",
       "      <td>0</td>\n",
       "      <td>0</td>\n",
       "      <td>0</td>\n",
       "    </tr>\n",
       "  </tbody>\n",
       "</table>\n",
       "<p>5 rows × 878 columns</p>\n",
       "</div>"
      ],
      "text/plain": [
       "          0         1         2         3         4         5         6  \\\n",
       "0  0.001469 -0.001295  0.000005 -0.001118  0.000692  0.000112  0.001632   \n",
       "1  0.013858 -0.069797 -0.228386  0.245291 -0.083660  0.052444  0.052756   \n",
       "2  0.008569 -0.001905 -0.006886  0.014368 -0.002174 -0.001780  0.002976   \n",
       "3 -0.000099  0.001165 -0.002520 -0.002333  0.001259  0.001369 -0.001451   \n",
       "4  0.022761 -0.009565 -0.022066 -0.004037 -0.016980  0.022040  0.002982   \n",
       "\n",
       "          7         8         9       ...        X15+X16_1.00.0  \\\n",
       "0  0.000754 -0.001351  0.000008       ...                     0   \n",
       "1  0.044706  0.056476 -0.068763       ...                     0   \n",
       "2  0.002795  0.003305 -0.000971       ...                     0   \n",
       "3  0.001527  0.001928  0.001024       ...                     1   \n",
       "4  0.006029  0.019570  0.002430       ...                     0   \n",
       "\n",
       "   X15+X16_1.01.0  X15+X17_0.00.0  X15+X17_0.01.0  X15+X17_1.00.0  \\\n",
       "0               0               0               1               0   \n",
       "1               1               0               0               0   \n",
       "2               0               1               0               0   \n",
       "3               0               0               0               1   \n",
       "4               0               1               0               0   \n",
       "\n",
       "   X15+X17_1.01.0  X16+X17_0.00.0  X16+X17_0.01.0  X16+X17_1.00.0  \\\n",
       "0               0               0               1               0   \n",
       "1               1               0               0               0   \n",
       "2               0               1               0               0   \n",
       "3               0               1               0               0   \n",
       "4               0               1               0               0   \n",
       "\n",
       "   X16+X17_1.01.0  \n",
       "0               0  \n",
       "1               1  \n",
       "2               0  \n",
       "3               0  \n",
       "4               0  \n",
       "\n",
       "[5 rows x 878 columns]"
      ]
     },
     "execution_count": 6,
     "metadata": {},
     "output_type": "execute_result"
    }
   ],
   "source": [
    "Wide_data.head()"
   ]
  },
  {
   "cell_type": "code",
   "execution_count": 7,
   "metadata": {
    "scrolled": false
   },
   "outputs": [
    {
     "data": {
      "text/html": [
       "<div>\n",
       "<style>\n",
       "    .dataframe thead tr:only-child th {\n",
       "        text-align: right;\n",
       "    }\n",
       "\n",
       "    .dataframe thead th {\n",
       "        text-align: left;\n",
       "    }\n",
       "\n",
       "    .dataframe tbody tr th {\n",
       "        vertical-align: top;\n",
       "    }\n",
       "</style>\n",
       "<table border=\"1\" class=\"dataframe\">\n",
       "  <thead>\n",
       "    <tr style=\"text-align: right;\">\n",
       "      <th></th>\n",
       "      <th>0</th>\n",
       "      <th>1</th>\n",
       "      <th>2</th>\n",
       "      <th>3</th>\n",
       "      <th>4</th>\n",
       "      <th>5</th>\n",
       "      <th>6</th>\n",
       "      <th>7</th>\n",
       "      <th>8</th>\n",
       "      <th>9</th>\n",
       "      <th>...</th>\n",
       "      <th>X11</th>\n",
       "      <th>X12</th>\n",
       "      <th>X13</th>\n",
       "      <th>X14</th>\n",
       "      <th>X15</th>\n",
       "      <th>X16</th>\n",
       "      <th>X17</th>\n",
       "      <th>성별</th>\n",
       "      <th>연령대</th>\n",
       "      <th>A거주지역</th>\n",
       "    </tr>\n",
       "  </thead>\n",
       "  <tbody>\n",
       "    <tr>\n",
       "      <th>0</th>\n",
       "      <td>0.001469</td>\n",
       "      <td>-0.001295</td>\n",
       "      <td>0.000005</td>\n",
       "      <td>-0.001118</td>\n",
       "      <td>0.000692</td>\n",
       "      <td>0.000112</td>\n",
       "      <td>0.001632</td>\n",
       "      <td>0.000754</td>\n",
       "      <td>-0.001351</td>\n",
       "      <td>0.000008</td>\n",
       "      <td>...</td>\n",
       "      <td>1.0</td>\n",
       "      <td>0.0</td>\n",
       "      <td>0.0</td>\n",
       "      <td>0.0</td>\n",
       "      <td>0.0</td>\n",
       "      <td>0.0</td>\n",
       "      <td>1.0</td>\n",
       "      <td>0</td>\n",
       "      <td>7</td>\n",
       "      <td>6</td>\n",
       "    </tr>\n",
       "    <tr>\n",
       "      <th>1</th>\n",
       "      <td>0.013858</td>\n",
       "      <td>-0.069797</td>\n",
       "      <td>-0.228386</td>\n",
       "      <td>0.245291</td>\n",
       "      <td>-0.083660</td>\n",
       "      <td>0.052444</td>\n",
       "      <td>0.052756</td>\n",
       "      <td>0.044706</td>\n",
       "      <td>0.056476</td>\n",
       "      <td>-0.068763</td>\n",
       "      <td>...</td>\n",
       "      <td>1.0</td>\n",
       "      <td>1.0</td>\n",
       "      <td>1.0</td>\n",
       "      <td>0.0</td>\n",
       "      <td>1.0</td>\n",
       "      <td>1.0</td>\n",
       "      <td>1.0</td>\n",
       "      <td>0</td>\n",
       "      <td>9</td>\n",
       "      <td>1</td>\n",
       "    </tr>\n",
       "    <tr>\n",
       "      <th>2</th>\n",
       "      <td>0.008569</td>\n",
       "      <td>-0.001905</td>\n",
       "      <td>-0.006886</td>\n",
       "      <td>0.014368</td>\n",
       "      <td>-0.002174</td>\n",
       "      <td>-0.001780</td>\n",
       "      <td>0.002976</td>\n",
       "      <td>0.002795</td>\n",
       "      <td>0.003305</td>\n",
       "      <td>-0.000971</td>\n",
       "      <td>...</td>\n",
       "      <td>0.0</td>\n",
       "      <td>0.0</td>\n",
       "      <td>0.0</td>\n",
       "      <td>0.0</td>\n",
       "      <td>0.0</td>\n",
       "      <td>0.0</td>\n",
       "      <td>0.0</td>\n",
       "      <td>0</td>\n",
       "      <td>4</td>\n",
       "      <td>5</td>\n",
       "    </tr>\n",
       "    <tr>\n",
       "      <th>3</th>\n",
       "      <td>-0.000099</td>\n",
       "      <td>0.001165</td>\n",
       "      <td>-0.002520</td>\n",
       "      <td>-0.002333</td>\n",
       "      <td>0.001259</td>\n",
       "      <td>0.001369</td>\n",
       "      <td>-0.001451</td>\n",
       "      <td>0.001527</td>\n",
       "      <td>0.001928</td>\n",
       "      <td>0.001024</td>\n",
       "      <td>...</td>\n",
       "      <td>0.0</td>\n",
       "      <td>0.0</td>\n",
       "      <td>0.0</td>\n",
       "      <td>0.0</td>\n",
       "      <td>1.0</td>\n",
       "      <td>0.0</td>\n",
       "      <td>0.0</td>\n",
       "      <td>0</td>\n",
       "      <td>4</td>\n",
       "      <td>5</td>\n",
       "    </tr>\n",
       "    <tr>\n",
       "      <th>4</th>\n",
       "      <td>0.022761</td>\n",
       "      <td>-0.009565</td>\n",
       "      <td>-0.022066</td>\n",
       "      <td>-0.004037</td>\n",
       "      <td>-0.016980</td>\n",
       "      <td>0.022040</td>\n",
       "      <td>0.002982</td>\n",
       "      <td>0.006029</td>\n",
       "      <td>0.019570</td>\n",
       "      <td>0.002430</td>\n",
       "      <td>...</td>\n",
       "      <td>0.0</td>\n",
       "      <td>0.0</td>\n",
       "      <td>0.0</td>\n",
       "      <td>0.0</td>\n",
       "      <td>0.0</td>\n",
       "      <td>0.0</td>\n",
       "      <td>0.0</td>\n",
       "      <td>0</td>\n",
       "      <td>7</td>\n",
       "      <td>1</td>\n",
       "    </tr>\n",
       "  </tbody>\n",
       "</table>\n",
       "<p>5 rows × 320 columns</p>\n",
       "</div>"
      ],
      "text/plain": [
       "          0         1         2         3         4         5         6  \\\n",
       "0  0.001469 -0.001295  0.000005 -0.001118  0.000692  0.000112  0.001632   \n",
       "1  0.013858 -0.069797 -0.228386  0.245291 -0.083660  0.052444  0.052756   \n",
       "2  0.008569 -0.001905 -0.006886  0.014368 -0.002174 -0.001780  0.002976   \n",
       "3 -0.000099  0.001165 -0.002520 -0.002333  0.001259  0.001369 -0.001451   \n",
       "4  0.022761 -0.009565 -0.022066 -0.004037 -0.016980  0.022040  0.002982   \n",
       "\n",
       "          7         8         9  ...    X11  X12  X13  X14  X15  X16  X17  성별  \\\n",
       "0  0.000754 -0.001351  0.000008  ...    1.0  0.0  0.0  0.0  0.0  0.0  1.0   0   \n",
       "1  0.044706  0.056476 -0.068763  ...    1.0  1.0  1.0  0.0  1.0  1.0  1.0   0   \n",
       "2  0.002795  0.003305 -0.000971  ...    0.0  0.0  0.0  0.0  0.0  0.0  0.0   0   \n",
       "3  0.001527  0.001928  0.001024  ...    0.0  0.0  0.0  0.0  1.0  0.0  0.0   0   \n",
       "4  0.006029  0.019570  0.002430  ...    0.0  0.0  0.0  0.0  0.0  0.0  0.0   0   \n",
       "\n",
       "   연령대  A거주지역  \n",
       "0    7      6  \n",
       "1    9      1  \n",
       "2    4      5  \n",
       "3    4      5  \n",
       "4    7      1  \n",
       "\n",
       "[5 rows x 320 columns]"
      ]
     },
     "execution_count": 7,
     "metadata": {},
     "output_type": "execute_result"
    }
   ],
   "source": [
    "Deep_data.head()"
   ]
  },
  {
   "cell_type": "code",
   "execution_count": 8,
   "metadata": {},
   "outputs": [
    {
     "data": {
      "text/plain": [
       "(13915, 878)"
      ]
     },
     "execution_count": 8,
     "metadata": {},
     "output_type": "execute_result"
    }
   ],
   "source": [
    "Wide_data_test.shape"
   ]
  },
  {
   "cell_type": "code",
   "execution_count": 9,
   "metadata": {},
   "outputs": [
    {
     "data": {
      "text/plain": [
       "(13915, 320)"
      ]
     },
     "execution_count": 9,
     "metadata": {},
     "output_type": "execute_result"
    }
   ],
   "source": [
    "Deep_data_test.shape"
   ]
  },
  {
   "cell_type": "markdown",
   "metadata": {},
   "source": [
    "---"
   ]
  },
  {
   "cell_type": "code",
   "execution_count": 10,
   "metadata": {
    "collapsed": true
   },
   "outputs": [],
   "source": [
    "import tensorflow as tf\n",
    "from tensorflow.contrib import layers\n",
    "from datetime import datetime"
   ]
  },
  {
   "cell_type": "code",
   "execution_count": 11,
   "metadata": {},
   "outputs": [],
   "source": [
    "# parameters\n",
    "# keep_prob = 0.5\n",
    "learning_rate = 1e-4\n",
    "training_epochs = 10\n",
    "batch_size = 256\n",
    "\n",
    "wide_size = len(Wide_data.columns)\n",
    "deep_size = len(Deep_data.columns) \n",
    "deep_embed_size = 3 # 임베딩할 컬럼 개수\n",
    "\n",
    "output_size = len(train_label.columns)\n",
    "\n",
    "He = tf.contrib.layers.variance_scaling_initializer()\n",
    "\n",
    "# input place holders\n",
    "tf.reset_default_graph()\n",
    "Wide = tf.placeholder(tf.float32, [None, wide_size])\n",
    "Deep_un_embed = tf.placeholder(tf.float32, [None, deep_size - deep_embed_size])\n",
    "Deep_embed = tf.placeholder(tf.int32, [None, deep_embed_size])\n",
    "\n",
    "Y = tf.placeholder(tf.float32, [None, output_size])\n",
    "train_mode = tf.placeholder(tf.bool, name='train_mode')"
   ]
  },
  {
   "cell_type": "code",
   "execution_count": 12,
   "metadata": {
    "collapsed": true
   },
   "outputs": [],
   "source": [
    "def get_acc(score_matrix, top_n, test_matix):\n",
    "    avg_acc = 0\n",
    "    for i in range(len(score_matrix)):\n",
    "        top = score_matrix.iloc[i].nlargest(top_n).index\n",
    "        tmp = 0\n",
    "        for j in range(len(top)):\n",
    "            if top[j] in test_matix[\"item\"][i].split():\n",
    "                tmp += 1\n",
    "\n",
    "        acc = tmp / len(top)\n",
    "        avg_acc += acc / len(score_matrix)\n",
    "\n",
    "    return avg_acc"
   ]
  },
  {
   "cell_type": "markdown",
   "metadata": {},
   "source": [
    "# 1. Wide"
   ]
  },
  {
   "cell_type": "code",
   "execution_count": 13,
   "metadata": {
    "collapsed": true
   },
   "outputs": [],
   "source": [
    "Wide_A = tf.get_variable(\"Wide_A\", shape=[wide_size, output_size])\n",
    "Wied_B = tf.Variable(tf.random_normal([output_size]))\n",
    "\n",
    "wide_wide = tf.add(tf.matmul(Wide, Wide_A), Wied_B)"
   ]
  },
  {
   "cell_type": "code",
   "execution_count": 14,
   "metadata": {
    "collapsed": true
   },
   "outputs": [],
   "source": [
    "Wide_cost = tf.reduce_mean(tf.nn.sigmoid_cross_entropy_with_logits(logits=wide_wide, labels=Y))\n",
    "wide_optimizer = tf.train.AdamOptimizer(learning_rate=learning_rate).minimize(Wide_cost)"
   ]
  },
  {
   "cell_type": "code",
   "execution_count": 15,
   "metadata": {
    "collapsed": true
   },
   "outputs": [],
   "source": [
    "Wide_ACC_plot = []\n",
    "def Wide_Model(training_epochs = 10):\n",
    "    for epoch in range(training_epochs):\n",
    "        avg_cost = 0\n",
    "        total_batch = int(len(Deep_data) / batch_size)\n",
    "\n",
    "        for i in range(0, len(Deep_data), batch_size):\n",
    "            batch_wide = Wide_data[i:i+batch_size]\n",
    "            \n",
    "            batch_label = train_label[i:i+batch_size]\n",
    "\n",
    "            feed_dict_train = {Wide: batch_wide,\n",
    "                               Y: batch_label}\n",
    "            \n",
    "            feed_dict_test = {Wide: Wide_data_test}\n",
    "            \n",
    "            opt, c = sess.run([wide_optimizer, Wide_cost], feed_dict=feed_dict_train)\n",
    "\n",
    "            avg_cost += c/total_batch\n",
    "            \n",
    "        if (epoch % 2 == 0) or (epoch == training_epochs - 1):\n",
    "            \n",
    "            score = sess.run(tf.sigmoid(wide_wide), feed_dict=feed_dict_test)\n",
    "            score_pd = pd.DataFrame(score, columns=train_label.columns)\n",
    "            acc = get_acc(score_pd, 10, test_label)\n",
    "            Wide_ACC_plot.append(acc)\n",
    "        \n",
    "            time = datetime.now().strftime('%Y-%m-%d %H:%M:%S')\n",
    "            main = \"[Epoch: {:>4}][Cost: {:>.5f}][Hit rate of Top 10: {:>.5f}]\"\n",
    "            print(main.format(epoch, avg_cost, acc))\n",
    "            \n",
    "    print('Learning Finished!')"
   ]
  },
  {
   "cell_type": "markdown",
   "metadata": {},
   "source": [
    "# 2. Deep "
   ]
  },
  {
   "cell_type": "code",
   "execution_count": 16,
   "metadata": {
    "collapsed": true
   },
   "outputs": [],
   "source": [
    "no_class_max = 42\n",
    "embedding_size = 5\n",
    "Deep_col = Deep_data.columns\n",
    "\n",
    "deep_var = tf.Variable(tf.random_uniform([no_class_max, embedding_size], -1.0, 1.0))\n",
    "deep_lookup = tf.nn.embedding_lookup(deep_var, Deep_embed)\n",
    "deep_re = tf.reshape(deep_lookup, [-1, embedding_size * deep_embed_size])\n",
    "\n",
    "Deep_Deep = tf.concat([Deep_un_embed, deep_re], axis=1)"
   ]
  },
  {
   "cell_type": "code",
   "execution_count": 17,
   "metadata": {
    "collapsed": true
   },
   "outputs": [],
   "source": [
    "Deep_W1 = tf.get_variable(\"Deep_W1\", shape=[332, 512], initializer=He)\n",
    "Deep_b1 = tf.Variable(tf.random_normal([512]))\n",
    "Deep_L1 = tf.nn.relu(tf.matmul(Deep_Deep, Deep_W1) + Deep_b1)\n",
    "\n",
    "Deep_W2 = tf.get_variable(\"Deep_W2\", shape=[512, 256], initializer=He)\n",
    "Deep_b2 = tf.Variable(tf.random_normal([256]))\n",
    "Deep_L2 = tf.nn.relu(tf.matmul(Deep_L1, Deep_W2) + Deep_b2)\n",
    "\n",
    "Deep_W3 = tf.get_variable(\"Deep_W3\", shape=[256, 128], initializer=He)\n",
    "Deep_b3 = tf.Variable(tf.random_normal([128]))\n",
    "Deep_L3 = tf.nn.relu(tf.matmul(Deep_L2, Deep_W3) + Deep_b3)\n",
    "\n",
    "Deep_W4 = tf.get_variable(\"Deep_W4\", shape=[128, output_size], initializer=He)\n",
    "Deep_b4 = tf.Variable(tf.random_normal([output_size]))\n",
    "\n",
    "Deep_deep = tf.add(tf.matmul(Deep_L3, Deep_W4), Deep_b4)"
   ]
  },
  {
   "cell_type": "code",
   "execution_count": 18,
   "metadata": {
    "collapsed": true
   },
   "outputs": [],
   "source": [
    "Deep_cost = tf.reduce_mean(tf.nn.sigmoid_cross_entropy_with_logits(logits=Deep_deep, labels=Y))\n",
    "Deep_optimizer = tf.train.AdamOptimizer(learning_rate=learning_rate).minimize(Deep_cost)"
   ]
  },
  {
   "cell_type": "code",
   "execution_count": 19,
   "metadata": {
    "collapsed": true
   },
   "outputs": [],
   "source": [
    "Deep_ACC_plot = []\n",
    "def Deep_Model(training_epochs = 10):\n",
    "    for epoch in range(training_epochs):\n",
    "        avg_cost = 0\n",
    "        total_batch = int(len(Deep_data) / batch_size)\n",
    "\n",
    "        for i in range(0, len(Deep_data), batch_size):\n",
    "            batch_deep = Deep_data[i:i+batch_size][Deep_col[:-3]]\n",
    "            batch_deep_embed = Deep_data[i:i+batch_size][Deep_col[-3:]]\n",
    "            \n",
    "            batch_label = train_label[i:i+batch_size]\n",
    "\n",
    "            feed_dict_train = {Deep_un_embed: batch_deep,\n",
    "                               Deep_embed: batch_deep_embed,\n",
    "                               Y: batch_label}\n",
    "            \n",
    "            feed_dict_test = {Deep_un_embed: Deep_data_test[Deep_col[:-3]],\n",
    "                              Deep_embed: Deep_data_test[Deep_col[-3:]]}\n",
    "            \n",
    "            opt, c = sess.run([Deep_optimizer, Deep_cost], feed_dict=feed_dict_train)\n",
    "\n",
    "            avg_cost += c/total_batch\n",
    "\n",
    "        if (epoch % 2 == 0) or (epoch == training_epochs - 1):\n",
    "            \n",
    "            score = sess.run(tf.sigmoid(Deep_deep), feed_dict=feed_dict_test)\n",
    "            score_pd = pd.DataFrame(score, columns=train_label.columns)\n",
    "            acc = get_acc(score_pd, 10, test_label)\n",
    "            Deep_ACC_plot.append(acc)\n",
    "            \n",
    "            time = datetime.now().strftime('%Y-%m-%d %H:%M:%S')\n",
    "            main = \"[Epoch: {:>4}][Cost: {:>.5f}][Hit rate of Top 10: {:>.5f}]\"\n",
    "            print(main.format(epoch, avg_cost, acc))\n",
    "            \n",
    "    print('Learning Finished!')"
   ]
  },
  {
   "cell_type": "markdown",
   "metadata": {},
   "source": [
    "# 3. Wide & Deep "
   ]
  },
  {
   "cell_type": "code",
   "execution_count": 20,
   "metadata": {
    "collapsed": true
   },
   "outputs": [],
   "source": [
    "no_class_max = 42\n",
    "embedding_size = 5\n",
    "\n",
    "deep_embed_var = tf.Variable(tf.random_uniform([no_class_max, embedding_size], -1.0, 1.0))\n",
    "deep_embed = tf.nn.embedding_lookup(deep_embed_var, Deep_embed)\n",
    "deep_embed_re = tf.reshape(deep_embed, [-1, embedding_size * deep_embed_size])\n",
    "\n",
    "Deep = tf.concat([Deep_un_embed, deep_embed_re], axis=1)"
   ]
  },
  {
   "cell_type": "markdown",
   "metadata": {},
   "source": [
    "### Wide"
   ]
  },
  {
   "cell_type": "code",
   "execution_count": 21,
   "metadata": {
    "collapsed": true
   },
   "outputs": [],
   "source": [
    "A = tf.get_variable(\"A\", shape=[wide_size, output_size])\n",
    "b = tf.Variable(tf.random_normal([output_size]))\n",
    "\n",
    "wide = tf.add(tf.matmul(Wide, A), b)"
   ]
  },
  {
   "cell_type": "markdown",
   "metadata": {},
   "source": [
    "### Deep"
   ]
  },
  {
   "cell_type": "code",
   "execution_count": 22,
   "metadata": {
    "collapsed": true
   },
   "outputs": [],
   "source": [
    "W1 = tf.get_variable(\"W1\", shape=[332, 512], initializer=He)\n",
    "b1 = tf.Variable(tf.random_normal([512]))\n",
    "L1 = tf.nn.relu(tf.matmul(Deep, W1) + b1)\n",
    "\n",
    "W2 = tf.get_variable(\"W2\", shape=[512, 256], initializer=He)\n",
    "b2 = tf.Variable(tf.random_normal([256]))\n",
    "L2 = tf.nn.relu(tf.matmul(L1, W2) + b2)\n",
    "\n",
    "W3 = tf.get_variable(\"W3\", shape=[256, 128], initializer=He)\n",
    "b3 = tf.Variable(tf.random_normal([128]))\n",
    "L3 = tf.nn.relu(tf.matmul(L2, W3) + b3)\n",
    "\n",
    "W4 = tf.get_variable(\"W4\", shape=[128, output_size], initializer=He)\n",
    "b4 = tf.Variable(tf.random_normal([output_size]))\n",
    "\n",
    "deep = tf.add(tf.matmul(L3, W4), b4)"
   ]
  },
  {
   "cell_type": "code",
   "execution_count": 23,
   "metadata": {
    "collapsed": true
   },
   "outputs": [],
   "source": [
    "hypothesis = wide + deep"
   ]
  },
  {
   "cell_type": "code",
   "execution_count": 24,
   "metadata": {
    "collapsed": true
   },
   "outputs": [],
   "source": [
    "cost = tf.reduce_mean(tf.nn.sigmoid_cross_entropy_with_logits(logits=hypothesis, labels=Y))\n",
    "optimizer = tf.train.AdamOptimizer(learning_rate=learning_rate).minimize(cost)"
   ]
  },
  {
   "cell_type": "code",
   "execution_count": 25,
   "metadata": {
    "collapsed": true
   },
   "outputs": [],
   "source": [
    "Wide_n_Deep_ACC_plot = []\n",
    "def Wide_n_Deep_Model(training_epochs = 10):\n",
    "    for epoch in range(training_epochs):\n",
    "        avg_cost = 0\n",
    "        total_batch = int(len(Deep_data) / batch_size)\n",
    "\n",
    "        for i in range(0, len(Deep_data), batch_size):\n",
    "            batch_wide = Wide_data[i:i+batch_size]\n",
    "            batch_deep = Deep_data[i:i+batch_size][Deep_col[:-3]]\n",
    "            batch_deep_embed = Deep_data[i:i+batch_size][Deep_col[-3:]]\n",
    "            \n",
    "            batch_label = train_label[i:i+batch_size]\n",
    "\n",
    "            feed_dict_train = {Wide: batch_wide,\n",
    "                               Deep_un_embed: batch_deep,\n",
    "                               Deep_embed: batch_deep_embed,\n",
    "                               Y: batch_label}\n",
    "            \n",
    "            feed_dict_test = {Wide: Wide_data_test,\n",
    "                              Deep_un_embed: Deep_data_test[Deep_col[:-3]],\n",
    "                              Deep_embed: Deep_data_test[Deep_col[-3:]]}\n",
    "            \n",
    "            opt, c = sess.run([optimizer, cost], feed_dict=feed_dict_train)\n",
    "\n",
    "            avg_cost += c/total_batch\n",
    "            \n",
    "        if (epoch % 2 == 0) or (epoch == training_epochs - 1):\n",
    "            \n",
    "            score = sess.run(tf.sigmoid(hypothesis), feed_dict=feed_dict_test)\n",
    "            score_pd = pd.DataFrame(score, columns=train_label.columns)\n",
    "            acc = get_acc(score_pd, 10, test_label)\n",
    "            Wide_n_Deep_ACC_plot.append(acc)\n",
    "\n",
    "            time = datetime.now().strftime('%Y-%m-%d %H:%M:%S')\n",
    "            main = \"[Epoch: {:>4}][Cost: {:>.5f}][Hit rate of Top 10: {:>.5f}]\"\n",
    "            print(main.format(epoch, avg_cost, acc))\n",
    "            \n",
    "    print('Learning Finished!')"
   ]
  },
  {
   "cell_type": "markdown",
   "metadata": {},
   "source": [
    "---"
   ]
  },
  {
   "cell_type": "markdown",
   "metadata": {},
   "source": [
    "# Session"
   ]
  },
  {
   "cell_type": "code",
   "execution_count": 26,
   "metadata": {
    "collapsed": true
   },
   "outputs": [],
   "source": [
    "config = tf.ConfigProto()\n",
    "config.gpu_options.allow_growth=True\n",
    "sess = tf.Session(config=config)"
   ]
  },
  {
   "cell_type": "markdown",
   "metadata": {},
   "source": [
    "# 1. Wide "
   ]
  },
  {
   "cell_type": "code",
   "execution_count": 27,
   "metadata": {},
   "outputs": [
    {
     "name": "stdout",
     "output_type": "stream",
     "text": [
      "[Epoch:    0][Cost: 0.26157][Hit rate of Top 10: 0.01779]\n",
      "[Epoch:    2][Cost: 0.02919][Hit rate of Top 10: 0.14216]\n",
      "[Epoch:    4][Cost: 0.02011][Hit rate of Top 10: 0.15713]\n",
      "[Epoch:    6][Cost: 0.01732][Hit rate of Top 10: 0.16232]\n",
      "[Epoch:    8][Cost: 0.01597][Hit rate of Top 10: 0.16455]\n",
      "[Epoch:   10][Cost: 0.01519][Hit rate of Top 10: 0.16572]\n",
      "[Epoch:   12][Cost: 0.01467][Hit rate of Top 10: 0.16664]\n",
      "[Epoch:   14][Cost: 0.01431][Hit rate of Top 10: 0.16723]\n",
      "[Epoch:   16][Cost: 0.01403][Hit rate of Top 10: 0.16750]\n",
      "[Epoch:   18][Cost: 0.01382][Hit rate of Top 10: 0.16732]\n",
      "[Epoch:   20][Cost: 0.01365][Hit rate of Top 10: 0.16714]\n",
      "[Epoch:   22][Cost: 0.01350][Hit rate of Top 10: 0.16697]\n",
      "[Epoch:   24][Cost: 0.01339][Hit rate of Top 10: 0.16658]\n",
      "[Epoch:   26][Cost: 0.01328][Hit rate of Top 10: 0.16623]\n",
      "[Epoch:   28][Cost: 0.01319][Hit rate of Top 10: 0.16575]\n",
      "[Epoch:   30][Cost: 0.01312][Hit rate of Top 10: 0.16530]\n",
      "[Epoch:   32][Cost: 0.01305][Hit rate of Top 10: 0.16479]\n",
      "[Epoch:   34][Cost: 0.01299][Hit rate of Top 10: 0.16429]\n",
      "[Epoch:   36][Cost: 0.01294][Hit rate of Top 10: 0.16367]\n",
      "[Epoch:   38][Cost: 0.01289][Hit rate of Top 10: 0.16319]\n",
      "[Epoch:   40][Cost: 0.01285][Hit rate of Top 10: 0.16269]\n",
      "[Epoch:   42][Cost: 0.01281][Hit rate of Top 10: 0.16217]\n",
      "[Epoch:   44][Cost: 0.01277][Hit rate of Top 10: 0.16162]\n",
      "[Epoch:   46][Cost: 0.01274][Hit rate of Top 10: 0.16112]\n",
      "[Epoch:   48][Cost: 0.01271][Hit rate of Top 10: 0.16076]\n",
      "[Epoch:   49][Cost: 0.01270][Hit rate of Top 10: 0.16052]\n",
      "Learning Finished!\n"
     ]
    }
   ],
   "source": [
    "sess.run(tf.global_variables_initializer())\n",
    "Wide_Model(50)"
   ]
  },
  {
   "cell_type": "markdown",
   "metadata": {},
   "source": [
    "# 2. Deep "
   ]
  },
  {
   "cell_type": "code",
   "execution_count": 28,
   "metadata": {},
   "outputs": [
    {
     "name": "stdout",
     "output_type": "stream",
     "text": [
      "[Epoch:    0][Cost: 0.30294][Hit rate of Top 10: 0.05985]\n",
      "[Epoch:    2][Cost: 0.02060][Hit rate of Top 10: 0.08316]\n",
      "[Epoch:    4][Cost: 0.01934][Hit rate of Top 10: 0.10505]\n",
      "[Epoch:    6][Cost: 0.01813][Hit rate of Top 10: 0.13115]\n",
      "[Epoch:    8][Cost: 0.01719][Hit rate of Top 10: 0.14074]\n",
      "[Epoch:   10][Cost: 0.01657][Hit rate of Top 10: 0.14540]\n",
      "[Epoch:   12][Cost: 0.01608][Hit rate of Top 10: 0.14836]\n",
      "[Epoch:   14][Cost: 0.01568][Hit rate of Top 10: 0.15053]\n",
      "[Epoch:   16][Cost: 0.01533][Hit rate of Top 10: 0.15151]\n",
      "[Epoch:   18][Cost: 0.01505][Hit rate of Top 10: 0.15233]\n",
      "[Epoch:   20][Cost: 0.01481][Hit rate of Top 10: 0.15312]\n",
      "[Epoch:   22][Cost: 0.01461][Hit rate of Top 10: 0.15332]\n",
      "[Epoch:   24][Cost: 0.01443][Hit rate of Top 10: 0.15356]\n",
      "[Epoch:   26][Cost: 0.01428][Hit rate of Top 10: 0.15371]\n",
      "[Epoch:   28][Cost: 0.01415][Hit rate of Top 10: 0.15346]\n",
      "[Epoch:   30][Cost: 0.01404][Hit rate of Top 10: 0.15327]\n",
      "[Epoch:   32][Cost: 0.01394][Hit rate of Top 10: 0.15307]\n",
      "[Epoch:   34][Cost: 0.01385][Hit rate of Top 10: 0.15254]\n",
      "[Epoch:   36][Cost: 0.01377][Hit rate of Top 10: 0.15232]\n",
      "[Epoch:   38][Cost: 0.01370][Hit rate of Top 10: 0.15190]\n",
      "[Epoch:   40][Cost: 0.01364][Hit rate of Top 10: 0.15146]\n",
      "[Epoch:   42][Cost: 0.01358][Hit rate of Top 10: 0.15105]\n",
      "[Epoch:   44][Cost: 0.01353][Hit rate of Top 10: 0.15066]\n",
      "[Epoch:   46][Cost: 0.01348][Hit rate of Top 10: 0.15005]\n",
      "[Epoch:   48][Cost: 0.01343][Hit rate of Top 10: 0.14946]\n",
      "[Epoch:   49][Cost: 0.01341][Hit rate of Top 10: 0.14916]\n",
      "Learning Finished!\n"
     ]
    }
   ],
   "source": [
    "sess.run(tf.global_variables_initializer())\n",
    "Deep_Model(50)"
   ]
  },
  {
   "cell_type": "markdown",
   "metadata": {},
   "source": [
    "# 3. Wide & Deep"
   ]
  },
  {
   "cell_type": "code",
   "execution_count": 29,
   "metadata": {},
   "outputs": [
    {
     "name": "stdout",
     "output_type": "stream",
     "text": [
      "[Epoch:    0][Cost: 0.21768][Hit rate of Top 10: 0.09669]\n",
      "[Epoch:    2][Cost: 0.01808][Hit rate of Top 10: 0.14372]\n",
      "[Epoch:    4][Cost: 0.01633][Hit rate of Top 10: 0.15812]\n",
      "[Epoch:    6][Cost: 0.01541][Hit rate of Top 10: 0.16187]\n",
      "[Epoch:    8][Cost: 0.01481][Hit rate of Top 10: 0.16336]\n",
      "[Epoch:   10][Cost: 0.01440][Hit rate of Top 10: 0.16341]\n",
      "[Epoch:   12][Cost: 0.01409][Hit rate of Top 10: 0.16272]\n",
      "[Epoch:   14][Cost: 0.01384][Hit rate of Top 10: 0.16195]\n",
      "[Epoch:   16][Cost: 0.01365][Hit rate of Top 10: 0.16119]\n",
      "[Epoch:   18][Cost: 0.01348][Hit rate of Top 10: 0.16035]\n",
      "[Epoch:   20][Cost: 0.01335][Hit rate of Top 10: 0.15964]\n",
      "[Epoch:   22][Cost: 0.01323][Hit rate of Top 10: 0.15889]\n",
      "[Epoch:   24][Cost: 0.01312][Hit rate of Top 10: 0.15804]\n",
      "[Epoch:   26][Cost: 0.01303][Hit rate of Top 10: 0.15718]\n",
      "[Epoch:   28][Cost: 0.01295][Hit rate of Top 10: 0.15609]\n",
      "[Epoch:   30][Cost: 0.01288][Hit rate of Top 10: 0.15558]\n",
      "[Epoch:   32][Cost: 0.01281][Hit rate of Top 10: 0.15483]\n",
      "[Epoch:   34][Cost: 0.01276][Hit rate of Top 10: 0.15415]\n",
      "[Epoch:   36][Cost: 0.01270][Hit rate of Top 10: 0.15367]\n",
      "[Epoch:   38][Cost: 0.01265][Hit rate of Top 10: 0.15307]\n",
      "[Epoch:   40][Cost: 0.01261][Hit rate of Top 10: 0.15275]\n",
      "[Epoch:   42][Cost: 0.01257][Hit rate of Top 10: 0.15236]\n",
      "[Epoch:   44][Cost: 0.01253][Hit rate of Top 10: 0.15206]\n",
      "[Epoch:   46][Cost: 0.01250][Hit rate of Top 10: 0.15163]\n",
      "[Epoch:   48][Cost: 0.01246][Hit rate of Top 10: 0.15151]\n",
      "[Epoch:   49][Cost: 0.01245][Hit rate of Top 10: 0.15138]\n",
      "Learning Finished!\n"
     ]
    }
   ],
   "source": [
    "sess.run(tf.global_variables_initializer())\n",
    "Wide_n_Deep_Model(50)"
   ]
  },
  {
   "cell_type": "markdown",
   "metadata": {},
   "source": [
    "---"
   ]
  },
  {
   "cell_type": "code",
   "execution_count": 30,
   "metadata": {
    "collapsed": true
   },
   "outputs": [],
   "source": [
    "import matplotlib.pyplot as plt\n",
    "import numpy as np"
   ]
  },
  {
   "cell_type": "code",
   "execution_count": 32,
   "metadata": {},
   "outputs": [],
   "source": [
    "builds = np.array(list(range(0, 51, 2)))\n",
    "y_stack = np.row_stack((Wide_ACC_plot, Deep_ACC_plot, Wide_n_Deep_ACC_plot)) "
   ]
  },
  {
   "cell_type": "code",
   "execution_count": 38,
   "metadata": {},
   "outputs": [
    {
     "data": {
      "image/png": "[encoded data removed]",
      "text/plain": [
       "<matplotlib.figure.Figure at 0x7f38e86e9080>"
      ]
     },
     "metadata": {},
     "output_type": "display_data"
    }
   ],
   "source": [
    "fig = plt.figure(figsize=(11,8))\n",
    "ax1 = fig.add_subplot(111)\n",
    "\n",
    "ax1.plot(builds, y_stack[0,:], label='Wide', color='b', marker='o')\n",
    "ax1.plot(builds, y_stack[1,:], label='Deep', color='g', marker='o')\n",
    "ax1.plot(builds, y_stack[2,:], label='Wide & Deep', color='r', marker='o')\n",
    "\n",
    "plt.xticks(builds)\n",
    "plt.xlabel('Epoch')\n",
    "plt.ylabel('Precision')\n",
    "\n",
    "handles, labels = ax1.get_legend_handles_labels()\n",
    "lgd = ax1.legend(handles, labels, loc='upper center', bbox_to_anchor=(1.15,1))\n",
    "ax1.grid('on')\n",
    "plt.savefig('Wide_Deep_Model.png')\n",
    "plt.show()"
   ]
  },
  {
   "cell_type": "markdown",
   "metadata": {},
   "source": [
    "\n",
    "---"
   ]
  },
  {
   "cell_type": "markdown",
   "metadata": {},
   "source": [
    "# Reference"
   ]
  },
  {
   "cell_type": "markdown",
   "metadata": {},
   "source": [
    "### [[1] Recommender System with Distributed Representation](https://www.slideshare.net/rakutentech/recommender-system-with-distributed-representation)   \n",
    "### [[2] Distributed Representations of Sentences and Documents](https://arxiv.org/abs/1405.4053)   \n",
    "### [[3] Wide & Deep Learning for Recommender Systems](https://arxiv.org/abs/1606.07792)   \n",
    "### [[4] TensorFlow Wide & Deep Learning Tutorial](https://www.tensorflow.org/tutorials/wide_and_deep)   \n",
    "### [[5] Korean NLP in Python](http://konlpy.org/en/v0.4.4/)"
   ]
  }
 ],
 "metadata": {
  "kernelspec": {
   "display_name": "Python 3",
   "language": "python",
   "name": "python3"
  },
  "language_info": {
   "codemirror_mode": {
    "name": "ipython",
    "version": 3
   },
   "file_extension": ".py",
   "mimetype": "text/x-python",
   "name": "python",
   "nbconvert_exporter": "python",
   "pygments_lexer": "ipython3",
   "version": "3.6.1"
  }
 },
 "nbformat": 4,
 "nbformat_minor": 2
}
