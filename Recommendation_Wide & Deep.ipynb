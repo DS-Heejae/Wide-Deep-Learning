{
 "cells": [
  {
   "cell_type": "markdown",
   "metadata": {},
   "source": [
    "Recommendation System\n",
    "==========="
   ]
  },
  {
   "cell_type": "markdown",
   "metadata": {},
   "source": [
    "Doc2vec + Wide & Deep 을 이용한 추천시스템\n",
    "----------------------------------"
   ]
  },
  {
   "cell_type": "markdown",
   "metadata": {},
   "source": [
    "<div style=\"text-align:right\"><h3>\n",
    "J. H. Park 2017.08.16.\n",
    "</h3></div>"
   ]
  },
  {
   "cell_type": "markdown",
   "metadata": {},
   "source": [
    "---"
   ]
  },
  {
   "cell_type": "markdown",
   "metadata": {},
   "source": [
    "### 순서\n",
    "\n",
    "1. 데이터 소개\n",
    "2. Doc2Vec\n",
    "3. Wide & Deep\n",
    "4. Recommendation\n",
    "5. 결론"
   ]
  },
  {
   "cell_type": "markdown",
   "metadata": {},
   "source": [
    "---"
   ]
  },
  {
   "cell_type": "markdown",
   "metadata": {},
   "source": [
    "본 문서에 사용된 데이터는 Lpoint 2016년 공모전에서 제공받은 데이터임을 밝힙니다."
   ]
  },
  {
   "cell_type": "markdown",
   "metadata": {},
   "source": [
    "---"
   ]
  },
  {
   "cell_type": "markdown",
   "metadata": {},
   "source": [
    "# 1. 데이터 소개"
   ]
  },
  {
   "cell_type": "markdown",
   "metadata": {},
   "source": [
    "해당 데이터가 꽤 크므로 간단한 분석용으로 줄였습니다.\n",
    "\n",
    "* B 제휴사 거래내역\n",
    "* 한번 구매할 때 2개 품목 이상인 거래  (이하 session 이라고 표현).\n",
    "* 10번 이상 거래내역이 있는 고객 \n",
    "\n",
    "위 조건 중에서 고객별로 시간상 최근 거래내역 10개를 가지고 왔습니다.  \n",
    "'각 데이터는 아래 진행될 분석 흐름에 맞게 사전에 `R`로 핸들링 하였습니다."
   ]
  },
  {
   "cell_type": "code",
   "execution_count": 1,
   "metadata": {
    "collapsed": true
   },
   "outputs": [],
   "source": [
    "import pandas as pd\n",
    "import numpy as np\n",
    "import matplotlib.pyplot as plt"
   ]
  },
  {
   "cell_type": "code",
   "execution_count": 2,
   "metadata": {
    "collapsed": true
   },
   "outputs": [],
   "source": [
    "train_data = pd.read_csv(\"./data/Lpoint_B/train_data.csv\", encoding=\"cp949\")\n",
    "train_label = pd.read_csv(\"./data/Lpoint_B/train_label.csv\", encoding=\"cp949\")\n",
    "\n",
    "test_data = pd.read_csv(\"./data/Lpoint_B/test_data.csv\", encoding=\"cp949\")\n",
    "test_label = pd.read_csv(\"./data/Lpoint_B/test_label.csv\", encoding=\"cp949\")\n",
    "test_label_real = pd.read_csv(\"./data/Lpoint_B/test_label_real.csv\", encoding=\"cp949\")\n",
    "\n",
    "categorical_data = pd.read_csv(\"./data/Lpoint_B/categorical.csv\", encoding=\"cp949\")\n",
    "continuous_data = pd.read_csv(\"./data/Lpoint_B/continuous.csv\", encoding=\"cp949\")"
   ]
  },
  {
   "cell_type": "markdown",
   "metadata": {},
   "source": [
    "용량을 위해 NA 값들을 채워 넣지 않았습니다. 이를 fillna 핸들링 합니다.  \n",
    "tip: NA를 0으로 채워넣고 저장을 한다면 용량이 2배가량 증가합니다."
   ]
  },
  {
   "cell_type": "code",
   "execution_count": 3,
   "metadata": {
    "collapsed": true
   },
   "outputs": [],
   "source": [
    "train_label = train_label.fillna(0)\n",
    "test_label_real = test_label_real.fillna(0)"
   ]
  },
  {
   "cell_type": "markdown",
   "metadata": {},
   "source": [
    "### Doc2Vec에 Input 으로 사용될 형식"
   ]
  },
  {
   "cell_type": "code",
   "execution_count": 4,
   "metadata": {
    "scrolled": true
   },
   "outputs": [
    {
     "data": {
      "text/html": [
       "<div>\n",
       "<style>\n",
       "    .dataframe thead tr:only-child th {\n",
       "        text-align: right;\n",
       "    }\n",
       "\n",
       "    .dataframe thead th {\n",
       "        text-align: left;\n",
       "    }\n",
       "\n",
       "    .dataframe tbody tr th {\n",
       "        vertical-align: top;\n",
       "    }\n",
       "</style>\n",
       "<table border=\"1\" class=\"dataframe\">\n",
       "  <thead>\n",
       "    <tr style=\"text-align: right;\">\n",
       "      <th></th>\n",
       "      <th>item</th>\n",
       "      <th>영수증번호</th>\n",
       "      <th>고객번호</th>\n",
       "    </tr>\n",
       "  </thead>\n",
       "  <tbody>\n",
       "    <tr>\n",
       "      <th>0</th>\n",
       "      <td>B610102/FAST_FOOD B620202/피자</td>\n",
       "      <td>1402</td>\n",
       "      <td>7473</td>\n",
       "    </tr>\n",
       "    <tr>\n",
       "      <th>1</th>\n",
       "      <td>B120603/축산물통조림 B130208/분말차</td>\n",
       "      <td>1986</td>\n",
       "      <td>10586</td>\n",
       "    </tr>\n",
       "    <tr>\n",
       "      <th>2</th>\n",
       "      <td>B050101/시금치 B050702/양파 B100502/어린이/액상요구르트 B100...</td>\n",
       "      <td>4554</td>\n",
       "      <td>7473</td>\n",
       "    </tr>\n",
       "    <tr>\n",
       "      <th>3</th>\n",
       "      <td>B050407/새송이버섯 B050906/친환경잎채소 B100604/크림/연유 B15...</td>\n",
       "      <td>4555</td>\n",
       "      <td>7473</td>\n",
       "    </tr>\n",
       "    <tr>\n",
       "      <th>4</th>\n",
       "      <td>B560203/음료 B610102/FAST_FOOD B620202/피자</td>\n",
       "      <td>4569</td>\n",
       "      <td>7473</td>\n",
       "    </tr>\n",
       "  </tbody>\n",
       "</table>\n",
       "</div>"
      ],
      "text/plain": [
       "                                                item  영수증번호   고객번호\n",
       "0                       B610102/FAST_FOOD B620202/피자   1402   7473\n",
       "1                         B120603/축산물통조림 B130208/분말차   1986  10586\n",
       "2  B050101/시금치 B050702/양파 B100502/어린이/액상요구르트 B100...   4554   7473\n",
       "3  B050407/새송이버섯 B050906/친환경잎채소 B100604/크림/연유 B15...   4555   7473\n",
       "4            B560203/음료 B610102/FAST_FOOD B620202/피자   4569   7473"
      ]
     },
     "execution_count": 4,
     "metadata": {},
     "output_type": "execute_result"
    }
   ],
   "source": [
    "train_data.head()"
   ]
  },
  {
   "cell_type": "markdown",
   "metadata": {},
   "source": [
    "### Wide&Deep에 Label 로 사용될 형식"
   ]
  },
  {
   "cell_type": "code",
   "execution_count": 5,
   "metadata": {},
   "outputs": [
    {
     "data": {
      "text/html": [
       "<div>\n",
       "<style>\n",
       "    .dataframe thead tr:only-child th {\n",
       "        text-align: right;\n",
       "    }\n",
       "\n",
       "    .dataframe thead th {\n",
       "        text-align: left;\n",
       "    }\n",
       "\n",
       "    .dataframe tbody tr th {\n",
       "        vertical-align: top;\n",
       "    }\n",
       "</style>\n",
       "<table border=\"1\" class=\"dataframe\">\n",
       "  <thead>\n",
       "    <tr style=\"text-align: right;\">\n",
       "      <th></th>\n",
       "      <th>B010101/가지</th>\n",
       "      <th>B010102/고추</th>\n",
       "      <th>B010103/구색_호박</th>\n",
       "      <th>B010104/기타열매채소</th>\n",
       "      <th>B010105/단호박</th>\n",
       "      <th>B010106/애호박</th>\n",
       "      <th>B010107/여주</th>\n",
       "      <th>B010108/오이</th>\n",
       "      <th>B010109/옥수수</th>\n",
       "      <th>B010110/친환경열매채소</th>\n",
       "      <th>...</th>\n",
       "      <th>B920502/국산체리</th>\n",
       "      <th>B920503/매실</th>\n",
       "      <th>B920504/모과</th>\n",
       "      <th>B920505/무화과</th>\n",
       "      <th>B920506/살구</th>\n",
       "      <th>B920507/쇼케이스과일</th>\n",
       "      <th>B920508/유자</th>\n",
       "      <th>B920509/친환경구색과일</th>\n",
       "      <th>B920602/생율</th>\n",
       "      <th>B920603/피밤</th>\n",
       "    </tr>\n",
       "  </thead>\n",
       "  <tbody>\n",
       "    <tr>\n",
       "      <th>0</th>\n",
       "      <td>0.0</td>\n",
       "      <td>0.0</td>\n",
       "      <td>0.0</td>\n",
       "      <td>0.0</td>\n",
       "      <td>0.0</td>\n",
       "      <td>0.0</td>\n",
       "      <td>0.0</td>\n",
       "      <td>0.0</td>\n",
       "      <td>0.0</td>\n",
       "      <td>0.0</td>\n",
       "      <td>...</td>\n",
       "      <td>0.0</td>\n",
       "      <td>0.0</td>\n",
       "      <td>0.0</td>\n",
       "      <td>0.0</td>\n",
       "      <td>0.0</td>\n",
       "      <td>0.0</td>\n",
       "      <td>0.0</td>\n",
       "      <td>0.0</td>\n",
       "      <td>0.0</td>\n",
       "      <td>0.0</td>\n",
       "    </tr>\n",
       "    <tr>\n",
       "      <th>1</th>\n",
       "      <td>0.0</td>\n",
       "      <td>0.0</td>\n",
       "      <td>0.0</td>\n",
       "      <td>0.0</td>\n",
       "      <td>0.0</td>\n",
       "      <td>0.0</td>\n",
       "      <td>0.0</td>\n",
       "      <td>0.0</td>\n",
       "      <td>0.0</td>\n",
       "      <td>0.0</td>\n",
       "      <td>...</td>\n",
       "      <td>0.0</td>\n",
       "      <td>0.0</td>\n",
       "      <td>0.0</td>\n",
       "      <td>0.0</td>\n",
       "      <td>0.0</td>\n",
       "      <td>0.0</td>\n",
       "      <td>0.0</td>\n",
       "      <td>0.0</td>\n",
       "      <td>0.0</td>\n",
       "      <td>0.0</td>\n",
       "    </tr>\n",
       "    <tr>\n",
       "      <th>2</th>\n",
       "      <td>0.0</td>\n",
       "      <td>0.0</td>\n",
       "      <td>0.0</td>\n",
       "      <td>0.0</td>\n",
       "      <td>0.0</td>\n",
       "      <td>0.0</td>\n",
       "      <td>0.0</td>\n",
       "      <td>0.0</td>\n",
       "      <td>0.0</td>\n",
       "      <td>0.0</td>\n",
       "      <td>...</td>\n",
       "      <td>0.0</td>\n",
       "      <td>0.0</td>\n",
       "      <td>0.0</td>\n",
       "      <td>0.0</td>\n",
       "      <td>0.0</td>\n",
       "      <td>0.0</td>\n",
       "      <td>0.0</td>\n",
       "      <td>0.0</td>\n",
       "      <td>0.0</td>\n",
       "      <td>0.0</td>\n",
       "    </tr>\n",
       "    <tr>\n",
       "      <th>3</th>\n",
       "      <td>0.0</td>\n",
       "      <td>0.0</td>\n",
       "      <td>0.0</td>\n",
       "      <td>0.0</td>\n",
       "      <td>0.0</td>\n",
       "      <td>0.0</td>\n",
       "      <td>0.0</td>\n",
       "      <td>0.0</td>\n",
       "      <td>0.0</td>\n",
       "      <td>0.0</td>\n",
       "      <td>...</td>\n",
       "      <td>0.0</td>\n",
       "      <td>0.0</td>\n",
       "      <td>0.0</td>\n",
       "      <td>0.0</td>\n",
       "      <td>0.0</td>\n",
       "      <td>0.0</td>\n",
       "      <td>0.0</td>\n",
       "      <td>0.0</td>\n",
       "      <td>0.0</td>\n",
       "      <td>0.0</td>\n",
       "    </tr>\n",
       "    <tr>\n",
       "      <th>4</th>\n",
       "      <td>0.0</td>\n",
       "      <td>0.0</td>\n",
       "      <td>0.0</td>\n",
       "      <td>0.0</td>\n",
       "      <td>0.0</td>\n",
       "      <td>0.0</td>\n",
       "      <td>0.0</td>\n",
       "      <td>0.0</td>\n",
       "      <td>0.0</td>\n",
       "      <td>0.0</td>\n",
       "      <td>...</td>\n",
       "      <td>0.0</td>\n",
       "      <td>0.0</td>\n",
       "      <td>0.0</td>\n",
       "      <td>0.0</td>\n",
       "      <td>0.0</td>\n",
       "      <td>0.0</td>\n",
       "      <td>0.0</td>\n",
       "      <td>0.0</td>\n",
       "      <td>0.0</td>\n",
       "      <td>0.0</td>\n",
       "    </tr>\n",
       "  </tbody>\n",
       "</table>\n",
       "<p>5 rows × 2266 columns</p>\n",
       "</div>"
      ],
      "text/plain": [
       "   B010101/가지  B010102/고추  B010103/구색_호박  B010104/기타열매채소  B010105/단호박  \\\n",
       "0         0.0         0.0            0.0             0.0          0.0   \n",
       "1         0.0         0.0            0.0             0.0          0.0   \n",
       "2         0.0         0.0            0.0             0.0          0.0   \n",
       "3         0.0         0.0            0.0             0.0          0.0   \n",
       "4         0.0         0.0            0.0             0.0          0.0   \n",
       "\n",
       "   B010106/애호박  B010107/여주  B010108/오이  B010109/옥수수  B010110/친환경열매채소  \\\n",
       "0          0.0         0.0         0.0          0.0              0.0   \n",
       "1          0.0         0.0         0.0          0.0              0.0   \n",
       "2          0.0         0.0         0.0          0.0              0.0   \n",
       "3          0.0         0.0         0.0          0.0              0.0   \n",
       "4          0.0         0.0         0.0          0.0              0.0   \n",
       "\n",
       "      ...      B920502/국산체리  B920503/매실  B920504/모과  B920505/무화과  B920506/살구  \\\n",
       "0     ...               0.0         0.0         0.0          0.0         0.0   \n",
       "1     ...               0.0         0.0         0.0          0.0         0.0   \n",
       "2     ...               0.0         0.0         0.0          0.0         0.0   \n",
       "3     ...               0.0         0.0         0.0          0.0         0.0   \n",
       "4     ...               0.0         0.0         0.0          0.0         0.0   \n",
       "\n",
       "   B920507/쇼케이스과일  B920508/유자  B920509/친환경구색과일  B920602/생율  B920603/피밤  \n",
       "0             0.0         0.0              0.0         0.0         0.0  \n",
       "1             0.0         0.0              0.0         0.0         0.0  \n",
       "2             0.0         0.0              0.0         0.0         0.0  \n",
       "3             0.0         0.0              0.0         0.0         0.0  \n",
       "4             0.0         0.0              0.0         0.0         0.0  \n",
       "\n",
       "[5 rows x 2266 columns]"
      ]
     },
     "execution_count": 5,
     "metadata": {},
     "output_type": "execute_result"
    }
   ],
   "source": [
    "train_label.head()"
   ]
  },
  {
   "cell_type": "markdown",
   "metadata": {},
   "source": [
    "### Wide&Deep에 User Features 로 사용될 형식"
   ]
  },
  {
   "cell_type": "code",
   "execution_count": 6,
   "metadata": {},
   "outputs": [
    {
     "data": {
      "text/html": [
       "<div>\n",
       "<style>\n",
       "    .dataframe thead tr:only-child th {\n",
       "        text-align: right;\n",
       "    }\n",
       "\n",
       "    .dataframe thead th {\n",
       "        text-align: left;\n",
       "    }\n",
       "\n",
       "    .dataframe tbody tr th {\n",
       "        vertical-align: top;\n",
       "    }\n",
       "</style>\n",
       "<table border=\"1\" class=\"dataframe\">\n",
       "  <thead>\n",
       "    <tr style=\"text-align: right;\">\n",
       "      <th></th>\n",
       "      <th>성별</th>\n",
       "      <th>연령대</th>\n",
       "      <th>A거주지역</th>\n",
       "      <th>다둥이</th>\n",
       "      <th>더영</th>\n",
       "      <th>롭스</th>\n",
       "      <th>하이마트</th>\n",
       "    </tr>\n",
       "  </thead>\n",
       "  <tbody>\n",
       "    <tr>\n",
       "      <th>0</th>\n",
       "      <td>F</td>\n",
       "      <td>40세~44세</td>\n",
       "      <td>A69</td>\n",
       "      <td>0.0</td>\n",
       "      <td>0.0</td>\n",
       "      <td>0.0</td>\n",
       "      <td>0.0</td>\n",
       "    </tr>\n",
       "    <tr>\n",
       "      <th>1</th>\n",
       "      <td>F</td>\n",
       "      <td>55세~59세</td>\n",
       "      <td>A72</td>\n",
       "      <td>0.0</td>\n",
       "      <td>0.0</td>\n",
       "      <td>0.0</td>\n",
       "      <td>1.0</td>\n",
       "    </tr>\n",
       "    <tr>\n",
       "      <th>2</th>\n",
       "      <td>F</td>\n",
       "      <td>40세~44세</td>\n",
       "      <td>A69</td>\n",
       "      <td>0.0</td>\n",
       "      <td>0.0</td>\n",
       "      <td>0.0</td>\n",
       "      <td>0.0</td>\n",
       "    </tr>\n",
       "    <tr>\n",
       "      <th>3</th>\n",
       "      <td>F</td>\n",
       "      <td>40세~44세</td>\n",
       "      <td>A69</td>\n",
       "      <td>0.0</td>\n",
       "      <td>0.0</td>\n",
       "      <td>0.0</td>\n",
       "      <td>0.0</td>\n",
       "    </tr>\n",
       "    <tr>\n",
       "      <th>4</th>\n",
       "      <td>F</td>\n",
       "      <td>40세~44세</td>\n",
       "      <td>A69</td>\n",
       "      <td>0.0</td>\n",
       "      <td>0.0</td>\n",
       "      <td>0.0</td>\n",
       "      <td>0.0</td>\n",
       "    </tr>\n",
       "  </tbody>\n",
       "</table>\n",
       "</div>"
      ],
      "text/plain": [
       "  성별      연령대 A거주지역  다둥이   더영   롭스  하이마트\n",
       "0  F  40세~44세   A69  0.0  0.0  0.0   0.0\n",
       "1  F  55세~59세   A72  0.0  0.0  0.0   1.0\n",
       "2  F  40세~44세   A69  0.0  0.0  0.0   0.0\n",
       "3  F  40세~44세   A69  0.0  0.0  0.0   0.0\n",
       "4  F  40세~44세   A69  0.0  0.0  0.0   0.0"
      ]
     },
     "execution_count": 6,
     "metadata": {},
     "output_type": "execute_result"
    }
   ],
   "source": [
    "categorical_data = categorical_data.fillna(0)\n",
    "del categorical_data[\"영수증번호\"], categorical_data[\"고객번호\"]\n",
    "categorical_data.head()"
   ]
  },
  {
   "cell_type": "code",
   "execution_count": 7,
   "metadata": {
    "scrolled": true
   },
   "outputs": [
    {
     "data": {
      "text/html": [
       "<div>\n",
       "<style>\n",
       "    .dataframe thead tr:only-child th {\n",
       "        text-align: right;\n",
       "    }\n",
       "\n",
       "    .dataframe thead th {\n",
       "        text-align: left;\n",
       "    }\n",
       "\n",
       "    .dataframe tbody tr th {\n",
       "        vertical-align: top;\n",
       "    }\n",
       "</style>\n",
       "<table border=\"1\" class=\"dataframe\">\n",
       "  <thead>\n",
       "    <tr style=\"text-align: right;\">\n",
       "      <th></th>\n",
       "      <th>A_MOBILE/APP</th>\n",
       "      <th>B_MOBILE/APP</th>\n",
       "      <th>B_ONLINEMALL</th>\n",
       "      <th>C_MOBILE/APP</th>\n",
       "      <th>C_ONLINEMALL</th>\n",
       "      <th>D_MOBILE/APP</th>\n",
       "      <th>A01</th>\n",
       "      <th>A02</th>\n",
       "      <th>B01</th>\n",
       "      <th>B02</th>\n",
       "      <th>C01</th>\n",
       "      <th>C02</th>\n",
       "      <th>C03</th>\n",
       "      <th>D01</th>\n",
       "      <th>D02</th>\n",
       "    </tr>\n",
       "  </thead>\n",
       "  <tbody>\n",
       "    <tr>\n",
       "      <th>0</th>\n",
       "      <td>0.0</td>\n",
       "      <td>3.0</td>\n",
       "      <td>0.0</td>\n",
       "      <td>0.0</td>\n",
       "      <td>0.0</td>\n",
       "      <td>0.0</td>\n",
       "      <td>1.0</td>\n",
       "      <td>1.0</td>\n",
       "      <td>0.0</td>\n",
       "      <td>0.0</td>\n",
       "      <td>1.0</td>\n",
       "      <td>0.0</td>\n",
       "      <td>0.0</td>\n",
       "      <td>0.0</td>\n",
       "      <td>0.0</td>\n",
       "    </tr>\n",
       "    <tr>\n",
       "      <th>1</th>\n",
       "      <td>0.0</td>\n",
       "      <td>0.0</td>\n",
       "      <td>0.0</td>\n",
       "      <td>0.0</td>\n",
       "      <td>0.0</td>\n",
       "      <td>0.0</td>\n",
       "      <td>0.0</td>\n",
       "      <td>0.0</td>\n",
       "      <td>0.0</td>\n",
       "      <td>0.0</td>\n",
       "      <td>0.0</td>\n",
       "      <td>0.0</td>\n",
       "      <td>0.0</td>\n",
       "      <td>0.0</td>\n",
       "      <td>0.0</td>\n",
       "    </tr>\n",
       "    <tr>\n",
       "      <th>2</th>\n",
       "      <td>0.0</td>\n",
       "      <td>3.0</td>\n",
       "      <td>0.0</td>\n",
       "      <td>0.0</td>\n",
       "      <td>0.0</td>\n",
       "      <td>0.0</td>\n",
       "      <td>1.0</td>\n",
       "      <td>1.0</td>\n",
       "      <td>0.0</td>\n",
       "      <td>0.0</td>\n",
       "      <td>1.0</td>\n",
       "      <td>0.0</td>\n",
       "      <td>0.0</td>\n",
       "      <td>0.0</td>\n",
       "      <td>0.0</td>\n",
       "    </tr>\n",
       "    <tr>\n",
       "      <th>3</th>\n",
       "      <td>0.0</td>\n",
       "      <td>3.0</td>\n",
       "      <td>0.0</td>\n",
       "      <td>0.0</td>\n",
       "      <td>0.0</td>\n",
       "      <td>0.0</td>\n",
       "      <td>1.0</td>\n",
       "      <td>1.0</td>\n",
       "      <td>0.0</td>\n",
       "      <td>0.0</td>\n",
       "      <td>1.0</td>\n",
       "      <td>0.0</td>\n",
       "      <td>0.0</td>\n",
       "      <td>0.0</td>\n",
       "      <td>0.0</td>\n",
       "    </tr>\n",
       "    <tr>\n",
       "      <th>4</th>\n",
       "      <td>0.0</td>\n",
       "      <td>3.0</td>\n",
       "      <td>0.0</td>\n",
       "      <td>0.0</td>\n",
       "      <td>0.0</td>\n",
       "      <td>0.0</td>\n",
       "      <td>1.0</td>\n",
       "      <td>1.0</td>\n",
       "      <td>0.0</td>\n",
       "      <td>0.0</td>\n",
       "      <td>1.0</td>\n",
       "      <td>0.0</td>\n",
       "      <td>0.0</td>\n",
       "      <td>0.0</td>\n",
       "      <td>0.0</td>\n",
       "    </tr>\n",
       "  </tbody>\n",
       "</table>\n",
       "</div>"
      ],
      "text/plain": [
       "   A_MOBILE/APP  B_MOBILE/APP  B_ONLINEMALL  C_MOBILE/APP  C_ONLINEMALL  \\\n",
       "0           0.0           3.0           0.0           0.0           0.0   \n",
       "1           0.0           0.0           0.0           0.0           0.0   \n",
       "2           0.0           3.0           0.0           0.0           0.0   \n",
       "3           0.0           3.0           0.0           0.0           0.0   \n",
       "4           0.0           3.0           0.0           0.0           0.0   \n",
       "\n",
       "   D_MOBILE/APP  A01  A02  B01  B02  C01  C02  C03  D01  D02  \n",
       "0           0.0  1.0  1.0  0.0  0.0  1.0  0.0  0.0  0.0  0.0  \n",
       "1           0.0  0.0  0.0  0.0  0.0  0.0  0.0  0.0  0.0  0.0  \n",
       "2           0.0  1.0  1.0  0.0  0.0  1.0  0.0  0.0  0.0  0.0  \n",
       "3           0.0  1.0  1.0  0.0  0.0  1.0  0.0  0.0  0.0  0.0  \n",
       "4           0.0  1.0  1.0  0.0  0.0  1.0  0.0  0.0  0.0  0.0  "
      ]
     },
     "execution_count": 7,
     "metadata": {},
     "output_type": "execute_result"
    }
   ],
   "source": [
    "continuous_data = continuous_data.fillna(0)\n",
    "del continuous_data[\"영수증번호\"], continuous_data[\"고객번호\"]\n",
    "continuous_data.head()"
   ]
  },
  {
   "cell_type": "markdown",
   "metadata": {},
   "source": [
    "---"
   ]
  },
  {
   "cell_type": "markdown",
   "metadata": {},
   "source": [
    "본 문서에서는 고객별로 가장 최근 구매 내역을 Test 로 선정하고, 이전 9번의 구매내역을 Train 데이터로 선정하였습니다.  \n",
    "\n",
    "추천 방식은 Train 인 9번의 구매내역을 (누적 구매 내역) 이용해서 추천을 한 후 Test 데이터로 평가하는 방식을 소개합니다.  \n",
    "(Test 데이터는 추천 방식에 따라 달라질 수 있습니다. )\n",
    "\n",
    "Train : 113265건  \n",
    "Test  : 12585건"
   ]
  },
  {
   "cell_type": "markdown",
   "metadata": {},
   "source": [
    "Train 과 Test에서 한 번의 구매에서 결제하는 상품의 개수는 다음과 같습니다."
   ]
  },
  {
   "cell_type": "code",
   "execution_count": 8,
   "metadata": {
    "collapsed": true
   },
   "outputs": [],
   "source": [
    "Train_session = train_label.apply(np.sum, axis=1)\n",
    "Test_session = test_label_real.apply(np.sum, axis=1)"
   ]
  },
  {
   "cell_type": "code",
   "execution_count": 9,
   "metadata": {
    "collapsed": true
   },
   "outputs": [],
   "source": [
    "from matplotlib import font_manager, rc\n",
    "font_fname = '/usr/share/fonts/truetype/nanum/NanumBarunGothic.ttf'\n",
    "font_name = font_manager.FontProperties(fname=font_fname).get_name()\n",
    "rc('font', family=font_name)"
   ]
  },
  {
   "cell_type": "code",
   "execution_count": 60,
   "metadata": {
    "scrolled": false
   },
   "outputs": [
    {
     "data": {
      "image/png": "[encoded data removed]",
      "text/plain": [
       "<matplotlib.figure.Figure at 0x7fd0af1f02e8>"
      ]
     },
     "metadata": {},
     "output_type": "display_data"
    }
   ],
   "source": [
    "plt.hist(Train_session, 50)\n",
    "plt.title(u'Train data: 구매 수 / session')\n",
    "plt.show()"
   ]
  },
  {
   "cell_type": "code",
   "execution_count": 11,
   "metadata": {},
   "outputs": [
    {
     "data": {
      "text/plain": [
       "min      2.000000\n",
       "max     57.000000\n",
       "mean     5.970238\n",
       "dtype: float64"
      ]
     },
     "execution_count": 11,
     "metadata": {},
     "output_type": "execute_result"
    }
   ],
   "source": [
    "Train_session.agg(['min','max','mean'])"
   ]
  },
  {
   "cell_type": "code",
   "execution_count": 61,
   "metadata": {},
   "outputs": [
    {
     "data": {
      "image/png": "[encoded data removed]",
      "text/plain": [
       "<matplotlib.figure.Figure at 0x7fd1ec7df320>"
      ]
     },
     "metadata": {},
     "output_type": "display_data"
    }
   ],
   "source": [
    "plt.hist(Test_session, 50)\n",
    "plt.title(u'Test data: 구매 수 / session')\n",
    "plt.show()"
   ]
  },
  {
   "cell_type": "code",
   "execution_count": 13,
   "metadata": {},
   "outputs": [
    {
     "data": {
      "text/plain": [
       "min      2.000000\n",
       "max     57.000000\n",
       "mean     5.970238\n",
       "dtype: float64"
      ]
     },
     "execution_count": 13,
     "metadata": {},
     "output_type": "execute_result"
    }
   ],
   "source": [
    "Train_session.agg(['min','max','mean'])"
   ]
  },
  {
   "cell_type": "code",
   "execution_count": 14,
   "metadata": {},
   "outputs": [
    {
     "data": {
      "text/plain": [
       "min      2.000000\n",
       "max     45.000000\n",
       "mean     5.966389\n",
       "dtype: float64"
      ]
     },
     "execution_count": 14,
     "metadata": {},
     "output_type": "execute_result"
    }
   ],
   "source": [
    "Test_session.agg(['min','max','mean'])"
   ]
  },
  {
   "cell_type": "markdown",
   "metadata": {},
   "source": [
    "---"
   ]
  },
  {
   "cell_type": "markdown",
   "metadata": {},
   "source": [
    "# 2. Doc2Vec"
   ]
  },
  {
   "cell_type": "code",
   "execution_count": 15,
   "metadata": {},
   "outputs": [
    {
     "data": {
      "text/plain": [
       "2266"
      ]
     },
     "execution_count": 15,
     "metadata": {},
     "output_type": "execute_result"
    }
   ],
   "source": [
    "len(train_label.columns)"
   ]
  },
  {
   "cell_type": "markdown",
   "metadata": {},
   "source": [
    "해당 데이터의 column은 2266개의 label을 가지고 있습니다. 2266개의 상품이 거래됐다는 뜻입니다.\n",
    "이 데이터를 input으로 그냥 넣기에는 고전적 deep learning 방식이며 one-hot 방식을 취하므로 \"사과\" 라는 데이터를 구매한 특징을 잘 살리지 못할 수 있습니다.  \n",
    "\n",
    "이러한 이유로 해당 데이터를 Gensim의 Doc2Vec기술[[2]](https://arxiv.org/abs/1405.4053)   로 Embedding을 제안해 볼 수 있습니다. Hinton 교수님이 설명한 Deep learning에서 분산표현의 의미를 살리자는 것입니다.   \n",
    "NLP 계열에서 사용하는 Doc2Vec을 상품에 적용한 Item2Vec 이라고 말하고 싶습니다."
   ]
  },
  {
   "cell_type": "code",
   "execution_count": 16,
   "metadata": {},
   "outputs": [
    {
     "data": {
      "image/png": "[encoded data removed]",
      "text/plain": [
       "<IPython.core.display.Image object>"
      ]
     },
     "execution_count": 16,
     "metadata": {},
     "output_type": "execute_result"
    }
   ],
   "source": [
    "from IPython.display import Image\n",
    "Image('images/분산표현2.png')"
   ]
  },
  {
   "cell_type": "code",
   "execution_count": 17,
   "metadata": {
    "collapsed": true
   },
   "outputs": [],
   "source": [
    "train_docs = [(str(row['item']).split(), row['고객번호']) for idx, row in train_data.iterrows()]\n",
    "test_docs = [(str(row['item']).split(), row['고객번호']) for idx, row in test_data.iterrows()]"
   ]
  },
  {
   "cell_type": "code",
   "execution_count": 18,
   "metadata": {},
   "outputs": [
    {
     "data": {
      "text/plain": [
       "(['B610102/FAST_FOOD', 'B620202/피자'], 7473)"
      ]
     },
     "execution_count": 18,
     "metadata": {},
     "output_type": "execute_result"
    }
   ],
   "source": [
    "train_docs[0]"
   ]
  },
  {
   "cell_type": "markdown",
   "metadata": {},
   "source": [
    "위 list는 `ID:7473` 인 고객이 한 번 결제할 때 구매한 내역입니다."
   ]
  },
  {
   "cell_type": "code",
   "execution_count": 19,
   "metadata": {
    "collapsed": true
   },
   "outputs": [],
   "source": [
    "from gensim.models import doc2vec\n",
    "from collections import namedtuple\n",
    "import multiprocessing"
   ]
  },
  {
   "cell_type": "code",
   "execution_count": 20,
   "metadata": {
    "collapsed": true
   },
   "outputs": [],
   "source": [
    "TaggedDocument = namedtuple('TaggedDocument', 'words tags')\n",
    "tagged_train_docs = [TaggedDocument(d, [c]) for d, c in train_docs]\n",
    "tagged_test_docs = [TaggedDocument(d, [c]) for d, c in test_docs]\n",
    "\n",
    "cores = multiprocessing.cpu_count()"
   ]
  },
  {
   "cell_type": "markdown",
   "metadata": {},
   "source": [
    "해당 Parameters는 [Rakuten [1]](https://www.slideshare.net/rakutentech/recommender-system-with-distributed-representation) 에서 실험한 Doc2Vec을 이용한 상품추천 시스템에 적용한 최적의 결과를 적용하였습니다."
   ]
  },
  {
   "cell_type": "code",
   "execution_count": 16,
   "metadata": {},
   "outputs": [
    {
     "name": "stdout",
     "output_type": "stream",
     "text": [
      "Doc2Vec(dbow,d300,n5,hs,mc3,s1e-05,t16)\n"
     ]
    }
   ],
   "source": [
    "if False:\n",
    "    doc_vectorizer = doc2vec.Doc2Vec(\n",
    "    \n",
    "    dm = 0,            # PV-DBOW\n",
    "    dbow_words = 0,    # w2v simultaneous with DBOW d2v / default 0\n",
    "    window = 8,        # distance between the predicted word and context words \n",
    "    size = 300,        # vector size \n",
    "    alpha = 0.025,     # learning-rate\n",
    "    min_alpha = 0.025, # min learning-rate\n",
    "    \n",
    "    seed = 1,\n",
    "    \n",
    "    sample= 1e-5,      # threshold for configuring\n",
    "    min_count=3,       # ignore with freq lower\n",
    "    workers=cores,     # multi cpu\n",
    "    hs = 1             # hierarchical softmax / default 0\n",
    "    )\n",
    "\n",
    "    doc_vectorizer.build_vocab(tagged_train_docs)\n",
    "    print(str(doc_vectorizer))"
   ]
  },
  {
   "cell_type": "code",
   "execution_count": 17,
   "metadata": {},
   "outputs": [
    {
     "name": "stdout",
     "output_type": "stream",
     "text": [
      "CPU times: user 27.9 s, sys: 3.12 s, total: 31 s\n",
      "Wall time: 24 s\n",
      "CPU times: user 28 s, sys: 3.34 s, total: 31.4 s\n",
      "Wall time: 24.2 s\n",
      "CPU times: user 28.3 s, sys: 3.3 s, total: 31.6 s\n",
      "Wall time: 24.4 s\n",
      "CPU times: user 28.1 s, sys: 3.4 s, total: 31.5 s\n",
      "Wall time: 24.3 s\n",
      "CPU times: user 28.1 s, sys: 3.31 s, total: 31.4 s\n",
      "Wall time: 24.2 s\n",
      "CPU times: user 28 s, sys: 3.46 s, total: 31.5 s\n",
      "Wall time: 24.3 s\n",
      "CPU times: user 28.2 s, sys: 3.48 s, total: 31.7 s\n",
      "Wall time: 24.5 s\n",
      "CPU times: user 28.5 s, sys: 3.51 s, total: 32 s\n",
      "Wall time: 24.7 s\n",
      "CPU times: user 27.6 s, sys: 3.23 s, total: 30.8 s\n",
      "Wall time: 23.8 s\n",
      "CPU times: user 29 s, sys: 3.39 s, total: 32.4 s\n",
      "Wall time: 25 s\n",
      "CPU times: user 27.7 s, sys: 3.05 s, total: 30.7 s\n",
      "Wall time: 23.8 s\n",
      "CPU times: user 27.5 s, sys: 3.26 s, total: 30.7 s\n",
      "Wall time: 23.8 s\n",
      "CPU times: user 27.8 s, sys: 3.08 s, total: 30.9 s\n",
      "Wall time: 23.9 s\n",
      "CPU times: user 28.1 s, sys: 3.52 s, total: 31.6 s\n",
      "Wall time: 24.4 s\n",
      "CPU times: user 28.1 s, sys: 3.35 s, total: 31.4 s\n",
      "Wall time: 24.3 s\n",
      "CPU times: user 28.9 s, sys: 3.43 s, total: 32.3 s\n",
      "Wall time: 25 s\n",
      "CPU times: user 27.5 s, sys: 3.12 s, total: 30.7 s\n",
      "Wall time: 23.7 s\n",
      "CPU times: user 28.9 s, sys: 3.42 s, total: 32.3 s\n",
      "Wall time: 25 s\n",
      "CPU times: user 27.9 s, sys: 3.38 s, total: 31.3 s\n",
      "Wall time: 24.2 s\n",
      "CPU times: user 28.1 s, sys: 3.22 s, total: 31.3 s\n",
      "Wall time: 24.2 s\n"
     ]
    }
   ],
   "source": [
    "if False:\n",
    "    for epoch in range(20):\n",
    "    %time doc_vectorizer.train(tagged_train_docs)\n",
    "    doc_vectorizer.alpha -= 0.001\n",
    "    doc_vectorizer.min_alpha = doc_vectorizer.alpha"
   ]
  },
  {
   "cell_type": "code",
   "execution_count": 18,
   "metadata": {
    "collapsed": true
   },
   "outputs": [],
   "source": [
    "# To save\n",
    "doc_vectorizer.save('./Doc_model/D2V_WND.model')"
   ]
  },
  {
   "cell_type": "code",
   "execution_count": 21,
   "metadata": {
    "collapsed": true
   },
   "outputs": [],
   "source": [
    "# To load\n",
    "doc_vectorizer=doc2vec.Doc2Vec.load('./Doc_model/D2V_WND.model')"
   ]
  },
  {
   "cell_type": "markdown",
   "metadata": {},
   "source": [
    "Train 데이터를 이용해서 고객별 session 을 Doc2Vec 을 이용해서 학습하였습니다.  \n",
    "2266개의 Item을 300 차원으로 Embedding 을 진행하여 각 column이 Items 의 특징을 가지게 되었습니다."
   ]
  },
  {
   "cell_type": "code",
   "execution_count": 22,
   "metadata": {
    "collapsed": true
   },
   "outputs": [],
   "source": [
    "train_item = [doc_vectorizer.infer_vector(doc.words) for doc in tagged_train_docs]"
   ]
  },
  {
   "cell_type": "code",
   "execution_count": 23,
   "metadata": {
    "scrolled": true
   },
   "outputs": [
    {
     "data": {
      "text/html": [
       "<div>\n",
       "<style>\n",
       "    .dataframe thead tr:only-child th {\n",
       "        text-align: right;\n",
       "    }\n",
       "\n",
       "    .dataframe thead th {\n",
       "        text-align: left;\n",
       "    }\n",
       "\n",
       "    .dataframe tbody tr th {\n",
       "        vertical-align: top;\n",
       "    }\n",
       "</style>\n",
       "<table border=\"1\" class=\"dataframe\">\n",
       "  <thead>\n",
       "    <tr style=\"text-align: right;\">\n",
       "      <th></th>\n",
       "      <th>0</th>\n",
       "      <th>1</th>\n",
       "      <th>2</th>\n",
       "      <th>3</th>\n",
       "      <th>4</th>\n",
       "      <th>5</th>\n",
       "      <th>6</th>\n",
       "      <th>7</th>\n",
       "      <th>8</th>\n",
       "      <th>9</th>\n",
       "      <th>...</th>\n",
       "      <th>290</th>\n",
       "      <th>291</th>\n",
       "      <th>292</th>\n",
       "      <th>293</th>\n",
       "      <th>294</th>\n",
       "      <th>295</th>\n",
       "      <th>296</th>\n",
       "      <th>297</th>\n",
       "      <th>298</th>\n",
       "      <th>299</th>\n",
       "    </tr>\n",
       "  </thead>\n",
       "  <tbody>\n",
       "    <tr>\n",
       "      <th>0</th>\n",
       "      <td>0.175875</td>\n",
       "      <td>0.050734</td>\n",
       "      <td>0.296223</td>\n",
       "      <td>0.117828</td>\n",
       "      <td>-0.160656</td>\n",
       "      <td>0.156266</td>\n",
       "      <td>-0.133493</td>\n",
       "      <td>-0.214674</td>\n",
       "      <td>-0.205308</td>\n",
       "      <td>0.077506</td>\n",
       "      <td>...</td>\n",
       "      <td>-0.230271</td>\n",
       "      <td>-0.186166</td>\n",
       "      <td>-0.318097</td>\n",
       "      <td>0.127994</td>\n",
       "      <td>-0.116879</td>\n",
       "      <td>0.251906</td>\n",
       "      <td>0.510883</td>\n",
       "      <td>0.306144</td>\n",
       "      <td>0.017437</td>\n",
       "      <td>0.153420</td>\n",
       "    </tr>\n",
       "    <tr>\n",
       "      <th>1</th>\n",
       "      <td>-0.129127</td>\n",
       "      <td>-0.030639</td>\n",
       "      <td>0.169386</td>\n",
       "      <td>0.170035</td>\n",
       "      <td>0.232563</td>\n",
       "      <td>-0.020522</td>\n",
       "      <td>0.031558</td>\n",
       "      <td>0.161347</td>\n",
       "      <td>0.081868</td>\n",
       "      <td>0.163581</td>\n",
       "      <td>...</td>\n",
       "      <td>-0.200750</td>\n",
       "      <td>0.056840</td>\n",
       "      <td>0.048734</td>\n",
       "      <td>-0.208358</td>\n",
       "      <td>-0.178706</td>\n",
       "      <td>-0.127398</td>\n",
       "      <td>0.023481</td>\n",
       "      <td>-0.104483</td>\n",
       "      <td>0.148916</td>\n",
       "      <td>-0.002975</td>\n",
       "    </tr>\n",
       "    <tr>\n",
       "      <th>2</th>\n",
       "      <td>0.078546</td>\n",
       "      <td>0.061433</td>\n",
       "      <td>0.256175</td>\n",
       "      <td>0.212319</td>\n",
       "      <td>0.087957</td>\n",
       "      <td>-0.157241</td>\n",
       "      <td>0.057371</td>\n",
       "      <td>-0.013836</td>\n",
       "      <td>-0.009655</td>\n",
       "      <td>0.092087</td>\n",
       "      <td>...</td>\n",
       "      <td>-0.107305</td>\n",
       "      <td>-0.011472</td>\n",
       "      <td>-0.045192</td>\n",
       "      <td>0.049259</td>\n",
       "      <td>-0.058725</td>\n",
       "      <td>-0.060460</td>\n",
       "      <td>0.110240</td>\n",
       "      <td>0.163316</td>\n",
       "      <td>-0.001388</td>\n",
       "      <td>-0.061461</td>\n",
       "    </tr>\n",
       "    <tr>\n",
       "      <th>3</th>\n",
       "      <td>0.047226</td>\n",
       "      <td>0.429295</td>\n",
       "      <td>0.273046</td>\n",
       "      <td>0.264711</td>\n",
       "      <td>0.020026</td>\n",
       "      <td>-0.008520</td>\n",
       "      <td>-0.380863</td>\n",
       "      <td>0.182935</td>\n",
       "      <td>0.046778</td>\n",
       "      <td>0.307562</td>\n",
       "      <td>...</td>\n",
       "      <td>-0.297329</td>\n",
       "      <td>-0.100919</td>\n",
       "      <td>-0.163673</td>\n",
       "      <td>0.019656</td>\n",
       "      <td>0.049018</td>\n",
       "      <td>-0.263425</td>\n",
       "      <td>0.484752</td>\n",
       "      <td>0.242064</td>\n",
       "      <td>-0.239053</td>\n",
       "      <td>-0.067336</td>\n",
       "    </tr>\n",
       "    <tr>\n",
       "      <th>4</th>\n",
       "      <td>0.034776</td>\n",
       "      <td>0.030256</td>\n",
       "      <td>0.208419</td>\n",
       "      <td>0.080748</td>\n",
       "      <td>-0.289359</td>\n",
       "      <td>0.050520</td>\n",
       "      <td>-0.129854</td>\n",
       "      <td>-0.106762</td>\n",
       "      <td>-0.102888</td>\n",
       "      <td>-0.061810</td>\n",
       "      <td>...</td>\n",
       "      <td>-0.130976</td>\n",
       "      <td>-0.215288</td>\n",
       "      <td>-0.249830</td>\n",
       "      <td>0.032149</td>\n",
       "      <td>-0.124171</td>\n",
       "      <td>0.277337</td>\n",
       "      <td>0.541305</td>\n",
       "      <td>0.159472</td>\n",
       "      <td>-0.008152</td>\n",
       "      <td>-0.018934</td>\n",
       "    </tr>\n",
       "  </tbody>\n",
       "</table>\n",
       "<p>5 rows × 300 columns</p>\n",
       "</div>"
      ],
      "text/plain": [
       "        0         1         2         3         4         5         6    \\\n",
       "0  0.175875  0.050734  0.296223  0.117828 -0.160656  0.156266 -0.133493   \n",
       "1 -0.129127 -0.030639  0.169386  0.170035  0.232563 -0.020522  0.031558   \n",
       "2  0.078546  0.061433  0.256175  0.212319  0.087957 -0.157241  0.057371   \n",
       "3  0.047226  0.429295  0.273046  0.264711  0.020026 -0.008520 -0.380863   \n",
       "4  0.034776  0.030256  0.208419  0.080748 -0.289359  0.050520 -0.129854   \n",
       "\n",
       "        7         8         9      ...          290       291       292  \\\n",
       "0 -0.214674 -0.205308  0.077506    ...    -0.230271 -0.186166 -0.318097   \n",
       "1  0.161347  0.081868  0.163581    ...    -0.200750  0.056840  0.048734   \n",
       "2 -0.013836 -0.009655  0.092087    ...    -0.107305 -0.011472 -0.045192   \n",
       "3  0.182935  0.046778  0.307562    ...    -0.297329 -0.100919 -0.163673   \n",
       "4 -0.106762 -0.102888 -0.061810    ...    -0.130976 -0.215288 -0.249830   \n",
       "\n",
       "        293       294       295       296       297       298       299  \n",
       "0  0.127994 -0.116879  0.251906  0.510883  0.306144  0.017437  0.153420  \n",
       "1 -0.208358 -0.178706 -0.127398  0.023481 -0.104483  0.148916 -0.002975  \n",
       "2  0.049259 -0.058725 -0.060460  0.110240  0.163316 -0.001388 -0.061461  \n",
       "3  0.019656  0.049018 -0.263425  0.484752  0.242064 -0.239053 -0.067336  \n",
       "4  0.032149 -0.124171  0.277337  0.541305  0.159472 -0.008152 -0.018934  \n",
       "\n",
       "[5 rows x 300 columns]"
      ]
     },
     "execution_count": 23,
     "metadata": {},
     "output_type": "execute_result"
    }
   ],
   "source": [
    "train_item_pd = pd.DataFrame(train_item)\n",
    "train_item_pd.head()"
   ]
  },
  {
   "cell_type": "markdown",
   "metadata": {},
   "source": [
    "---"
   ]
  },
  {
   "cell_type": "markdown",
   "metadata": {},
   "source": [
    "# 3. Wide & Deep learning"
   ]
  },
  {
   "cell_type": "markdown",
   "metadata": {},
   "source": [
    "Google 의 Wide&Deep Model[[3]](https://arxiv.org/abs/1606.07792) 은 추천시스템을 위해 태어났다고 해도 생각해도 좋습니다.  간단한 예를 들어보겠습니다.  \n",
    "\n",
    "* 날개가 달린 동물은 날 수 있다.  \n",
    "\n",
    "Deep Learning을 이용해서 다음을 학습할 수 있습니다. 이것을 일반화(generalization) 라고 말할 수 있습니다. 하지만, 이는 모든 상황에 적용되지 않기 때문에 문제가 있습니다.\n",
    "\n",
    "* 팽귄은 날개가 있다. 하지만..\n",
    "\n",
    "우리는 이렇게 특별한 경우를 모형은 기억해야 합니다. 이것은 Wide Linear 모형으로 문제를 해결할 수 있고, 기억(memorization) 이라고 말합니다."
   ]
  },
  {
   "cell_type": "code",
   "execution_count": 24,
   "metadata": {
    "scrolled": true
   },
   "outputs": [
    {
     "data": {
      "image/png": "[encoded data removed]",
      "text/plain": [
       "<IPython.core.display.Image object>"
      ]
     },
     "execution_count": 24,
     "metadata": {},
     "output_type": "execute_result"
    }
   ],
   "source": [
    "Image('images/wide_n_deep.png')"
   ]
  },
  {
   "cell_type": "markdown",
   "metadata": {},
   "source": [
    "### Define Base Feature Columns"
   ]
  },
  {
   "cell_type": "code",
   "execution_count": 25,
   "metadata": {
    "collapsed": true
   },
   "outputs": [],
   "source": [
    "import tensorflow as tf\n",
    "from tensorflow.contrib import layers\n",
    "from tensorflow.contrib.learn import preprocessing\n",
    "from datetime import datetime"
   ]
  },
  {
   "cell_type": "markdown",
   "metadata": {},
   "source": [
    "Wide & Deep 모형은 다른 모형과 다른점이 있습니다. 바로 입력 데이터가 2개라는 것입니다. Wide Linear 에는 입력 데이터들의 교호작용을 적용해서 넣고, Deep learning 에는 일반적인 입력 데이터를 넣습니다.  그래서 두 모형에 들어갈 입력 데이터를 각각 정의해야 합니다."
   ]
  },
  {
   "cell_type": "markdown",
   "metadata": {},
   "source": [
    "고객 특징인 데이터들을 합치고 더미화 합니다."
   ]
  },
  {
   "cell_type": "code",
   "execution_count": 26,
   "metadata": {
    "collapsed": true
   },
   "outputs": [],
   "source": [
    "user_feature = pd.DataFrame(pd.concat([categorical_data, continuous_data], axis=1, join_axes=[categorical_data.index]))\n",
    "user_feature_dm = pd.get_dummies(user_feature)"
   ]
  },
  {
   "cell_type": "code",
   "execution_count": 27,
   "metadata": {
    "scrolled": true
   },
   "outputs": [
    {
     "data": {
      "text/html": [
       "<div>\n",
       "<style>\n",
       "    .dataframe thead tr:only-child th {\n",
       "        text-align: right;\n",
       "    }\n",
       "\n",
       "    .dataframe thead th {\n",
       "        text-align: left;\n",
       "    }\n",
       "\n",
       "    .dataframe tbody tr th {\n",
       "        vertical-align: top;\n",
       "    }\n",
       "</style>\n",
       "<table border=\"1\" class=\"dataframe\">\n",
       "  <thead>\n",
       "    <tr style=\"text-align: right;\">\n",
       "      <th></th>\n",
       "      <th>다둥이</th>\n",
       "      <th>더영</th>\n",
       "      <th>롭스</th>\n",
       "      <th>하이마트</th>\n",
       "      <th>A_MOBILE/APP</th>\n",
       "      <th>B_MOBILE/APP</th>\n",
       "      <th>B_ONLINEMALL</th>\n",
       "      <th>C_MOBILE/APP</th>\n",
       "      <th>C_ONLINEMALL</th>\n",
       "      <th>D_MOBILE/APP</th>\n",
       "      <th>...</th>\n",
       "      <th>A거주지역_A630</th>\n",
       "      <th>A거주지역_A65</th>\n",
       "      <th>A거주지역_A69</th>\n",
       "      <th>A거주지역_A72</th>\n",
       "      <th>A거주지역_A75</th>\n",
       "      <th>A거주지역_A79</th>\n",
       "      <th>A거주지역_A82</th>\n",
       "      <th>A거주지역_A85</th>\n",
       "      <th>A거주지역_A87</th>\n",
       "      <th>A거주지역_ANA</th>\n",
       "    </tr>\n",
       "  </thead>\n",
       "  <tbody>\n",
       "    <tr>\n",
       "      <th>0</th>\n",
       "      <td>0.0</td>\n",
       "      <td>0.0</td>\n",
       "      <td>0.0</td>\n",
       "      <td>0.0</td>\n",
       "      <td>0.0</td>\n",
       "      <td>3.0</td>\n",
       "      <td>0.0</td>\n",
       "      <td>0.0</td>\n",
       "      <td>0.0</td>\n",
       "      <td>0.0</td>\n",
       "      <td>...</td>\n",
       "      <td>0</td>\n",
       "      <td>0</td>\n",
       "      <td>1</td>\n",
       "      <td>0</td>\n",
       "      <td>0</td>\n",
       "      <td>0</td>\n",
       "      <td>0</td>\n",
       "      <td>0</td>\n",
       "      <td>0</td>\n",
       "      <td>0</td>\n",
       "    </tr>\n",
       "    <tr>\n",
       "      <th>1</th>\n",
       "      <td>0.0</td>\n",
       "      <td>0.0</td>\n",
       "      <td>0.0</td>\n",
       "      <td>1.0</td>\n",
       "      <td>0.0</td>\n",
       "      <td>0.0</td>\n",
       "      <td>0.0</td>\n",
       "      <td>0.0</td>\n",
       "      <td>0.0</td>\n",
       "      <td>0.0</td>\n",
       "      <td>...</td>\n",
       "      <td>0</td>\n",
       "      <td>0</td>\n",
       "      <td>0</td>\n",
       "      <td>1</td>\n",
       "      <td>0</td>\n",
       "      <td>0</td>\n",
       "      <td>0</td>\n",
       "      <td>0</td>\n",
       "      <td>0</td>\n",
       "      <td>0</td>\n",
       "    </tr>\n",
       "    <tr>\n",
       "      <th>2</th>\n",
       "      <td>0.0</td>\n",
       "      <td>0.0</td>\n",
       "      <td>0.0</td>\n",
       "      <td>0.0</td>\n",
       "      <td>0.0</td>\n",
       "      <td>3.0</td>\n",
       "      <td>0.0</td>\n",
       "      <td>0.0</td>\n",
       "      <td>0.0</td>\n",
       "      <td>0.0</td>\n",
       "      <td>...</td>\n",
       "      <td>0</td>\n",
       "      <td>0</td>\n",
       "      <td>1</td>\n",
       "      <td>0</td>\n",
       "      <td>0</td>\n",
       "      <td>0</td>\n",
       "      <td>0</td>\n",
       "      <td>0</td>\n",
       "      <td>0</td>\n",
       "      <td>0</td>\n",
       "    </tr>\n",
       "    <tr>\n",
       "      <th>3</th>\n",
       "      <td>0.0</td>\n",
       "      <td>0.0</td>\n",
       "      <td>0.0</td>\n",
       "      <td>0.0</td>\n",
       "      <td>0.0</td>\n",
       "      <td>3.0</td>\n",
       "      <td>0.0</td>\n",
       "      <td>0.0</td>\n",
       "      <td>0.0</td>\n",
       "      <td>0.0</td>\n",
       "      <td>...</td>\n",
       "      <td>0</td>\n",
       "      <td>0</td>\n",
       "      <td>1</td>\n",
       "      <td>0</td>\n",
       "      <td>0</td>\n",
       "      <td>0</td>\n",
       "      <td>0</td>\n",
       "      <td>0</td>\n",
       "      <td>0</td>\n",
       "      <td>0</td>\n",
       "    </tr>\n",
       "    <tr>\n",
       "      <th>4</th>\n",
       "      <td>0.0</td>\n",
       "      <td>0.0</td>\n",
       "      <td>0.0</td>\n",
       "      <td>0.0</td>\n",
       "      <td>0.0</td>\n",
       "      <td>3.0</td>\n",
       "      <td>0.0</td>\n",
       "      <td>0.0</td>\n",
       "      <td>0.0</td>\n",
       "      <td>0.0</td>\n",
       "      <td>...</td>\n",
       "      <td>0</td>\n",
       "      <td>0</td>\n",
       "      <td>1</td>\n",
       "      <td>0</td>\n",
       "      <td>0</td>\n",
       "      <td>0</td>\n",
       "      <td>0</td>\n",
       "      <td>0</td>\n",
       "      <td>0</td>\n",
       "      <td>0</td>\n",
       "    </tr>\n",
       "  </tbody>\n",
       "</table>\n",
       "<p>5 rows × 73 columns</p>\n",
       "</div>"
      ],
      "text/plain": [
       "   다둥이   더영   롭스  하이마트  A_MOBILE/APP  B_MOBILE/APP  B_ONLINEMALL  \\\n",
       "0  0.0  0.0  0.0   0.0           0.0           3.0           0.0   \n",
       "1  0.0  0.0  0.0   1.0           0.0           0.0           0.0   \n",
       "2  0.0  0.0  0.0   0.0           0.0           3.0           0.0   \n",
       "3  0.0  0.0  0.0   0.0           0.0           3.0           0.0   \n",
       "4  0.0  0.0  0.0   0.0           0.0           3.0           0.0   \n",
       "\n",
       "   C_MOBILE/APP  C_ONLINEMALL  D_MOBILE/APP    ...      A거주지역_A630  A거주지역_A65  \\\n",
       "0           0.0           0.0           0.0    ...               0          0   \n",
       "1           0.0           0.0           0.0    ...               0          0   \n",
       "2           0.0           0.0           0.0    ...               0          0   \n",
       "3           0.0           0.0           0.0    ...               0          0   \n",
       "4           0.0           0.0           0.0    ...               0          0   \n",
       "\n",
       "   A거주지역_A69  A거주지역_A72  A거주지역_A75  A거주지역_A79  A거주지역_A82  A거주지역_A85  \\\n",
       "0          1          0          0          0          0          0   \n",
       "1          0          1          0          0          0          0   \n",
       "2          1          0          0          0          0          0   \n",
       "3          1          0          0          0          0          0   \n",
       "4          1          0          0          0          0          0   \n",
       "\n",
       "   A거주지역_A87  A거주지역_ANA  \n",
       "0          0          0  \n",
       "1          0          0  \n",
       "2          0          0  \n",
       "3          0          0  \n",
       "4          0          0  \n",
       "\n",
       "[5 rows x 73 columns]"
      ]
     },
     "execution_count": 27,
     "metadata": {},
     "output_type": "execute_result"
    }
   ],
   "source": [
    "user_feature_dm.head()"
   ]
  },
  {
   "cell_type": "markdown",
   "metadata": {},
   "source": [
    "Deep learningn 부분에 input할 데이터가 만들어 졌습니다."
   ]
  },
  {
   "cell_type": "code",
   "execution_count": 28,
   "metadata": {},
   "outputs": [],
   "source": [
    "Deep_data = pd.DataFrame(pd.concat([train_item_pd, user_feature_dm], axis=1, join_axes=[train_item_pd.index]))"
   ]
  },
  {
   "cell_type": "markdown",
   "metadata": {},
   "source": [
    "### Cross columns"
   ]
  },
  {
   "cell_type": "markdown",
   "metadata": {},
   "source": [
    "Wide 부분에 들어갈 Cross_culumns 들을 만드는 부분입니다."
   ]
  },
  {
   "cell_type": "code",
   "execution_count": 29,
   "metadata": {
    "collapsed": true
   },
   "outputs": [],
   "source": [
    "def cross_columns(data, cross_colnames):\n",
    "    for i in cross_colnames:\n",
    "        tmp = 0\n",
    "        for j in i:\n",
    "            tmp += 1\n",
    "            if tmp == 1:\n",
    "                cross_data = data[j]\n",
    "                columns = j\n",
    "            else:\n",
    "                cross_data = cross_data + data[j]\n",
    "                columns = columns + \"+\" + j\n",
    "        data[columns] = cross_data\n",
    "        \n",
    "    return data"
   ]
  },
  {
   "cell_type": "code",
   "execution_count": 30,
   "metadata": {
    "collapsed": true
   },
   "outputs": [],
   "source": [
    "CROSS_COLUMNS = [[\"성별\", \"연령대\"],\n",
    "                 [\"다둥이\", \"더영\", \"롭스\", \"하이마트\"]]"
   ]
  },
  {
   "cell_type": "code",
   "execution_count": 31,
   "metadata": {},
   "outputs": [
    {
     "data": {
      "text/html": [
       "<div>\n",
       "<style>\n",
       "    .dataframe thead tr:only-child th {\n",
       "        text-align: right;\n",
       "    }\n",
       "\n",
       "    .dataframe thead th {\n",
       "        text-align: left;\n",
       "    }\n",
       "\n",
       "    .dataframe tbody tr th {\n",
       "        vertical-align: top;\n",
       "    }\n",
       "</style>\n",
       "<table border=\"1\" class=\"dataframe\">\n",
       "  <thead>\n",
       "    <tr style=\"text-align: right;\">\n",
       "      <th></th>\n",
       "      <th>다둥이</th>\n",
       "      <th>더영</th>\n",
       "      <th>롭스</th>\n",
       "      <th>하이마트</th>\n",
       "      <th>A_MOBILE/APP</th>\n",
       "      <th>B_MOBILE/APP</th>\n",
       "      <th>B_ONLINEMALL</th>\n",
       "      <th>C_MOBILE/APP</th>\n",
       "      <th>C_ONLINEMALL</th>\n",
       "      <th>D_MOBILE/APP</th>\n",
       "      <th>...</th>\n",
       "      <th>성별+연령대_M19세이하</th>\n",
       "      <th>성별+연령대_M20세~24세</th>\n",
       "      <th>성별+연령대_M25세~29세</th>\n",
       "      <th>성별+연령대_M30세~34세</th>\n",
       "      <th>성별+연령대_M35세~39세</th>\n",
       "      <th>성별+연령대_M40세~44세</th>\n",
       "      <th>성별+연령대_M45세~49세</th>\n",
       "      <th>성별+연령대_M50세~54세</th>\n",
       "      <th>성별+연령대_M55세~59세</th>\n",
       "      <th>성별+연령대_M60세이상</th>\n",
       "    </tr>\n",
       "  </thead>\n",
       "  <tbody>\n",
       "    <tr>\n",
       "      <th>0</th>\n",
       "      <td>0.0</td>\n",
       "      <td>0.0</td>\n",
       "      <td>0.0</td>\n",
       "      <td>0.0</td>\n",
       "      <td>0.0</td>\n",
       "      <td>3.0</td>\n",
       "      <td>0.0</td>\n",
       "      <td>0.0</td>\n",
       "      <td>0.0</td>\n",
       "      <td>0.0</td>\n",
       "      <td>...</td>\n",
       "      <td>0</td>\n",
       "      <td>0</td>\n",
       "      <td>0</td>\n",
       "      <td>0</td>\n",
       "      <td>0</td>\n",
       "      <td>0</td>\n",
       "      <td>0</td>\n",
       "      <td>0</td>\n",
       "      <td>0</td>\n",
       "      <td>0</td>\n",
       "    </tr>\n",
       "    <tr>\n",
       "      <th>1</th>\n",
       "      <td>0.0</td>\n",
       "      <td>0.0</td>\n",
       "      <td>0.0</td>\n",
       "      <td>1.0</td>\n",
       "      <td>0.0</td>\n",
       "      <td>0.0</td>\n",
       "      <td>0.0</td>\n",
       "      <td>0.0</td>\n",
       "      <td>0.0</td>\n",
       "      <td>0.0</td>\n",
       "      <td>...</td>\n",
       "      <td>0</td>\n",
       "      <td>0</td>\n",
       "      <td>0</td>\n",
       "      <td>0</td>\n",
       "      <td>0</td>\n",
       "      <td>0</td>\n",
       "      <td>0</td>\n",
       "      <td>0</td>\n",
       "      <td>0</td>\n",
       "      <td>0</td>\n",
       "    </tr>\n",
       "    <tr>\n",
       "      <th>2</th>\n",
       "      <td>0.0</td>\n",
       "      <td>0.0</td>\n",
       "      <td>0.0</td>\n",
       "      <td>0.0</td>\n",
       "      <td>0.0</td>\n",
       "      <td>3.0</td>\n",
       "      <td>0.0</td>\n",
       "      <td>0.0</td>\n",
       "      <td>0.0</td>\n",
       "      <td>0.0</td>\n",
       "      <td>...</td>\n",
       "      <td>0</td>\n",
       "      <td>0</td>\n",
       "      <td>0</td>\n",
       "      <td>0</td>\n",
       "      <td>0</td>\n",
       "      <td>0</td>\n",
       "      <td>0</td>\n",
       "      <td>0</td>\n",
       "      <td>0</td>\n",
       "      <td>0</td>\n",
       "    </tr>\n",
       "    <tr>\n",
       "      <th>3</th>\n",
       "      <td>0.0</td>\n",
       "      <td>0.0</td>\n",
       "      <td>0.0</td>\n",
       "      <td>0.0</td>\n",
       "      <td>0.0</td>\n",
       "      <td>3.0</td>\n",
       "      <td>0.0</td>\n",
       "      <td>0.0</td>\n",
       "      <td>0.0</td>\n",
       "      <td>0.0</td>\n",
       "      <td>...</td>\n",
       "      <td>0</td>\n",
       "      <td>0</td>\n",
       "      <td>0</td>\n",
       "      <td>0</td>\n",
       "      <td>0</td>\n",
       "      <td>0</td>\n",
       "      <td>0</td>\n",
       "      <td>0</td>\n",
       "      <td>0</td>\n",
       "      <td>0</td>\n",
       "    </tr>\n",
       "    <tr>\n",
       "      <th>4</th>\n",
       "      <td>0.0</td>\n",
       "      <td>0.0</td>\n",
       "      <td>0.0</td>\n",
       "      <td>0.0</td>\n",
       "      <td>0.0</td>\n",
       "      <td>3.0</td>\n",
       "      <td>0.0</td>\n",
       "      <td>0.0</td>\n",
       "      <td>0.0</td>\n",
       "      <td>0.0</td>\n",
       "      <td>...</td>\n",
       "      <td>0</td>\n",
       "      <td>0</td>\n",
       "      <td>0</td>\n",
       "      <td>0</td>\n",
       "      <td>0</td>\n",
       "      <td>0</td>\n",
       "      <td>0</td>\n",
       "      <td>0</td>\n",
       "      <td>0</td>\n",
       "      <td>0</td>\n",
       "    </tr>\n",
       "  </tbody>\n",
       "</table>\n",
       "<p>5 rows × 94 columns</p>\n",
       "</div>"
      ],
      "text/plain": [
       "   다둥이   더영   롭스  하이마트  A_MOBILE/APP  B_MOBILE/APP  B_ONLINEMALL  \\\n",
       "0  0.0  0.0  0.0   0.0           0.0           3.0           0.0   \n",
       "1  0.0  0.0  0.0   1.0           0.0           0.0           0.0   \n",
       "2  0.0  0.0  0.0   0.0           0.0           3.0           0.0   \n",
       "3  0.0  0.0  0.0   0.0           0.0           3.0           0.0   \n",
       "4  0.0  0.0  0.0   0.0           0.0           3.0           0.0   \n",
       "\n",
       "   C_MOBILE/APP  C_ONLINEMALL  D_MOBILE/APP      ...        성별+연령대_M19세이하  \\\n",
       "0           0.0           0.0           0.0      ...                    0   \n",
       "1           0.0           0.0           0.0      ...                    0   \n",
       "2           0.0           0.0           0.0      ...                    0   \n",
       "3           0.0           0.0           0.0      ...                    0   \n",
       "4           0.0           0.0           0.0      ...                    0   \n",
       "\n",
       "   성별+연령대_M20세~24세  성별+연령대_M25세~29세  성별+연령대_M30세~34세  성별+연령대_M35세~39세  \\\n",
       "0                0                0                0                0   \n",
       "1                0                0                0                0   \n",
       "2                0                0                0                0   \n",
       "3                0                0                0                0   \n",
       "4                0                0                0                0   \n",
       "\n",
       "   성별+연령대_M40세~44세  성별+연령대_M45세~49세  성별+연령대_M50세~54세  성별+연령대_M55세~59세  \\\n",
       "0                0                0                0                0   \n",
       "1                0                0                0                0   \n",
       "2                0                0                0                0   \n",
       "3                0                0                0                0   \n",
       "4                0                0                0                0   \n",
       "\n",
       "   성별+연령대_M60세이상  \n",
       "0              0  \n",
       "1              0  \n",
       "2              0  \n",
       "3              0  \n",
       "4              0  \n",
       "\n",
       "[5 rows x 94 columns]"
      ]
     },
     "execution_count": 31,
     "metadata": {},
     "output_type": "execute_result"
    }
   ],
   "source": [
    "user_feature_cc = pd.get_dummies(cross_columns(user_feature, CROSS_COLUMNS))\n",
    "user_feature_cc.head()"
   ]
  },
  {
   "cell_type": "markdown",
   "metadata": {},
   "source": [
    "Item Embedding matrix와 User features matrix 를 merge 합니다."
   ]
  },
  {
   "cell_type": "code",
   "execution_count": 32,
   "metadata": {
    "collapsed": true
   },
   "outputs": [],
   "source": [
    "Wide_data = pd.DataFrame(pd.concat([train_item_pd, user_feature_cc], axis=1, join_axes=[train_item_pd.index]))"
   ]
  },
  {
   "cell_type": "code",
   "execution_count": 33,
   "metadata": {},
   "outputs": [
    {
     "name": "stdout",
     "output_type": "stream",
     "text": [
      "373\n",
      "394\n"
     ]
    }
   ],
   "source": [
    "print(len(Deep_data.columns))\n",
    "print(len(Wide_data.columns))"
   ]
  },
  {
   "cell_type": "markdown",
   "metadata": {},
   "source": [
    "---"
   ]
  },
  {
   "cell_type": "markdown",
   "metadata": {},
   "source": [
    "### Tensorflow Graphs"
   ]
  },
  {
   "cell_type": "code",
   "execution_count": 34,
   "metadata": {},
   "outputs": [
    {
     "data": {
      "image/png": "[encoded data removed]",
      "text/plain": [
       "<IPython.core.display.Image object>"
      ]
     },
     "execution_count": 34,
     "metadata": {},
     "output_type": "execute_result"
    }
   ],
   "source": [
    "Image('images/WND structure.png')"
   ]
  },
  {
   "cell_type": "code",
   "execution_count": 35,
   "metadata": {},
   "outputs": [],
   "source": [
    "# parameters\n",
    "keep_prob = 0.5\n",
    "learning_rate = 1e-5\n",
    "training_epochs = 10001\n",
    "batch_size = 128\n",
    "\n",
    "wide_size = len(Wide_data.columns)\n",
    "deep_size = len(Deep_data.columns)\n",
    "output_size = len(train_label.columns)\n",
    "\n",
    "He = tf.contrib.layers.variance_scaling_initializer()\n",
    "\n",
    "# input place holders\n",
    "tf.reset_default_graph()\n",
    "Wide = tf.placeholder(tf.float32, [None, wide_size])\n",
    "Deep = tf.placeholder(tf.float32, [None, deep_size])\n",
    "Y = tf.placeholder(tf.float32, [None, output_size])\n",
    "train_mode = tf.placeholder(tf.bool, name='train_mode')"
   ]
  },
  {
   "cell_type": "markdown",
   "metadata": {},
   "source": [
    "### Wide"
   ]
  },
  {
   "cell_type": "code",
   "execution_count": 36,
   "metadata": {
    "collapsed": true
   },
   "outputs": [],
   "source": [
    "A = tf.get_variable(\"A\", shape=[wide_size, output_size])\n",
    "b = tf.Variable(tf.random_normal([output_size]))\n",
    "\n",
    "wide = tf.add(tf.matmul(Wide, A), b)"
   ]
  },
  {
   "cell_type": "markdown",
   "metadata": {},
   "source": [
    "### Deep"
   ]
  },
  {
   "cell_type": "code",
   "execution_count": 37,
   "metadata": {
    "collapsed": true
   },
   "outputs": [],
   "source": [
    "W1 = tf.get_variable(\"W1\", shape=[deep_size, 1024], initializer=He)\n",
    "b1 = tf.Variable(tf.random_normal([1024]))\n",
    "L1 = tf.nn.relu(tf.matmul(Deep, W1) + b1)\n",
    "\n",
    "W2 = tf.get_variable(\"W2\", shape=[1024, 512], initializer=He)\n",
    "b2 = tf.Variable(tf.random_normal([512]))\n",
    "L2 = tf.nn.relu(tf.matmul(L1, W2) + b2)\n",
    "\n",
    "W3 = tf.get_variable(\"W3\", shape=[512, 256], initializer=He)\n",
    "b3 = tf.Variable(tf.random_normal([256]))\n",
    "L3 = tf.nn.relu(tf.matmul(L2, W3) + b3)\n",
    "\n",
    "W4 = tf.get_variable(\"W4\", shape=[256, output_size], initializer=He)\n",
    "b4 = tf.Variable(tf.random_normal([output_size]))\n",
    "\n",
    "deep = tf.add(tf.matmul(L3, W4), b4)"
   ]
  },
  {
   "cell_type": "code",
   "execution_count": 38,
   "metadata": {
    "collapsed": true
   },
   "outputs": [],
   "source": [
    "hypothesis = wide + deep"
   ]
  },
  {
   "cell_type": "code",
   "execution_count": 39,
   "metadata": {
    "collapsed": true
   },
   "outputs": [],
   "source": [
    "cost = tf.reduce_mean(tf.nn.sigmoid_cross_entropy_with_logits(logits=hypothesis, labels=Y))\n",
    "optimizer = tf.train.AdamOptimizer(learning_rate=learning_rate).minimize(cost)"
   ]
  },
  {
   "cell_type": "markdown",
   "metadata": {},
   "source": [
    "### Session"
   ]
  },
  {
   "cell_type": "code",
   "execution_count": 40,
   "metadata": {},
   "outputs": [],
   "source": [
    "config = tf.ConfigProto()\n",
    "config.gpu_options.allow_growth=True\n",
    "sess = tf.Session(config=config)\n",
    "sess.run(tf.global_variables_initializer())"
   ]
  },
  {
   "cell_type": "markdown",
   "metadata": {},
   "source": [
    "### saver"
   ]
  },
  {
   "cell_type": "code",
   "execution_count": 41,
   "metadata": {
    "collapsed": true
   },
   "outputs": [],
   "source": [
    "import os\n",
    "save_dir = 'W&D-checkpoints/'\n",
    "if not os.path.exists(save_dir):\n",
    "    os.makedirs(save_dir)\n",
    "save_path = os.path.join(save_dir, 'Lpoint_W&D')\n",
    "saver = tf.train.Saver()"
   ]
  },
  {
   "cell_type": "code",
   "execution_count": 42,
   "metadata": {},
   "outputs": [
    {
     "name": "stdout",
     "output_type": "stream",
     "text": [
      "가장 최근 체크포인트를 로드합니다.\n",
      "INFO:tensorflow:Restoring parameters from W&D-checkpoints/Lpoint_W&D-10000\n",
      "Restored checkpoint from: W&D-checkpoints/Lpoint_W&D-10000\n"
     ]
    }
   ],
   "source": [
    "try:\n",
    "    print(\"가장 최근 체크포인트를 로드합니다.\")\n",
    "    last_chk_path = tf.train.latest_checkpoint(checkpoint_dir=save_dir)\n",
    "    saver.restore(sess, save_path=last_chk_path)\n",
    "    print(\"Restored checkpoint from:\", last_chk_path)\n",
    "    \n",
    "except:\n",
    "    print(\"체크포인트가 없습니다. 변수를 초기화 합니다.\")\n",
    "    session.run(tf.global_variables_initializer())"
   ]
  },
  {
   "cell_type": "markdown",
   "metadata": {},
   "source": [
    "10000번 학습합니다."
   ]
  },
  {
   "cell_type": "code",
   "execution_count": 39,
   "metadata": {},
   "outputs": [
    {
     "name": "stdout",
     "output_type": "stream",
     "text": [
      "[Epoch:    0][Cost: 0.56454][2017-08-14 14:08:16]\n",
      "[Epoch:  500][Cost: 0.01090][2017-08-14 15:13:21]\n",
      "[Epoch: 1000][Cost: 0.00996][2017-08-14 16:17:53]\n",
      "[Epoch: 1500][Cost: 0.00933][2017-08-14 17:22:26]\n",
      "[Epoch: 2000][Cost: 0.00885][2017-08-14 18:26:58]\n",
      "[Epoch: 2500][Cost: 0.00847][2017-08-14 19:31:29]\n",
      "[Epoch: 3000][Cost: 0.00816][2017-08-14 20:35:59]\n",
      "[Epoch: 3500][Cost: 0.00789][2017-08-14 21:40:30]\n",
      "[Epoch: 4000][Cost: 0.00766][2017-08-14 22:45:02]\n",
      "[Epoch: 4500][Cost: 0.00746][2017-08-14 23:49:32]\n",
      "[Epoch: 5000][Cost: 0.00728][2017-08-15 00:54:01]\n",
      "[Epoch: 5500][Cost: 0.00712][2017-08-15 01:58:59]\n",
      "[Epoch: 6000][Cost: 0.00698][2017-08-15 03:03:45]\n",
      "[Epoch: 6500][Cost: 0.00685][2017-08-15 04:08:05]\n",
      "[Epoch: 7000][Cost: 0.00673][2017-08-15 05:12:24]\n",
      "[Epoch: 7500][Cost: 0.00662][2017-08-15 06:16:43]\n",
      "[Epoch: 8000][Cost: 0.00652][2017-08-15 07:21:01]\n",
      "[Epoch: 8500][Cost: 0.00642][2017-08-15 08:25:19]\n",
      "[Epoch: 9000][Cost: 0.00633][2017-08-15 09:29:36]\n",
      "[Epoch: 9500][Cost: 0.00625][2017-08-15 10:34:00]\n",
      "[Epoch: 10000][Cost: 0.00617][2017-08-15 11:38:20]\n",
      "Learning Finished!\n"
     ]
    }
   ],
   "source": [
    "if False:\n",
    "    for epoch in range(training_epochs):\n",
    "    avg_cost = 0\n",
    "    total_batch = int(len(Deep_data) / batch_size)\n",
    "\n",
    "    for i in range(0, len(Deep_data), batch_size):\n",
    "        batch_wide = Wide_data[i:i+batch_size]\n",
    "        batch_deep = Deep_data[i:i+batch_size]\n",
    "        batch_label = train_label[i:i+batch_size]\n",
    "\n",
    "        feed_dict_train = {Wide: batch_wide, Deep: batch_deep, Y: batch_label}\n",
    "        opt, c = sess.run([optimizer, cost], feed_dict=feed_dict_train)\n",
    "\n",
    "        avg_cost += c/total_batch\n",
    "\n",
    "    if epoch % 500 == 0:\n",
    "        time = datetime.now().strftime('%Y-%m-%d %H:%M:%S')\n",
    "        print(\"[Epoch: {:>4}][Cost: {:>.5f}][{}]\".format(epoch, avg_cost, time))\n",
    "\n",
    "    print('Learning Finished!')\n",
    "    saver.save(sess, save_path=save_path, global_step=training_epochs)"
   ]
  },
  {
   "cell_type": "markdown",
   "metadata": {},
   "source": [
    "---"
   ]
  },
  {
   "cell_type": "markdown",
   "metadata": {},
   "source": [
    "# 4. Recommendation\n"
   ]
  },
  {
   "cell_type": "markdown",
   "metadata": {},
   "source": [
    "단순한 Accuracy를 확인하면 다음과 같습니다."
   ]
  },
  {
   "cell_type": "code",
   "execution_count": 43,
   "metadata": {
    "collapsed": true
   },
   "outputs": [],
   "source": [
    "test_item = [doc_vectorizer.infer_vector(doc.words) for doc in tagged_test_docs]\n",
    "test_item_pd = pd.DataFrame(test_item)"
   ]
  },
  {
   "cell_type": "code",
   "execution_count": 44,
   "metadata": {
    "collapsed": true
   },
   "outputs": [],
   "source": [
    "user_feature_dm_test = user_feature_dm[113265:].reset_index(drop=True)\n",
    "user_feature_cc_test = user_feature_cc[113265:].reset_index(drop=True)"
   ]
  },
  {
   "cell_type": "code",
   "execution_count": 45,
   "metadata": {
    "collapsed": true
   },
   "outputs": [],
   "source": [
    "deep_data_test = pd.DataFrame(pd.concat([test_item_pd, user_feature_dm_test], axis=1, join_axes=[test_item_pd.index]))\n",
    "Wide_data_test = pd.DataFrame(pd.concat([test_item_pd, user_feature_cc_test], axis=1, join_axes=[test_item_pd.index]))"
   ]
  },
  {
   "cell_type": "code",
   "execution_count": 46,
   "metadata": {},
   "outputs": [
    {
     "name": "stdout",
     "output_type": "stream",
     "text": [
      "Accuracy: 0.98859\n"
     ]
    }
   ],
   "source": [
    "YY = tf.equal(Y , 1)\n",
    "XX = tf.greater(tf.sigmoid(hypothesis),0.5)\n",
    "correct = tf.equal(XX, YY)\n",
    "# score = sess.run(correct, feed_dict={Wide: Wide_data_test, Deep: deep_data_test, Y: test_label_real})\n",
    "accuracy = tf.reduce_mean(tf.cast(correct, 'float'))\n",
    "print(\"Accuracy: {:>.5f}\".format(sess.run(accuracy, feed_dict={Wide: Wide_data_test, Deep: deep_data_test, Y: test_label_real})))"
   ]
  },
  {
   "cell_type": "markdown",
   "metadata": {},
   "source": [
    "정확도가 98.848 % 정도가 나옵니다. scroe 값이 0.5 이상인 것만 추천을 해주는 방식인데  \n",
    "실제 구매 개수는 min, avg, max=[2, 6, 45] 의 분포를 갖고  \n",
    "추천 개수는 min, avg, max=[0, 5, 41] 값이 나왔습니다.  \n",
    "매번 20개정도 틀린값이 나온다고 해도 2246 / 2266 = 0.991 가 나오기 때문에 이는 정확한 평가가 아닙니다."
   ]
  },
  {
   "cell_type": "markdown",
   "metadata": {},
   "source": [
    "추천시스템은 일반적인 Accuracy를 이용하지 않습니다. 2266개나 되는 Label을 맞출 리 없죠.   \n",
    "보통은 Top 3 내지 Top 20을 추천을 하게 됩니다.   \n",
    "그중 실제로 고객이 구매한 내역과 비교하여 Hit rate: (맞춘 개수 / 추천한 개수) 를 보게 됩니다.   \n",
    "Hit rate 는 통계학에서 Precision (정밀도) 라는 용어로 사용되고 있습니다."
   ]
  },
  {
   "cell_type": "markdown",
   "metadata": {},
   "source": [
    "#### Precision = tp / (tp + fp)\n",
    "\"\"    | Recommended | Not Recommended | Total\n",
    ":-----|:-----------:|:--------------:|:--------\n",
    "bought| tp | fn | \"\"\n",
    "not bought | fp | tn | \"\"\n",
    "Total | Top10 | 2256 | 2266"
   ]
  },
  {
   "cell_type": "code",
   "execution_count": 47,
   "metadata": {
    "collapsed": true
   },
   "outputs": [],
   "source": [
    "score = sess.run(tf.sigmoid(hypothesis), feed_dict={Wide: Wide_data_test, Deep: deep_data_test})\n",
    "score = pd.DataFrame(score, columns=train_label.columns)"
   ]
  },
  {
   "cell_type": "markdown",
   "metadata": {},
   "source": [
    "9175번 고객과 2666번 고객을 예를 들면 위 모델로 추천을 해준 아이템 10개는 다음과 같으며  \n",
    "실제 고객이 구매한 아이템은 그 밑에 나타냈습니다."
   ]
  },
  {
   "cell_type": "markdown",
   "metadata": {},
   "source": [
    "### ID: 9175\n",
    "* 추천 상품 \n",
    "\n",
    "상품 명             | 상품 명          | 상품 명\n",
    ":-------------------|:-----------------|:------------------\n",
    "'B210801/음식물봉투'|'B870503/접착제'  |'B870301/멀티탭'\n",
    "'B320201/유아토들러내의'|'B260701/보드게임'  |'B250502/유아서적'\n",
    "'B260903/조립/프라모델'|'B200801/다이소'|'B680403/여성면덧신'\n",
    "'B680301/아동캐주얼'| ''                |''\n",
    "\n",
    "* 실제 마지막 구매 상품  \n",
    "\n",
    "상품 명             | 상품 명          | 상품 명\n",
    ":-------------------|:-----------------|:------------------\n",
    "'B190102/칫솔'      |'B660402/성인스킨케어'|'B660501/베이비스킨케어'|"
   ]
  },
  {
   "cell_type": "markdown",
   "metadata": {},
   "source": [
    "### ID: 2666\n",
    "* 추천 상품 \n",
    "\n",
    "상품 명             | 상품 명          | 상품 명\n",
    ":-------------------|:-----------------|:------------------\n",
    "'B720101/보리류'|'B630402/일반간식류행사'|'B110902/요리식초'\n",
    "'B110201/케찹'|'B130501/믹스커피'|'B130205/식수용차'\n",
    "'B800201/국물용멸치'|'B141505/한과'|'B720104/찰현미류'\n",
    "'B111101/설탕'|''  |''\n",
    "\n",
    "* 실제 마지막 구매 상품  \n",
    "\n",
    "상품 명             | 상품 명          | 상품 명\n",
    ":-------------------|:-----------------|:------------------\n",
    "'B110604/부침/튀김가루'|'B110902/요리식초'|''|"
   ]
  },
  {
   "cell_type": "markdown",
   "metadata": {},
   "source": [
    "추천 아이템을 살펴보면, 실제 구매한 아이템과 어느정도 일치성이 있음을 알 수 있습니다. "
   ]
  },
  {
   "cell_type": "code",
   "execution_count": 48,
   "metadata": {
    "collapsed": true
   },
   "outputs": [],
   "source": [
    "def get_acc(score_matrix, top_n, test_matix):\n",
    "    avg_acc = 0\n",
    "    for i in range(len(score_matrix)):\n",
    "        top = score_matrix.iloc[i].nlargest(top_n).index\n",
    "        tmp = 0\n",
    "        for j in range(len(top)):\n",
    "            if top[j] in test_matix[\"item\"][i].split():\n",
    "                tmp += 1\n",
    "\n",
    "        acc = tmp / len(top)\n",
    "        avg_acc += acc / len(score_matrix)\n",
    "\n",
    "    return avg_acc"
   ]
  },
  {
   "cell_type": "code",
   "execution_count": 50,
   "metadata": {
    "scrolled": false
   },
   "outputs": [
    {
     "name": "stdout",
     "output_type": "stream",
     "text": [
      "Hit rate of Top 3: 0.02993\n",
      "Hit rate of Top 10: 0.02758\n"
     ]
    }
   ],
   "source": [
    "print(\"Hit rate of Top 3: {:>.5f}\".format(get_acc(score, 3, test_label)))\n",
    "print(\"Hit rate of Top 10: {:>.5f}\".format(get_acc(score, 10, test_label)))"
   ]
  },
  {
   "cell_type": "markdown",
   "metadata": {},
   "source": [
    "10개를 추천해준다면 그 중 2.8% 가량을 실제로 구매하는 것으로 나타났습니다.    "
   ]
  },
  {
   "cell_type": "markdown",
   "metadata": {},
   "source": [
    "---"
   ]
  },
  {
   "cell_type": "markdown",
   "metadata": {},
   "source": [
    "# 5. 결론"
   ]
  },
  {
   "cell_type": "markdown",
   "metadata": {},
   "source": [
    "다시 한번 말하지만, 추천시스템은 정확도로 판단을 하는 모형이 아닙니다. 2%의 예측력이 갖는 의미가 이해되지 않는다면 당신이 11번가나 쿠팡에 들어갔을 때 홈페이지 첫 Index화면에 추천받았던 상품 중에 실제로 구매를 얼만큼 했나 생각해 보시면 2%가 갖는 의미를 파악하실 수 있을 것입니다.  \n",
    "(사실 대 분류 측면으로 정확도를 측정하면 정확도가 높게 나올 수 있을 것입니다.)"
   ]
  },
  {
   "cell_type": "markdown",
   "metadata": {},
   "source": [
    "상춤 추천은 추천 이후에 또다른 처리작업이 필요할 것입니다.\n",
    "예를들어 넷플릭스가 한 번 본 영화를 다시 추천해주지 않는다거나, 아마존이 미성년자에게 성인상품을 추천해주지 않는다는 특별한 처리과정이 필요할 수 있습니다.  \n",
    "\n",
    "위 분석에서는 한달 전 고가의 가전제품(냉장고, 세탁기)을 구매한 고객에게 재 구매를 요구하지 않는다거나, 생활필수품 중 재 구매율이 높은(종량제 봉투)를 추천해 주지 않는 작업이 필요할 것입니다."
   ]
  },
  {
   "cell_type": "markdown",
   "metadata": {},
   "source": [
    "위 추천방식에서 사용한 방법 말고 다른 방법들도 다수 존재합니다. 예를 들어 온라인 쇼핑몰 검색창에 Query:\"사과\"를 검색했을 때 사과와 같이 다른 상품들을 추천해줄 수 도 있습니다. "
   ]
  },
  {
   "cell_type": "markdown",
   "metadata": {},
   "source": [
    "\n",
    "---"
   ]
  },
  {
   "cell_type": "markdown",
   "metadata": {},
   "source": [
    "# Reference"
   ]
  },
  {
   "cell_type": "markdown",
   "metadata": {},
   "source": [
    "### [[1] Recommender System with Distributed Representation](https://www.slideshare.net/rakutentech/recommender-system-with-distributed-representation)   \n",
    "### [[2] Distributed Representations of Sentences and Documents](https://arxiv.org/abs/1405.4053)   \n",
    "### [[3] Wide & Deep Learning for Recommender Systems](https://arxiv.org/abs/1606.07792)   \n",
    "### [[4] TensorFlow Wide & Deep Learning Tutorial](https://www.tensorflow.org/tutorials/wide_and_deep)   \n",
    "### [[5] Korean NLP in Python](http://konlpy.org/en/v0.4.4/)"
   ]
  }
 ],
 "metadata": {
  "kernelspec": {
   "display_name": "Python 3",
   "language": "python",
   "name": "python3"
  },
  "language_info": {
   "codemirror_mode": {
    "name": "ipython",
    "version": 3
   },
   "file_extension": ".py",
   "mimetype": "text/x-python",
   "name": "python",
   "nbconvert_exporter": "python",
   "pygments_lexer": "ipython3",
   "version": "3.6.1"
  }
 },
 "nbformat": 4,
 "nbformat_minor": 2
}
