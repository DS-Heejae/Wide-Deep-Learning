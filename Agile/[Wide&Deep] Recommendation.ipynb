{
 "cells": [
  {
   "cell_type": "markdown",
   "metadata": {},
   "source": [
    "Recommendation System\n",
    "==========="
   ]
  },
  {
   "cell_type": "markdown",
   "metadata": {},
   "source": [
    "Doc2vec + Wide & Deep 을 이용한 추천시스템\n",
    "----------------------------------"
   ]
  },
  {
   "cell_type": "markdown",
   "metadata": {},
   "source": [
    "<div style=\"text-align:right\"><h3>\n",
    "AgileSoda | 2017.09.08.\n",
    "</h3></div>"
   ]
  },
  {
   "cell_type": "markdown",
   "metadata": {},
   "source": [
    "---"
   ]
  },
  {
   "cell_type": "markdown",
   "metadata": {},
   "source": [
    "### 순서\n",
    "\n",
    "1. 데이터 불러오기\n",
    "2. Wide & Deep\n",
    "3. 결과\n",
    "4. Cold start 문제\n",
    "5. 결론\n"
   ]
  },
  {
   "cell_type": "markdown",
   "metadata": {},
   "source": [
    "---"
   ]
  },
  {
   "cell_type": "markdown",
   "metadata": {},
   "source": [
    "# 1. 데이터 불러오기"
   ]
  },
  {
   "cell_type": "code",
   "execution_count": 1,
   "metadata": {
    "collapsed": true
   },
   "outputs": [],
   "source": [
    "import pandas as pd\n",
    "import numpy as np\n",
    "import matplotlib.pyplot as plt\n",
    "import copy as cp\n",
    "import Agile_data"
   ]
  },
  {
   "cell_type": "code",
   "execution_count": 2,
   "metadata": {
    "collapsed": true
   },
   "outputs": [],
   "source": [
    "Wide_data, Deep_data,train_label = Agile_data.load_Wide_Deep_train_data()\n",
    "Wide_data_test, Deep_data_test, test_label = Agile_data.load_Wide_Deep_test_data()"
   ]
  },
  {
   "cell_type": "markdown",
   "metadata": {},
   "source": [
    "### Wide input data"
   ]
  },
  {
   "cell_type": "code",
   "execution_count": 3,
   "metadata": {},
   "outputs": [
    {
     "data": {
      "text/html": [
       "<div>\n",
       "<style>\n",
       "    .dataframe thead tr:only-child th {\n",
       "        text-align: right;\n",
       "    }\n",
       "\n",
       "    .dataframe thead th {\n",
       "        text-align: left;\n",
       "    }\n",
       "\n",
       "    .dataframe tbody tr th {\n",
       "        vertical-align: top;\n",
       "    }\n",
       "</style>\n",
       "<table border=\"1\" class=\"dataframe\">\n",
       "  <thead>\n",
       "    <tr style=\"text-align: right;\">\n",
       "      <th></th>\n",
       "      <th>0</th>\n",
       "      <th>1</th>\n",
       "      <th>2</th>\n",
       "      <th>3</th>\n",
       "      <th>4</th>\n",
       "      <th>5</th>\n",
       "      <th>6</th>\n",
       "      <th>7</th>\n",
       "      <th>8</th>\n",
       "      <th>9</th>\n",
       "      <th>...</th>\n",
       "      <th>X15+X16_1.00.0</th>\n",
       "      <th>X15+X16_1.01.0</th>\n",
       "      <th>X15+X17_0.00.0</th>\n",
       "      <th>X15+X17_0.01.0</th>\n",
       "      <th>X15+X17_1.00.0</th>\n",
       "      <th>X15+X17_1.01.0</th>\n",
       "      <th>X16+X17_0.00.0</th>\n",
       "      <th>X16+X17_0.01.0</th>\n",
       "      <th>X16+X17_1.00.0</th>\n",
       "      <th>X16+X17_1.01.0</th>\n",
       "    </tr>\n",
       "  </thead>\n",
       "  <tbody>\n",
       "    <tr>\n",
       "      <th>0</th>\n",
       "      <td>-0.000757</td>\n",
       "      <td>0.001210</td>\n",
       "      <td>0.000719</td>\n",
       "      <td>0.001681</td>\n",
       "      <td>0.001996</td>\n",
       "      <td>0.001242</td>\n",
       "      <td>-0.000085</td>\n",
       "      <td>-0.000496</td>\n",
       "      <td>0.002182</td>\n",
       "      <td>-0.001890</td>\n",
       "      <td>...</td>\n",
       "      <td>0</td>\n",
       "      <td>0</td>\n",
       "      <td>0</td>\n",
       "      <td>1</td>\n",
       "      <td>0</td>\n",
       "      <td>0</td>\n",
       "      <td>0</td>\n",
       "      <td>1</td>\n",
       "      <td>0</td>\n",
       "      <td>0</td>\n",
       "    </tr>\n",
       "    <tr>\n",
       "      <th>1</th>\n",
       "      <td>-0.229485</td>\n",
       "      <td>-0.120076</td>\n",
       "      <td>0.090476</td>\n",
       "      <td>-0.011354</td>\n",
       "      <td>-0.004279</td>\n",
       "      <td>0.177423</td>\n",
       "      <td>0.122731</td>\n",
       "      <td>0.019867</td>\n",
       "      <td>0.102183</td>\n",
       "      <td>-0.143541</td>\n",
       "      <td>...</td>\n",
       "      <td>0</td>\n",
       "      <td>1</td>\n",
       "      <td>0</td>\n",
       "      <td>0</td>\n",
       "      <td>0</td>\n",
       "      <td>1</td>\n",
       "      <td>0</td>\n",
       "      <td>0</td>\n",
       "      <td>0</td>\n",
       "      <td>1</td>\n",
       "    </tr>\n",
       "    <tr>\n",
       "      <th>2</th>\n",
       "      <td>-0.063811</td>\n",
       "      <td>0.006715</td>\n",
       "      <td>0.025582</td>\n",
       "      <td>0.026700</td>\n",
       "      <td>0.039148</td>\n",
       "      <td>0.031651</td>\n",
       "      <td>0.043512</td>\n",
       "      <td>-0.004721</td>\n",
       "      <td>0.021008</td>\n",
       "      <td>-0.036353</td>\n",
       "      <td>...</td>\n",
       "      <td>0</td>\n",
       "      <td>0</td>\n",
       "      <td>1</td>\n",
       "      <td>0</td>\n",
       "      <td>0</td>\n",
       "      <td>0</td>\n",
       "      <td>1</td>\n",
       "      <td>0</td>\n",
       "      <td>0</td>\n",
       "      <td>0</td>\n",
       "    </tr>\n",
       "    <tr>\n",
       "      <th>3</th>\n",
       "      <td>-0.000987</td>\n",
       "      <td>-0.000077</td>\n",
       "      <td>-0.000715</td>\n",
       "      <td>0.000863</td>\n",
       "      <td>-0.000943</td>\n",
       "      <td>-0.001618</td>\n",
       "      <td>-0.000788</td>\n",
       "      <td>0.000629</td>\n",
       "      <td>-0.001158</td>\n",
       "      <td>0.000429</td>\n",
       "      <td>...</td>\n",
       "      <td>1</td>\n",
       "      <td>0</td>\n",
       "      <td>0</td>\n",
       "      <td>0</td>\n",
       "      <td>1</td>\n",
       "      <td>0</td>\n",
       "      <td>1</td>\n",
       "      <td>0</td>\n",
       "      <td>0</td>\n",
       "      <td>0</td>\n",
       "    </tr>\n",
       "    <tr>\n",
       "      <th>4</th>\n",
       "      <td>-0.000302</td>\n",
       "      <td>0.000996</td>\n",
       "      <td>0.003372</td>\n",
       "      <td>0.002128</td>\n",
       "      <td>-0.000012</td>\n",
       "      <td>-0.000174</td>\n",
       "      <td>0.002966</td>\n",
       "      <td>0.000715</td>\n",
       "      <td>0.001500</td>\n",
       "      <td>-0.002877</td>\n",
       "      <td>...</td>\n",
       "      <td>0</td>\n",
       "      <td>0</td>\n",
       "      <td>1</td>\n",
       "      <td>0</td>\n",
       "      <td>0</td>\n",
       "      <td>0</td>\n",
       "      <td>1</td>\n",
       "      <td>0</td>\n",
       "      <td>0</td>\n",
       "      <td>0</td>\n",
       "    </tr>\n",
       "  </tbody>\n",
       "</table>\n",
       "<p>5 rows × 844 columns</p>\n",
       "</div>"
      ],
      "text/plain": [
       "          0         1         2         3         4         5         6  \\\n",
       "0 -0.000757  0.001210  0.000719  0.001681  0.001996  0.001242 -0.000085   \n",
       "1 -0.229485 -0.120076  0.090476 -0.011354 -0.004279  0.177423  0.122731   \n",
       "2 -0.063811  0.006715  0.025582  0.026700  0.039148  0.031651  0.043512   \n",
       "3 -0.000987 -0.000077 -0.000715  0.000863 -0.000943 -0.001618 -0.000788   \n",
       "4 -0.000302  0.000996  0.003372  0.002128 -0.000012 -0.000174  0.002966   \n",
       "\n",
       "          7         8         9       ...        X15+X16_1.00.0  \\\n",
       "0 -0.000496  0.002182 -0.001890       ...                     0   \n",
       "1  0.019867  0.102183 -0.143541       ...                     0   \n",
       "2 -0.004721  0.021008 -0.036353       ...                     0   \n",
       "3  0.000629 -0.001158  0.000429       ...                     1   \n",
       "4  0.000715  0.001500 -0.002877       ...                     0   \n",
       "\n",
       "   X15+X16_1.01.0  X15+X17_0.00.0  X15+X17_0.01.0  X15+X17_1.00.0  \\\n",
       "0               0               0               1               0   \n",
       "1               1               0               0               0   \n",
       "2               0               1               0               0   \n",
       "3               0               0               0               1   \n",
       "4               0               1               0               0   \n",
       "\n",
       "   X15+X17_1.01.0  X16+X17_0.00.0  X16+X17_0.01.0  X16+X17_1.00.0  \\\n",
       "0               0               0               1               0   \n",
       "1               1               0               0               0   \n",
       "2               0               1               0               0   \n",
       "3               0               1               0               0   \n",
       "4               0               1               0               0   \n",
       "\n",
       "   X16+X17_1.01.0  \n",
       "0               0  \n",
       "1               1  \n",
       "2               0  \n",
       "3               0  \n",
       "4               0  \n",
       "\n",
       "[5 rows x 844 columns]"
      ]
     },
     "execution_count": 3,
     "metadata": {},
     "output_type": "execute_result"
    }
   ],
   "source": [
    "Wide_data.head()"
   ]
  },
  {
   "cell_type": "markdown",
   "metadata": {},
   "source": [
    "### Deep input data"
   ]
  },
  {
   "cell_type": "code",
   "execution_count": 4,
   "metadata": {},
   "outputs": [
    {
     "data": {
      "text/html": [
       "<div>\n",
       "<style>\n",
       "    .dataframe thead tr:only-child th {\n",
       "        text-align: right;\n",
       "    }\n",
       "\n",
       "    .dataframe thead th {\n",
       "        text-align: left;\n",
       "    }\n",
       "\n",
       "    .dataframe tbody tr th {\n",
       "        vertical-align: top;\n",
       "    }\n",
       "</style>\n",
       "<table border=\"1\" class=\"dataframe\">\n",
       "  <thead>\n",
       "    <tr style=\"text-align: right;\">\n",
       "      <th></th>\n",
       "      <th>0</th>\n",
       "      <th>1</th>\n",
       "      <th>2</th>\n",
       "      <th>3</th>\n",
       "      <th>4</th>\n",
       "      <th>5</th>\n",
       "      <th>6</th>\n",
       "      <th>7</th>\n",
       "      <th>8</th>\n",
       "      <th>9</th>\n",
       "      <th>...</th>\n",
       "      <th>B01</th>\n",
       "      <th>B02</th>\n",
       "      <th>C01</th>\n",
       "      <th>C02</th>\n",
       "      <th>C03</th>\n",
       "      <th>D01</th>\n",
       "      <th>D02</th>\n",
       "      <th>성별</th>\n",
       "      <th>연령대</th>\n",
       "      <th>A거주지역</th>\n",
       "    </tr>\n",
       "  </thead>\n",
       "  <tbody>\n",
       "    <tr>\n",
       "      <th>0</th>\n",
       "      <td>-0.000757</td>\n",
       "      <td>0.001210</td>\n",
       "      <td>0.000719</td>\n",
       "      <td>0.001681</td>\n",
       "      <td>0.001996</td>\n",
       "      <td>0.001242</td>\n",
       "      <td>-0.000085</td>\n",
       "      <td>-0.000496</td>\n",
       "      <td>0.002182</td>\n",
       "      <td>-0.001890</td>\n",
       "      <td>...</td>\n",
       "      <td>0.0</td>\n",
       "      <td>0.0</td>\n",
       "      <td>0.0</td>\n",
       "      <td>0.0</td>\n",
       "      <td>0.0</td>\n",
       "      <td>0.0</td>\n",
       "      <td>0.0</td>\n",
       "      <td>0</td>\n",
       "      <td>7</td>\n",
       "      <td>6</td>\n",
       "    </tr>\n",
       "    <tr>\n",
       "      <th>1</th>\n",
       "      <td>-0.229485</td>\n",
       "      <td>-0.120076</td>\n",
       "      <td>0.090476</td>\n",
       "      <td>-0.011354</td>\n",
       "      <td>-0.004279</td>\n",
       "      <td>0.177423</td>\n",
       "      <td>0.122731</td>\n",
       "      <td>0.019867</td>\n",
       "      <td>0.102183</td>\n",
       "      <td>-0.143541</td>\n",
       "      <td>...</td>\n",
       "      <td>0.0</td>\n",
       "      <td>0.0</td>\n",
       "      <td>0.0</td>\n",
       "      <td>0.0</td>\n",
       "      <td>0.0</td>\n",
       "      <td>0.0</td>\n",
       "      <td>0.0</td>\n",
       "      <td>0</td>\n",
       "      <td>9</td>\n",
       "      <td>1</td>\n",
       "    </tr>\n",
       "    <tr>\n",
       "      <th>2</th>\n",
       "      <td>-0.063811</td>\n",
       "      <td>0.006715</td>\n",
       "      <td>0.025582</td>\n",
       "      <td>0.026700</td>\n",
       "      <td>0.039148</td>\n",
       "      <td>0.031651</td>\n",
       "      <td>0.043512</td>\n",
       "      <td>-0.004721</td>\n",
       "      <td>0.021008</td>\n",
       "      <td>-0.036353</td>\n",
       "      <td>...</td>\n",
       "      <td>0.0</td>\n",
       "      <td>0.0</td>\n",
       "      <td>0.0</td>\n",
       "      <td>0.0</td>\n",
       "      <td>0.0</td>\n",
       "      <td>0.0</td>\n",
       "      <td>1.0</td>\n",
       "      <td>0</td>\n",
       "      <td>4</td>\n",
       "      <td>5</td>\n",
       "    </tr>\n",
       "    <tr>\n",
       "      <th>3</th>\n",
       "      <td>-0.000987</td>\n",
       "      <td>-0.000077</td>\n",
       "      <td>-0.000715</td>\n",
       "      <td>0.000863</td>\n",
       "      <td>-0.000943</td>\n",
       "      <td>-0.001618</td>\n",
       "      <td>-0.000788</td>\n",
       "      <td>0.000629</td>\n",
       "      <td>-0.001158</td>\n",
       "      <td>0.000429</td>\n",
       "      <td>...</td>\n",
       "      <td>0.0</td>\n",
       "      <td>0.0</td>\n",
       "      <td>0.0</td>\n",
       "      <td>0.0</td>\n",
       "      <td>0.0</td>\n",
       "      <td>0.0</td>\n",
       "      <td>1.0</td>\n",
       "      <td>0</td>\n",
       "      <td>4</td>\n",
       "      <td>5</td>\n",
       "    </tr>\n",
       "    <tr>\n",
       "      <th>4</th>\n",
       "      <td>-0.000302</td>\n",
       "      <td>0.000996</td>\n",
       "      <td>0.003372</td>\n",
       "      <td>0.002128</td>\n",
       "      <td>-0.000012</td>\n",
       "      <td>-0.000174</td>\n",
       "      <td>0.002966</td>\n",
       "      <td>0.000715</td>\n",
       "      <td>0.001500</td>\n",
       "      <td>-0.002877</td>\n",
       "      <td>...</td>\n",
       "      <td>0.0</td>\n",
       "      <td>0.0</td>\n",
       "      <td>0.0</td>\n",
       "      <td>0.0</td>\n",
       "      <td>0.0</td>\n",
       "      <td>0.0</td>\n",
       "      <td>0.0</td>\n",
       "      <td>0</td>\n",
       "      <td>7</td>\n",
       "      <td>1</td>\n",
       "    </tr>\n",
       "  </tbody>\n",
       "</table>\n",
       "<p>5 rows × 333 columns</p>\n",
       "</div>"
      ],
      "text/plain": [
       "          0         1         2         3         4         5         6  \\\n",
       "0 -0.000757  0.001210  0.000719  0.001681  0.001996  0.001242 -0.000085   \n",
       "1 -0.229485 -0.120076  0.090476 -0.011354 -0.004279  0.177423  0.122731   \n",
       "2 -0.063811  0.006715  0.025582  0.026700  0.039148  0.031651  0.043512   \n",
       "3 -0.000987 -0.000077 -0.000715  0.000863 -0.000943 -0.001618 -0.000788   \n",
       "4 -0.000302  0.000996  0.003372  0.002128 -0.000012 -0.000174  0.002966   \n",
       "\n",
       "          7         8         9  ...    B01  B02  C01  C02  C03  D01  D02  성별  \\\n",
       "0 -0.000496  0.002182 -0.001890  ...    0.0  0.0  0.0  0.0  0.0  0.0  0.0   0   \n",
       "1  0.019867  0.102183 -0.143541  ...    0.0  0.0  0.0  0.0  0.0  0.0  0.0   0   \n",
       "2 -0.004721  0.021008 -0.036353  ...    0.0  0.0  0.0  0.0  0.0  0.0  1.0   0   \n",
       "3  0.000629 -0.001158  0.000429  ...    0.0  0.0  0.0  0.0  0.0  0.0  1.0   0   \n",
       "4  0.000715  0.001500 -0.002877  ...    0.0  0.0  0.0  0.0  0.0  0.0  0.0   0   \n",
       "\n",
       "   연령대  A거주지역  \n",
       "0    7      6  \n",
       "1    9      1  \n",
       "2    4      5  \n",
       "3    4      5  \n",
       "4    7      1  \n",
       "\n",
       "[5 rows x 333 columns]"
      ]
     },
     "execution_count": 4,
     "metadata": {},
     "output_type": "execute_result"
    }
   ],
   "source": [
    "Deep_data.head()"
   ]
  },
  {
   "cell_type": "code",
   "execution_count": 5,
   "metadata": {},
   "outputs": [
    {
     "data": {
      "text/plain": [
       "(13915, 844)"
      ]
     },
     "execution_count": 5,
     "metadata": {},
     "output_type": "execute_result"
    }
   ],
   "source": [
    "Wide_data_test.shape"
   ]
  },
  {
   "cell_type": "code",
   "execution_count": 6,
   "metadata": {},
   "outputs": [
    {
     "data": {
      "text/plain": [
       "(13915, 333)"
      ]
     },
     "execution_count": 6,
     "metadata": {},
     "output_type": "execute_result"
    }
   ],
   "source": [
    "Deep_data_test.shape"
   ]
  },
  {
   "cell_type": "markdown",
   "metadata": {},
   "source": [
    "---"
   ]
  },
  {
   "cell_type": "markdown",
   "metadata": {},
   "source": [
    "# 2. Wide & Deep learning"
   ]
  },
  {
   "cell_type": "markdown",
   "metadata": {},
   "source": [
    "Google 의 Wide&Deep Model[[3]](https://arxiv.org/abs/1606.07792) 은 추천시스템을 위해 태어났다고 해도 생각해도 좋습니다.  간단한 예를 들어보겠습니다.  \n",
    "\n",
    "* 날개가 달린 동물은 날 수 있다.  \n",
    "\n",
    "Deep Learning을 이용해서 위 `\"Feature\"`를 학습할 수 있습니다. 이것을 일반화(generalization) 라고 말합니다.. 하지만, 이는 모든 상황에 적용되지 않기 때문에 문제가 있습니다.\n",
    "\n",
    "* 팽귄은 날개가 있다. 하지만 날지 못한다.\n",
    "\n",
    "모형은 이렇게 특별한 경우를 기억해야 합니다. 이것은 Wide Linear 모형으로 문제를 해결할 수 있고, 기억(memorization) 이라고 말합니다."
   ]
  },
  {
   "cell_type": "code",
   "execution_count": 7,
   "metadata": {},
   "outputs": [
    {
     "data": {
      "image/png": "[encoded data removed]",
      "text/plain": [
       "<IPython.core.display.Image object>"
      ]
     },
     "execution_count": 7,
     "metadata": {},
     "output_type": "execute_result"
    }
   ],
   "source": [
    "from IPython.display import Image\n",
    "Image('images/wide_n_deep.png')"
   ]
  },
  {
   "cell_type": "code",
   "execution_count": 8,
   "metadata": {
    "collapsed": true
   },
   "outputs": [],
   "source": [
    "import tensorflow as tf\n",
    "from tensorflow.contrib import layers\n",
    "from datetime import datetime"
   ]
  },
  {
   "cell_type": "code",
   "execution_count": 9,
   "metadata": {
    "collapsed": true
   },
   "outputs": [],
   "source": [
    "# parameters\n",
    "# keep_prob = 0.5\n",
    "learning_rate = 1e-4\n",
    "training_epochs = 10\n",
    "batch_size = 256\n",
    "\n",
    "wide_size = len(Wide_data.columns)\n",
    "deep_size = len(Deep_data.columns) \n",
    "deep_embed_size = 2 # 임베딩할 컬럼 개수\n",
    "\n",
    "output_size = len(train_label.columns)\n",
    "\n",
    "He = tf.contrib.layers.variance_scaling_initializer()\n",
    "\n",
    "# input place holders\n",
    "tf.reset_default_graph()\n",
    "Wide = tf.placeholder(tf.float32, [None, wide_size])\n",
    "Deep_un_embed = tf.placeholder(tf.float32, [None, deep_size - deep_embed_size])\n",
    "Deep_embed = tf.placeholder(tf.int32, [None, deep_embed_size])\n",
    "\n",
    "Y = tf.placeholder(tf.float32, [None, output_size])\n",
    "train_mode = tf.placeholder(tf.bool, name='train_mode')"
   ]
  },
  {
   "cell_type": "markdown",
   "metadata": {},
   "source": [
    "추천시스템은 일반적인 Accuracy를 이용하지 않습니다. 878개나 되는 Label을 맞출 리 없죠.   \n",
    "보통은 Top 3 내지 Top 20을 추천을 하게 됩니다.   \n",
    "그중 실제로 고객이 구매한 내역과 비교하여 Hit rate: (맞춘 개수 / 추천한 개수) 를 보게 됩니다.   \n",
    "Hit rate 는 통계학에서 Precision (정밀도) 라는 용어로 사용되고 있습니다."
   ]
  },
  {
   "cell_type": "markdown",
   "metadata": {},
   "source": [
    "#### Precision = tp / (tp + fp)\n",
    "\"\"    | Recommended | Not Recommended | Total\n",
    ":-----|:-----------:|:--------------:|:--------\n",
    "bought| tp | fn | \"\"\n",
    "not bought | fp | tn | \"\"\n",
    "Total | Top10 | 868 | 878"
   ]
  },
  {
   "cell_type": "code",
   "execution_count": 10,
   "metadata": {
    "collapsed": true
   },
   "outputs": [],
   "source": [
    "def get_acc(score_matrix, top_n, test_matix):\n",
    "    avg_acc = 0\n",
    "    for i in range(len(score_matrix)):\n",
    "        top = score_matrix.iloc[i].nlargest(top_n).index\n",
    "        tmp = 0\n",
    "        for j in range(len(top)):\n",
    "            if top[j] in test_matix[\"item\"][i].split():\n",
    "                tmp += 1\n",
    "\n",
    "        acc = tmp / len(top)\n",
    "        avg_acc += acc / len(score_matrix)\n",
    "\n",
    "    return avg_acc"
   ]
  },
  {
   "cell_type": "markdown",
   "metadata": {},
   "source": [
    "# 3. Wide & Deep "
   ]
  },
  {
   "cell_type": "code",
   "execution_count": 11,
   "metadata": {
    "collapsed": true
   },
   "outputs": [],
   "source": [
    "no_class_max = 42\n",
    "embedding_size = 5\n",
    "Deep_col = Deep_data.columns"
   ]
  },
  {
   "cell_type": "code",
   "execution_count": 12,
   "metadata": {
    "collapsed": true
   },
   "outputs": [],
   "source": [
    "# `embedding_lookup` 함수를 이용해서 categorical 변수를 Embedding 합니다.\n",
    "deep_embed_var = tf.Variable(tf.random_uniform([no_class_max, embedding_size], -1.0, 1.0))\n",
    "deep_embed = tf.nn.embedding_lookup(deep_embed_var, Deep_embed)\n",
    "deep_embed_re = tf.reshape(deep_embed, [-1, embedding_size * deep_embed_size])\n",
    "\n",
    "Deep = tf.concat([Deep_un_embed, deep_embed_re], axis=1)"
   ]
  },
  {
   "cell_type": "code",
   "execution_count": 13,
   "metadata": {},
   "outputs": [
    {
     "data": {
      "text/plain": [
       "<tf.Tensor 'concat:0' shape=(?, 341) dtype=float32>"
      ]
     },
     "execution_count": 13,
     "metadata": {},
     "output_type": "execute_result"
    }
   ],
   "source": [
    "Deep"
   ]
  },
  {
   "cell_type": "markdown",
   "metadata": {},
   "source": [
    "> 원래 Deep learning에 들어갈 input의 column 수는 333 개 였는데, 그 중 2개의 categorical 변수를 각각 5차원으로 Embedding하면 333 - 2 + 10 = 341 이 됩니다."
   ]
  },
  {
   "cell_type": "markdown",
   "metadata": {},
   "source": [
    "### Wide"
   ]
  },
  {
   "cell_type": "code",
   "execution_count": 14,
   "metadata": {
    "collapsed": true
   },
   "outputs": [],
   "source": [
    "A = tf.get_variable(\"A\", shape=[wide_size, output_size])\n",
    "b = tf.Variable(tf.random_normal([output_size]))\n",
    "\n",
    "wide = tf.add(tf.matmul(Wide, A), b)"
   ]
  },
  {
   "cell_type": "markdown",
   "metadata": {},
   "source": [
    "### Deep"
   ]
  },
  {
   "cell_type": "code",
   "execution_count": 15,
   "metadata": {
    "collapsed": true
   },
   "outputs": [],
   "source": [
    "W1 = tf.get_variable(\"W1\", shape=[341, 512], initializer=He)\n",
    "b1 = tf.Variable(tf.random_normal([512]))\n",
    "L1 = tf.nn.relu(tf.matmul(Deep, W1) + b1)\n",
    "\n",
    "W2 = tf.get_variable(\"W2\", shape=[512, 256], initializer=He)\n",
    "b2 = tf.Variable(tf.random_normal([256]))\n",
    "L2 = tf.nn.relu(tf.matmul(L1, W2) + b2)\n",
    "\n",
    "W3 = tf.get_variable(\"W3\", shape=[256, 128], initializer=He)\n",
    "b3 = tf.Variable(tf.random_normal([128]))\n",
    "L3 = tf.nn.relu(tf.matmul(L2, W3) + b3)\n",
    "\n",
    "W4 = tf.get_variable(\"W4\", shape=[128, output_size], initializer=He)\n",
    "b4 = tf.Variable(tf.random_normal([output_size]))\n",
    "\n",
    "deep = tf.add(tf.matmul(L3, W4), b4)"
   ]
  },
  {
   "cell_type": "code",
   "execution_count": 16,
   "metadata": {
    "collapsed": true
   },
   "outputs": [],
   "source": [
    "hypothesis = wide + deep"
   ]
  },
  {
   "cell_type": "code",
   "execution_count": 17,
   "metadata": {
    "collapsed": true
   },
   "outputs": [],
   "source": [
    "cost = tf.reduce_mean(tf.nn.sigmoid_cross_entropy_with_logits(logits=hypothesis, labels=Y))\n",
    "optimizer = tf.train.AdamOptimizer(learning_rate=learning_rate).minimize(cost)"
   ]
  },
  {
   "cell_type": "code",
   "execution_count": 18,
   "metadata": {
    "collapsed": true
   },
   "outputs": [],
   "source": [
    "Wide_n_Deep_ACC_plot = []\n",
    "\n",
    "def Wide_n_Deep_Model(training_epochs = 10):\n",
    "    \n",
    "    feed_dict_test = {Wide: Wide_data_test,\n",
    "                      Deep_un_embed: Deep_data_test[Deep_col[:-2]],\n",
    "                      Deep_embed: Deep_data_test[Deep_col[-2:]]}\n",
    "    \n",
    "    try:\n",
    "        print(\"가장 Hit-rate가 높았던 체크포인트를 로드합니다.\")\n",
    "        last_chk_path = tf.train.latest_checkpoint(checkpoint_dir=save_dir)\n",
    "        saver.restore(sess, save_path=last_chk_path)\n",
    "        print(\"Restored checkpoint from:\", last_chk_path)\n",
    "        \n",
    "        score = sess.run(tf.sigmoid(hypothesis), feed_dict=feed_dict_test)\n",
    "        WD_score = pd.DataFrame(score, columns=train_label.columns)\n",
    "        \n",
    "        print(\"Hit rate of Top 3: {:>.5f}\".format(get_acc(WD_score, 3, test_label)))\n",
    "        print(\"Hit rate of Top 10: {:>.5f}\".format(get_acc(WD_score, 10, test_label)))\n",
    "        print(\"Hit rate of Top 20: {:>.5f}\".format(get_acc(WD_score, 20, test_label)))\n",
    "        \n",
    "        \n",
    "        \n",
    "    except:\n",
    "        print(\"체크포인트가 없습니다. 변수를 초기화 합니다.\")\n",
    "        print(\"----------------------------------------------\")\n",
    "        sess.run(tf.global_variables_initializer())\n",
    "\n",
    "        max_acc = 0\n",
    "        for epoch in range(training_epochs):\n",
    "            avg_cost = 0\n",
    "            total_batch = int(len(Deep_data) / batch_size)\n",
    "\n",
    "            \n",
    "            for i in range(0, len(Deep_data), batch_size):\n",
    "                batch_wide = Wide_data[i:i+batch_size]\n",
    "                batch_deep = Deep_data[i:i+batch_size][Deep_col[:-2]]\n",
    "                batch_deep_embed = Deep_data[i:i+batch_size][Deep_col[-2:]]\n",
    "\n",
    "                batch_label = train_label[i:i+batch_size]\n",
    "\n",
    "                feed_dict_train = {Wide: batch_wide,\n",
    "                                   Deep_un_embed: batch_deep,\n",
    "                                   Deep_embed: batch_deep_embed,\n",
    "                                   Y: batch_label}\n",
    "\n",
    "                opt, c = sess.run([optimizer, cost], feed_dict=feed_dict_train)\n",
    "\n",
    "                avg_cost += c/total_batch\n",
    "\n",
    "                \n",
    "            # 2번마다 Hit-rate를 계산합니다.\n",
    "            # if (epoch % 2 == 0) or (epoch == training_epochs - 1):\n",
    "\n",
    "            score = sess.run(tf.sigmoid(hypothesis), feed_dict=feed_dict_test)\n",
    "            \n",
    "            score_pd = pd.DataFrame(score, columns=train_label.columns)\n",
    "            acc = get_acc(score_pd, 10, test_label)\n",
    "            Wide_n_Deep_ACC_plot.append(acc)\n",
    "\n",
    "\n",
    "            time = datetime.now().strftime('%Y-%m-%d %H:%M:%S')\n",
    "            main = \"[Epoch: {:>4}][Cost: {:>.5f}][Hit rate of Top 10: {:>.5f}]\"\n",
    "            print(main.format(epoch, avg_cost, acc))\n",
    "\n",
    "\n",
    "            # Hit-rate가 가장 높은 score를 저장합니다.\n",
    "            if acc > max_acc:\n",
    "                WD_score = score_pd\n",
    "                saver.save(sess, save_path=save_path, global_step=epoch)\n",
    "                print(\"Saved checkpoint.\")\n",
    "\n",
    "            max_acc = max(max_acc, acc)\n",
    "                \n",
    "\n",
    "        print('Learning Finished!')\n",
    "        print(\"----------------------------------------------\")\n",
    "        print(\"가장 Hit-rate가 높았던 체크포인트를 로드합니다.\")\n",
    "        last_chk_path = tf.train.latest_checkpoint(checkpoint_dir=save_dir)\n",
    "        saver.restore(sess, save_path=last_chk_path)\n",
    "        \n",
    "        print(\"Hit rate of Top 3: {:>.5f}\".format(get_acc(WD_score, 3, test_label)))\n",
    "        print(\"Hit rate of Top 10: {:>.5f}\".format(get_acc(WD_score, 10, test_label)))\n",
    "        print(\"Hit rate of Top 20: {:>.5f}\".format(get_acc(WD_score, 20, test_label)))\n",
    "        \n",
    "\n",
    "    return WD_score"
   ]
  },
  {
   "cell_type": "markdown",
   "metadata": {},
   "source": [
    "## Session"
   ]
  },
  {
   "cell_type": "code",
   "execution_count": 19,
   "metadata": {
    "collapsed": true
   },
   "outputs": [],
   "source": [
    "config = tf.ConfigProto()\n",
    "config.gpu_options.allow_growth=True\n",
    "sess = tf.Session(config=config)"
   ]
  },
  {
   "cell_type": "markdown",
   "metadata": {},
   "source": [
    "## Saver"
   ]
  },
  {
   "cell_type": "code",
   "execution_count": 20,
   "metadata": {
    "collapsed": true
   },
   "outputs": [],
   "source": [
    "import os\n",
    "save_dir = 'WnD_model/'\n",
    "if not os.path.exists(save_dir):\n",
    "    os.makedirs(save_dir)\n",
    "save_path = os.path.join(save_dir, 'WnD_tensorflow')\n",
    "saver = tf.train.Saver()"
   ]
  },
  {
   "cell_type": "code",
   "execution_count": 21,
   "metadata": {},
   "outputs": [
    {
     "name": "stdout",
     "output_type": "stream",
     "text": [
      "가장 Hit-rate가 높았던 체크포인트를 로드합니다.\n",
      "INFO:tensorflow:Restoring parameters from None\n",
      "체크포인트가 없습니다. 변수를 초기화 합니다.\n",
      "----------------------------------------------\n",
      "[Epoch:    0][Cost: 0.20604][Hit rate of Top 10: 0.09243]\n",
      "Saved checkpoint.\n",
      "[Epoch:    1][Cost: 0.02035][Hit rate of Top 10: 0.12688]\n",
      "Saved checkpoint.\n",
      "[Epoch:    2][Cost: 0.01826][Hit rate of Top 10: 0.14277]\n",
      "Saved checkpoint.\n",
      "[Epoch:    3][Cost: 0.01721][Hit rate of Top 10: 0.15225]\n",
      "Saved checkpoint.\n",
      "[Epoch:    4][Cost: 0.01649][Hit rate of Top 10: 0.15833]\n",
      "Saved checkpoint.\n",
      "[Epoch:    5][Cost: 0.01598][Hit rate of Top 10: 0.16090]\n",
      "Saved checkpoint.\n",
      "[Epoch:    6][Cost: 0.01559][Hit rate of Top 10: 0.16246]\n",
      "Saved checkpoint.\n",
      "[Epoch:    7][Cost: 0.01528][Hit rate of Top 10: 0.16310]\n",
      "Saved checkpoint.\n",
      "[Epoch:    8][Cost: 0.01502][Hit rate of Top 10: 0.16421]\n",
      "Saved checkpoint.\n",
      "[Epoch:    9][Cost: 0.01481][Hit rate of Top 10: 0.16436]\n",
      "Saved checkpoint.\n",
      "[Epoch:   10][Cost: 0.01463][Hit rate of Top 10: 0.16466]\n",
      "Saved checkpoint.\n",
      "[Epoch:   11][Cost: 0.01447][Hit rate of Top 10: 0.16469]\n",
      "Saved checkpoint.\n",
      "[Epoch:   12][Cost: 0.01434][Hit rate of Top 10: 0.16483]\n",
      "Saved checkpoint.\n",
      "[Epoch:   13][Cost: 0.01422][Hit rate of Top 10: 0.16493]\n",
      "Saved checkpoint.\n",
      "[Epoch:   14][Cost: 0.01412][Hit rate of Top 10: 0.16496]\n",
      "Saved checkpoint.\n",
      "[Epoch:   15][Cost: 0.01403][Hit rate of Top 10: 0.16527]\n",
      "Saved checkpoint.\n",
      "[Epoch:   16][Cost: 0.01395][Hit rate of Top 10: 0.16541]\n",
      "Saved checkpoint.\n",
      "[Epoch:   17][Cost: 0.01388][Hit rate of Top 10: 0.16538]\n",
      "[Epoch:   18][Cost: 0.01381][Hit rate of Top 10: 0.16551]\n",
      "Saved checkpoint.\n",
      "[Epoch:   19][Cost: 0.01375][Hit rate of Top 10: 0.16552]\n",
      "Saved checkpoint.\n",
      "[Epoch:   20][Cost: 0.01370][Hit rate of Top 10: 0.16545]\n",
      "[Epoch:   21][Cost: 0.01365][Hit rate of Top 10: 0.16550]\n",
      "[Epoch:   22][Cost: 0.01360][Hit rate of Top 10: 0.16545]\n",
      "[Epoch:   23][Cost: 0.01356][Hit rate of Top 10: 0.16540]\n",
      "[Epoch:   24][Cost: 0.01352][Hit rate of Top 10: 0.16526]\n",
      "[Epoch:   25][Cost: 0.01348][Hit rate of Top 10: 0.16516]\n",
      "[Epoch:   26][Cost: 0.01345][Hit rate of Top 10: 0.16496]\n",
      "[Epoch:   27][Cost: 0.01342][Hit rate of Top 10: 0.16511]\n",
      "[Epoch:   28][Cost: 0.01339][Hit rate of Top 10: 0.16499]\n",
      "[Epoch:   29][Cost: 0.01336][Hit rate of Top 10: 0.16497]\n",
      "[Epoch:   30][Cost: 0.01333][Hit rate of Top 10: 0.16479]\n",
      "[Epoch:   31][Cost: 0.01330][Hit rate of Top 10: 0.16466]\n",
      "[Epoch:   32][Cost: 0.01328][Hit rate of Top 10: 0.16472]\n",
      "[Epoch:   33][Cost: 0.01325][Hit rate of Top 10: 0.16474]\n",
      "[Epoch:   34][Cost: 0.01323][Hit rate of Top 10: 0.16448]\n",
      "[Epoch:   35][Cost: 0.01321][Hit rate of Top 10: 0.16436]\n",
      "[Epoch:   36][Cost: 0.01319][Hit rate of Top 10: 0.16427]\n",
      "[Epoch:   37][Cost: 0.01317][Hit rate of Top 10: 0.16425]\n",
      "[Epoch:   38][Cost: 0.01315][Hit rate of Top 10: 0.16420]\n",
      "[Epoch:   39][Cost: 0.01313][Hit rate of Top 10: 0.16398]\n",
      "[Epoch:   40][Cost: 0.01311][Hit rate of Top 10: 0.16390]\n",
      "[Epoch:   41][Cost: 0.01309][Hit rate of Top 10: 0.16382]\n",
      "[Epoch:   42][Cost: 0.01307][Hit rate of Top 10: 0.16369]\n",
      "[Epoch:   43][Cost: 0.01306][Hit rate of Top 10: 0.16355]\n",
      "[Epoch:   44][Cost: 0.01304][Hit rate of Top 10: 0.16355]\n",
      "[Epoch:   45][Cost: 0.01302][Hit rate of Top 10: 0.16333]\n",
      "[Epoch:   46][Cost: 0.01301][Hit rate of Top 10: 0.16328]\n",
      "[Epoch:   47][Cost: 0.01299][Hit rate of Top 10: 0.16312]\n",
      "[Epoch:   48][Cost: 0.01297][Hit rate of Top 10: 0.16297]\n",
      "[Epoch:   49][Cost: 0.01296][Hit rate of Top 10: 0.16280]\n",
      "[Epoch:   50][Cost: 0.01294][Hit rate of Top 10: 0.16259]\n",
      "Learning Finished!\n",
      "----------------------------------------------\n",
      "가장 Hit-rate가 높았던 체크포인트를 로드합니다.\n",
      "INFO:tensorflow:Restoring parameters from WnD_model/WnD_tensorflow-19\n",
      "Hit rate of Top 3: 0.26659\n",
      "Hit rate of Top 10: 0.16552\n",
      "Hit rate of Top 20: 0.11364\n"
     ]
    }
   ],
   "source": [
    "WD_score = Wide_n_Deep_Model(51)"
   ]
  },
  {
   "cell_type": "code",
   "execution_count": 22,
   "metadata": {
    "collapsed": true
   },
   "outputs": [],
   "source": [
    "import matplotlib.pyplot as plt\n",
    "import numpy as np"
   ]
  },
  {
   "cell_type": "code",
   "execution_count": 23,
   "metadata": {},
   "outputs": [
    {
     "data": {
      "image/png": "[encoded data removed]",
      "text/plain": [
       "<matplotlib.figure.Figure at 0x7f2161b560b8>"
      ]
     },
     "metadata": {},
     "output_type": "display_data"
    }
   ],
   "source": [
    "builds = np.array(list(range(0, 51, 1)))\n",
    "\n",
    "fig = plt.figure(figsize=(11,8))\n",
    "ax1 = fig.add_subplot(111)\n",
    "\n",
    "ax1.plot(builds, Wide_n_Deep_ACC_plot, label='Wide & Deep', color='b', marker='o')\n",
    "\n",
    "plt.xticks(builds)\n",
    "plt.xlabel('Epoch')\n",
    "plt.ylabel('Precision')\n",
    "\n",
    "handles, labels = ax1.get_legend_handles_labels()\n",
    "lgd = ax1.legend(handles, labels, loc='upper center', bbox_to_anchor=(1.15,1))\n",
    "ax1.grid('on')\n",
    "plt.savefig('Wide_Deep_Model.png')\n",
    "plt.show()"
   ]
  },
  {
   "cell_type": "markdown",
   "metadata": {},
   "source": [
    "Hit-rate가 가장 높았던 부분은 Epoch 가 19이었던 부분입니다.  \n",
    "10개를 추천해준다면 그 중 16.552% 가량을 실제로 구매하는 것으로 나타났습니다.    \n",
    "(여러번 돌려본 결과 16.5 ~ 16.6 사이를 왔다갔다 합니다.)"
   ]
  },
  {
   "cell_type": "markdown",
   "metadata": {},
   "source": [
    "---"
   ]
  },
  {
   "cell_type": "markdown",
   "metadata": {},
   "source": [
    "14674번 고객과 6887번 고객을 예를 들면 위 모델로 추천을 해준 아이템 10개는 다음과 같으며  \n",
    "실제 고객이 구매한 아이템은 그 밑에 나타냈습니다."
   ]
  },
  {
   "cell_type": "code",
   "execution_count": 24,
   "metadata": {
    "collapsed": true
   },
   "outputs": [],
   "source": [
    "test_data = pd.read_csv(\"./Lpoint_data/test_data.csv\", encoding=\"cp949\")\n",
    "\n",
    "test_docs = [(str(row['item']).split(), row['고객번호']) for idx, row in test_data.iterrows()]"
   ]
  },
  {
   "cell_type": "code",
   "execution_count": 25,
   "metadata": {},
   "outputs": [
    {
     "name": "stdout",
     "output_type": "stream",
     "text": [
      "(['C060206/온장조리원부재료'], 14674)\n",
      "['C060206/온장조리원부재료', 4358, 14674]\n",
      "['C060406/베이커리일반빵', 'C060504/기타냉장조리', 'C060402/일반빵', 'C060503/기타온장조리', 'C060403/호빵찐빵', 'C060502/피자', 'C060205/즉석어묵', 'C060506/일반떡', 'C060401/식빵', 'C060308/햄버거']\n"
     ]
    }
   ],
   "source": [
    "print(test_docs[0])\n",
    "print(list(test_label.iloc[0]))\n",
    "print(list(WD_score.iloc[0].nlargest(10).index))"
   ]
  },
  {
   "cell_type": "markdown",
   "metadata": {},
   "source": [
    "### ID: 14674\n",
    "\n",
    "* 구매했던 상품들\n",
    "\n",
    "상품 명             | 상품 명          | 상품 명\n",
    ":-------------------|:-----------------|:------------------\n",
    "'C060206/온장조리원부재료' |  | \n",
    "\n",
    "* 추천 상품 \n",
    "\n",
    "상품 명             | 상품 명          | 상품 명\n",
    ":-------------------|:-----------------|:------------------\n",
    "'C060406/베이커리일반빵' | 'C060504/기타냉장조리' | 'C060402/일반빵'\n",
    "'C060503/기타온장조리' | 'C060403/호빵찐빵' | 'C060502/피자'\n",
    "'C060205/즉석어묵' | 'C060506/일반떡' | 'C060401/식빵'\n",
    "'C060308/햄버거' |  | \n",
    "\n",
    "* 실제 마지막 구매 상품  \n",
    "\n",
    "상품 명             | 상품 명          | 상품 명\n",
    ":-------------------|:-----------------|:------------------\n",
    "'C060206/온장조리원부재료' |  | \n",
    "\n",
    "\n",
    "* Hit rate:  0/10  \n",
    "(추천해준 상품에서 실제 구매한 상품의 개수 / 추천해준 상품의 개수)"
   ]
  },
  {
   "cell_type": "markdown",
   "metadata": {},
   "source": [
    "> 14674 번 고객은 __'온장조리원부재료'__를 딱 1번 구매한 고객입니다.  \n",
    "이렇게 고객의 구매 데이터가 거의 없어도  __`기타냉장조리`, `기타온장조리`__ 등 상위카테고리 06 범주에서 비슷한 상품들을 추천해주는 모습입니다."
   ]
  },
  {
   "cell_type": "code",
   "execution_count": 26,
   "metadata": {},
   "outputs": [
    {
     "name": "stdout",
     "output_type": "stream",
     "text": [
      "(['C120202/수입맥주', 'C170206/종량제봉투', 'C120202/수입맥주', 'C170206/종량제봉투'], 66)\n",
      "['C140501/설탕 C150301/크래커 C150405/일반스낵 C170206/종량제봉투', 24463, 66]\n",
      "['C170701/생활잡화균일가', 'C170206/종량제봉투', 'C150101/국물봉지라면', 'C150405/일반스낵', 'C150401/감자스낵', 'C150302/쿠키', 'C140501/설탕', 'C150301/크래커', 'C140302/식초', 'C150306/파이']\n"
     ]
    }
   ],
   "source": [
    "print(test_docs[1])\n",
    "print(list(test_label.iloc[1]))\n",
    "print(list(WD_score.iloc[1].nlargest(10).index))"
   ]
  },
  {
   "cell_type": "markdown",
   "metadata": {},
   "source": [
    "### ID: 66\n",
    "\n",
    "* 구매했던 상품들\n",
    "\n",
    "상품 명             | 상품 명          | 상품 명\n",
    ":-------------------|:-----------------|:------------------\n",
    "'C120202/수입맥주' | 'C170206/종량제봉투' | 'C120202/수입맥주'\n",
    "'C170206/종량제봉투' |  | \n",
    "\n",
    "\n",
    "* 추천 상품 \n",
    "\n",
    "상품 명             | 상품 명          | 상품 명\n",
    ":-------------------|:-----------------|:------------------\n",
    "'C170701/생활잡화균일가' | 'C170206/종량제봉투' | 'C150101/국물봉지라면'\n",
    "'C150405/일반스낵' | 'C150401/감자스낵' | 'C150302/쿠키'\n",
    "'C140501/설탕' | 'C150301/크래커' | 'C140302/식초'\n",
    "'C150306/파이' |  | \n",
    " \n",
    "\n",
    "* 실제 마지막 구매 상품  \n",
    "\n",
    "상품 명             | 상품 명          | 상품 명\n",
    ":-------------------|:-----------------|:------------------\n",
    "C140501/설탕 | C150301/크래커 | C150405/일반스낵\n",
    "C170206/종량제봉투 |  | \n",
    "\n",
    "* Hit rate:  4/10  \n",
    "(추천해준 상품에서 실제 구매한 상품의 개수 / 추천해준 상품의 개수)"
   ]
  },
  {
   "cell_type": "markdown",
   "metadata": {},
   "source": [
    "> __수입맥주, 종량제봉투__ 를 서로 다른날에 2번 구매한 고객입니다. 스낵류를 여러가지 추천해준 모습이 인상적입니다.   \n",
    "또한 연관성이 <U>전혀</U> 없을 것 같은 __식초, 설탕__ 을 추천해 주었는데 __설탕__을 실제로 구매한 결과가 아주 놀랍습니다!\n"
   ]
  },
  {
   "cell_type": "markdown",
   "metadata": {},
   "source": [
    "---"
   ]
  },
  {
   "cell_type": "markdown",
   "metadata": {},
   "source": [
    "# 5. Cold start 문제"
   ]
  },
  {
   "cell_type": "markdown",
   "metadata": {},
   "source": [
    "Cold start 문제란 구매이력이 없는 User에게 추천을 해주는 문제를 말합니다.  \n",
    "기존의 CF 에서는 Rating에 의존한 추천을 해주다 보니, 이런 구매이력이 없는 고객에게는 추천을 하지 못하는 문제가 있었습니다. 그러다 보니 보통 가장 인기가 많은 Item들을 추천을 해주는 경향이 있습니다.    "
   ]
  },
  {
   "cell_type": "markdown",
   "metadata": {},
   "source": [
    "Neural Network를 이용한 모형에서도 이러한 문제가 존재합니다.  하지만 이 모형에는 고객의 특징을 설명하는 변수가 존재하기 때문에 __User Feaures__를 이용해서 추천을 해 주는 것이 가능합니다.\n",
    "\n",
    "위 모형에서 구매 이력이 단 1개인 고객은 분석에서 제외했었습니다. Train set만 있고 Test set 이 없었기 때문입니다.   \n",
    "\n",
    "이번 단계에서 그 고객의 User Feature만 사용해 추천을 하고, 그 1번 뿐인 구매이력으로 정확도를 측정하도록 하겠습니다. "
   ]
  },
  {
   "cell_type": "code",
   "execution_count": 27,
   "metadata": {
    "collapsed": true
   },
   "outputs": [],
   "source": [
    "pred_label, pred_label_eval, pred_categorical, pred_continuous \\\n",
    "= Agile_data.load_pred_data()"
   ]
  },
  {
   "cell_type": "code",
   "execution_count": 28,
   "metadata": {
    "collapsed": true
   },
   "outputs": [],
   "source": [
    "from sklearn.preprocessing import LabelEncoder\n",
    "le = LabelEncoder()"
   ]
  },
  {
   "cell_type": "code",
   "execution_count": 29,
   "metadata": {
    "collapsed": true
   },
   "outputs": [],
   "source": [
    "pred_categorical[\"성별\"] = le.fit_transform(pred_categorical[\"성별\"])\n",
    "pred_categorical[\"연령대\"] = le.fit_transform(pred_categorical[\"연령대\"])\n",
    "pred_categorical[\"A거주지역\"] = le.fit_transform(pred_categorical[\"A거주지역\"])\n",
    "\n",
    "pred_user_feartures = pd.concat([pred_continuous, pred_categorical], axis=1)"
   ]
  },
  {
   "cell_type": "code",
   "execution_count": 30,
   "metadata": {},
   "outputs": [
    {
     "data": {
      "text/html": [
       "<div>\n",
       "<style>\n",
       "    .dataframe thead tr:only-child th {\n",
       "        text-align: right;\n",
       "    }\n",
       "\n",
       "    .dataframe thead th {\n",
       "        text-align: left;\n",
       "    }\n",
       "\n",
       "    .dataframe tbody tr th {\n",
       "        vertical-align: top;\n",
       "    }\n",
       "</style>\n",
       "<table border=\"1\" class=\"dataframe\">\n",
       "  <thead>\n",
       "    <tr style=\"text-align: right;\">\n",
       "      <th></th>\n",
       "      <th>다둥이</th>\n",
       "      <th>더영</th>\n",
       "      <th>롭스</th>\n",
       "      <th>하이마트</th>\n",
       "      <th>A01</th>\n",
       "      <th>A02</th>\n",
       "      <th>B01</th>\n",
       "      <th>B02</th>\n",
       "      <th>C01</th>\n",
       "      <th>C02</th>\n",
       "      <th>C03</th>\n",
       "      <th>D01</th>\n",
       "      <th>D02</th>\n",
       "      <th>성별</th>\n",
       "      <th>연령대</th>\n",
       "      <th>A거주지역</th>\n",
       "    </tr>\n",
       "  </thead>\n",
       "  <tbody>\n",
       "    <tr>\n",
       "      <th>0</th>\n",
       "      <td>0.0</td>\n",
       "      <td>0.0</td>\n",
       "      <td>0.0</td>\n",
       "      <td>0.0</td>\n",
       "      <td>0.0</td>\n",
       "      <td>0.0</td>\n",
       "      <td>0.0</td>\n",
       "      <td>0.0</td>\n",
       "      <td>0.0</td>\n",
       "      <td>0.0</td>\n",
       "      <td>0.0</td>\n",
       "      <td>0.0</td>\n",
       "      <td>0.0</td>\n",
       "      <td>0</td>\n",
       "      <td>7</td>\n",
       "      <td>6</td>\n",
       "    </tr>\n",
       "    <tr>\n",
       "      <th>1</th>\n",
       "      <td>0.0</td>\n",
       "      <td>0.0</td>\n",
       "      <td>0.0</td>\n",
       "      <td>0.0</td>\n",
       "      <td>0.0</td>\n",
       "      <td>0.0</td>\n",
       "      <td>0.0</td>\n",
       "      <td>0.0</td>\n",
       "      <td>0.0</td>\n",
       "      <td>0.0</td>\n",
       "      <td>0.0</td>\n",
       "      <td>0.0</td>\n",
       "      <td>0.0</td>\n",
       "      <td>0</td>\n",
       "      <td>9</td>\n",
       "      <td>6</td>\n",
       "    </tr>\n",
       "    <tr>\n",
       "      <th>2</th>\n",
       "      <td>0.0</td>\n",
       "      <td>0.0</td>\n",
       "      <td>0.0</td>\n",
       "      <td>1.0</td>\n",
       "      <td>0.0</td>\n",
       "      <td>0.0</td>\n",
       "      <td>0.0</td>\n",
       "      <td>0.0</td>\n",
       "      <td>0.0</td>\n",
       "      <td>0.0</td>\n",
       "      <td>0.0</td>\n",
       "      <td>0.0</td>\n",
       "      <td>0.0</td>\n",
       "      <td>0</td>\n",
       "      <td>5</td>\n",
       "      <td>6</td>\n",
       "    </tr>\n",
       "    <tr>\n",
       "      <th>3</th>\n",
       "      <td>0.0</td>\n",
       "      <td>0.0</td>\n",
       "      <td>0.0</td>\n",
       "      <td>0.0</td>\n",
       "      <td>0.0</td>\n",
       "      <td>0.0</td>\n",
       "      <td>0.0</td>\n",
       "      <td>0.0</td>\n",
       "      <td>0.0</td>\n",
       "      <td>0.0</td>\n",
       "      <td>0.0</td>\n",
       "      <td>0.0</td>\n",
       "      <td>0.0</td>\n",
       "      <td>0</td>\n",
       "      <td>4</td>\n",
       "      <td>6</td>\n",
       "    </tr>\n",
       "    <tr>\n",
       "      <th>4</th>\n",
       "      <td>0.0</td>\n",
       "      <td>0.0</td>\n",
       "      <td>0.0</td>\n",
       "      <td>0.0</td>\n",
       "      <td>0.0</td>\n",
       "      <td>0.0</td>\n",
       "      <td>0.0</td>\n",
       "      <td>0.0</td>\n",
       "      <td>0.0</td>\n",
       "      <td>0.0</td>\n",
       "      <td>0.0</td>\n",
       "      <td>0.0</td>\n",
       "      <td>0.0</td>\n",
       "      <td>0</td>\n",
       "      <td>5</td>\n",
       "      <td>1</td>\n",
       "    </tr>\n",
       "  </tbody>\n",
       "</table>\n",
       "</div>"
      ],
      "text/plain": [
       "   다둥이   더영   롭스  하이마트  A01  A02  B01  B02  C01  C02  C03  D01  D02  성별  연령대  \\\n",
       "0  0.0  0.0  0.0   0.0  0.0  0.0  0.0  0.0  0.0  0.0  0.0  0.0  0.0   0    7   \n",
       "1  0.0  0.0  0.0   0.0  0.0  0.0  0.0  0.0  0.0  0.0  0.0  0.0  0.0   0    9   \n",
       "2  0.0  0.0  0.0   1.0  0.0  0.0  0.0  0.0  0.0  0.0  0.0  0.0  0.0   0    5   \n",
       "3  0.0  0.0  0.0   0.0  0.0  0.0  0.0  0.0  0.0  0.0  0.0  0.0  0.0   0    4   \n",
       "4  0.0  0.0  0.0   0.0  0.0  0.0  0.0  0.0  0.0  0.0  0.0  0.0  0.0   0    5   \n",
       "\n",
       "   A거주지역  \n",
       "0      6  \n",
       "1      6  \n",
       "2      6  \n",
       "3      6  \n",
       "4      1  "
      ]
     },
     "execution_count": 30,
     "metadata": {},
     "output_type": "execute_result"
    }
   ],
   "source": [
    "pred_user_feartures.head()"
   ]
  },
  {
   "cell_type": "code",
   "execution_count": 31,
   "metadata": {
    "collapsed": true
   },
   "outputs": [],
   "source": [
    "Wide_data_pred = pd.DataFrame(np.zeros((3195, 844)))\n",
    "Wide_data_pred.columns = Wide_data.columns"
   ]
  },
  {
   "cell_type": "code",
   "execution_count": 32,
   "metadata": {
    "collapsed": true
   },
   "outputs": [],
   "source": [
    "Deep_data_pred_ = pd.DataFrame (np.zeros((3195, 317)))\n",
    "Deep_data_pred = pd.concat([Deep_data_pred_, pred_user_feartures], axis=1)\n",
    "Deep_data_pred.columns = Deep_data.columns"
   ]
  },
  {
   "cell_type": "code",
   "execution_count": 33,
   "metadata": {},
   "outputs": [
    {
     "name": "stdout",
     "output_type": "stream",
     "text": [
      "(3195, 844)\n",
      "(3195, 333)\n"
     ]
    }
   ],
   "source": [
    "print(Wide_data_pred.shape)\n",
    "print(Deep_data_pred.shape)"
   ]
  },
  {
   "cell_type": "code",
   "execution_count": 34,
   "metadata": {
    "collapsed": true
   },
   "outputs": [],
   "source": [
    "feed_dict_pred = {Wide: Wide_data_pred,\n",
    "                  Deep_un_embed: Deep_data_pred[Deep_col[:-2]],\n",
    "                  Deep_embed: Deep_data_pred[Deep_col[-2:]]}"
   ]
  },
  {
   "cell_type": "code",
   "execution_count": 35,
   "metadata": {
    "collapsed": true
   },
   "outputs": [],
   "source": [
    "score_pred = sess.run(tf.sigmoid(hypothesis), feed_dict=feed_dict_pred)\n",
    "score_pred = pd.DataFrame(score_pred, columns=train_label.columns)"
   ]
  },
  {
   "cell_type": "code",
   "execution_count": 36,
   "metadata": {},
   "outputs": [
    {
     "name": "stdout",
     "output_type": "stream",
     "text": [
      "Hit rate of Top 3: 0.06093\n",
      "Hit rate of Top 10: 0.04203\n"
     ]
    }
   ],
   "source": [
    "print(\"Hit rate of Top 3: {:>.5f}\".format(get_acc(score_pred, 3, pred_label)))\n",
    "print(\"Hit rate of Top 10: {:>.5f}\".format(get_acc(score_pred, 10, pred_label)))"
   ]
  },
  {
   "cell_type": "markdown",
   "metadata": {},
   "source": [
    "~~정확도는 형편없습니다...~~  \n",
    "그 결과를 보면 아래와 같습니다. "
   ]
  },
  {
   "cell_type": "markdown",
   "metadata": {},
   "source": [
    "---"
   ]
  },
  {
   "cell_type": "code",
   "execution_count": 37,
   "metadata": {
    "collapsed": true
   },
   "outputs": [],
   "source": [
    "reco = []\n",
    "for i in [0, 5, 10, 50, 100, 500, 1000]:\n",
    "    reco.append(list(score_pred.iloc[i].nlargest(10).index))\n",
    "\n",
    "reco_pd = pd.DataFrame(reco)\n",
    "\n",
    "random_user =  pred_user_feartures.loc[[0, 5, 10, 50,100, 500, 1000]]"
   ]
  },
  {
   "cell_type": "code",
   "execution_count": 38,
   "metadata": {},
   "outputs": [
    {
     "data": {
      "text/html": [
       "<div>\n",
       "<style>\n",
       "    .dataframe thead tr:only-child th {\n",
       "        text-align: right;\n",
       "    }\n",
       "\n",
       "    .dataframe thead th {\n",
       "        text-align: left;\n",
       "    }\n",
       "\n",
       "    .dataframe tbody tr th {\n",
       "        vertical-align: top;\n",
       "    }\n",
       "</style>\n",
       "<table border=\"1\" class=\"dataframe\">\n",
       "  <thead>\n",
       "    <tr style=\"text-align: right;\">\n",
       "      <th></th>\n",
       "      <th>다둥이</th>\n",
       "      <th>더영</th>\n",
       "      <th>롭스</th>\n",
       "      <th>하이마트</th>\n",
       "      <th>A01</th>\n",
       "      <th>A02</th>\n",
       "      <th>B01</th>\n",
       "      <th>B02</th>\n",
       "      <th>C01</th>\n",
       "      <th>C02</th>\n",
       "      <th>...</th>\n",
       "      <th>0</th>\n",
       "      <th>1</th>\n",
       "      <th>2</th>\n",
       "      <th>3</th>\n",
       "      <th>4</th>\n",
       "      <th>5</th>\n",
       "      <th>6</th>\n",
       "      <th>7</th>\n",
       "      <th>8</th>\n",
       "      <th>9</th>\n",
       "    </tr>\n",
       "  </thead>\n",
       "  <tbody>\n",
       "    <tr>\n",
       "      <th>0</th>\n",
       "      <td>0.0</td>\n",
       "      <td>0.0</td>\n",
       "      <td>0.0</td>\n",
       "      <td>0.0</td>\n",
       "      <td>0.0</td>\n",
       "      <td>0.0</td>\n",
       "      <td>0.0</td>\n",
       "      <td>0.0</td>\n",
       "      <td>0.0</td>\n",
       "      <td>0.0</td>\n",
       "      <td>...</td>\n",
       "      <td>C120101/일반소주</td>\n",
       "      <td>C170701/생활잡화균일가</td>\n",
       "      <td>C030302/고구마</td>\n",
       "      <td>C070101/일반우유</td>\n",
       "      <td>C070103/가공우유</td>\n",
       "      <td>C150401/감자스낵</td>\n",
       "      <td>C110203/콜라</td>\n",
       "      <td>C060504/기타냉장조리</td>\n",
       "      <td>C090102/튜브아이스크림</td>\n",
       "      <td>C030103/상추</td>\n",
       "    </tr>\n",
       "    <tr>\n",
       "      <th>1</th>\n",
       "      <td>1.0</td>\n",
       "      <td>0.0</td>\n",
       "      <td>0.0</td>\n",
       "      <td>0.0</td>\n",
       "      <td>0.0</td>\n",
       "      <td>0.0</td>\n",
       "      <td>0.0</td>\n",
       "      <td>0.0</td>\n",
       "      <td>0.0</td>\n",
       "      <td>0.0</td>\n",
       "      <td>...</td>\n",
       "      <td>C120101/일반소주</td>\n",
       "      <td>C170701/생활잡화균일가</td>\n",
       "      <td>C030302/고구마</td>\n",
       "      <td>C070101/일반우유</td>\n",
       "      <td>C150401/감자스낵</td>\n",
       "      <td>C070103/가공우유</td>\n",
       "      <td>C110203/콜라</td>\n",
       "      <td>C090102/튜브아이스크림</td>\n",
       "      <td>C150306/파이</td>\n",
       "      <td>C060504/기타냉장조리</td>\n",
       "    </tr>\n",
       "    <tr>\n",
       "      <th>2</th>\n",
       "      <td>0.0</td>\n",
       "      <td>0.0</td>\n",
       "      <td>0.0</td>\n",
       "      <td>1.0</td>\n",
       "      <td>0.0</td>\n",
       "      <td>0.0</td>\n",
       "      <td>0.0</td>\n",
       "      <td>0.0</td>\n",
       "      <td>0.0</td>\n",
       "      <td>0.0</td>\n",
       "      <td>...</td>\n",
       "      <td>C120101/일반소주</td>\n",
       "      <td>C170701/생활잡화균일가</td>\n",
       "      <td>C030302/고구마</td>\n",
       "      <td>C070101/일반우유</td>\n",
       "      <td>C070103/가공우유</td>\n",
       "      <td>C110203/콜라</td>\n",
       "      <td>C150401/감자스낵</td>\n",
       "      <td>C090102/튜브아이스크림</td>\n",
       "      <td>C150306/파이</td>\n",
       "      <td>C060504/기타냉장조리</td>\n",
       "    </tr>\n",
       "    <tr>\n",
       "      <th>3</th>\n",
       "      <td>0.0</td>\n",
       "      <td>0.0</td>\n",
       "      <td>0.0</td>\n",
       "      <td>1.0</td>\n",
       "      <td>0.0</td>\n",
       "      <td>0.0</td>\n",
       "      <td>1.0</td>\n",
       "      <td>0.0</td>\n",
       "      <td>0.0</td>\n",
       "      <td>0.0</td>\n",
       "      <td>...</td>\n",
       "      <td>C120101/일반소주</td>\n",
       "      <td>C170701/생활잡화균일가</td>\n",
       "      <td>C030302/고구마</td>\n",
       "      <td>C070103/가공우유</td>\n",
       "      <td>C070101/일반우유</td>\n",
       "      <td>C150401/감자스낵</td>\n",
       "      <td>C110203/콜라</td>\n",
       "      <td>C060504/기타냉장조리</td>\n",
       "      <td>C090102/튜브아이스크림</td>\n",
       "      <td>C150306/파이</td>\n",
       "    </tr>\n",
       "    <tr>\n",
       "      <th>4</th>\n",
       "      <td>0.0</td>\n",
       "      <td>0.0</td>\n",
       "      <td>0.0</td>\n",
       "      <td>0.0</td>\n",
       "      <td>0.0</td>\n",
       "      <td>0.0</td>\n",
       "      <td>0.0</td>\n",
       "      <td>0.0</td>\n",
       "      <td>0.0</td>\n",
       "      <td>0.0</td>\n",
       "      <td>...</td>\n",
       "      <td>C120101/일반소주</td>\n",
       "      <td>C170701/생활잡화균일가</td>\n",
       "      <td>C030302/고구마</td>\n",
       "      <td>C070101/일반우유</td>\n",
       "      <td>C070103/가공우유</td>\n",
       "      <td>C150401/감자스낵</td>\n",
       "      <td>C110203/콜라</td>\n",
       "      <td>C060504/기타냉장조리</td>\n",
       "      <td>C090102/튜브아이스크림</td>\n",
       "      <td>C030103/상추</td>\n",
       "    </tr>\n",
       "    <tr>\n",
       "      <th>5</th>\n",
       "      <td>0.0</td>\n",
       "      <td>0.0</td>\n",
       "      <td>0.0</td>\n",
       "      <td>0.0</td>\n",
       "      <td>0.0</td>\n",
       "      <td>0.0</td>\n",
       "      <td>0.0</td>\n",
       "      <td>0.0</td>\n",
       "      <td>0.0</td>\n",
       "      <td>0.0</td>\n",
       "      <td>...</td>\n",
       "      <td>C120101/일반소주</td>\n",
       "      <td>C170701/생활잡화균일가</td>\n",
       "      <td>C070101/일반우유</td>\n",
       "      <td>C030302/고구마</td>\n",
       "      <td>C070103/가공우유</td>\n",
       "      <td>C150401/감자스낵</td>\n",
       "      <td>C110203/콜라</td>\n",
       "      <td>C060504/기타냉장조리</td>\n",
       "      <td>C090102/튜브아이스크림</td>\n",
       "      <td>C150306/파이</td>\n",
       "    </tr>\n",
       "    <tr>\n",
       "      <th>6</th>\n",
       "      <td>0.0</td>\n",
       "      <td>0.0</td>\n",
       "      <td>0.0</td>\n",
       "      <td>1.0</td>\n",
       "      <td>1.0</td>\n",
       "      <td>0.0</td>\n",
       "      <td>0.0</td>\n",
       "      <td>1.0</td>\n",
       "      <td>0.0</td>\n",
       "      <td>0.0</td>\n",
       "      <td>...</td>\n",
       "      <td>C120101/일반소주</td>\n",
       "      <td>C170701/생활잡화균일가</td>\n",
       "      <td>C030302/고구마</td>\n",
       "      <td>C070101/일반우유</td>\n",
       "      <td>C110203/콜라</td>\n",
       "      <td>C150401/감자스낵</td>\n",
       "      <td>C070103/가공우유</td>\n",
       "      <td>C060504/기타냉장조리</td>\n",
       "      <td>C090102/튜브아이스크림</td>\n",
       "      <td>C030103/상추</td>\n",
       "    </tr>\n",
       "  </tbody>\n",
       "</table>\n",
       "<p>7 rows × 26 columns</p>\n",
       "</div>"
      ],
      "text/plain": [
       "   다둥이   더영   롭스  하이마트  A01  A02  B01  B02  C01  C02       ...        \\\n",
       "0  0.0  0.0  0.0   0.0  0.0  0.0  0.0  0.0  0.0  0.0       ...         \n",
       "1  1.0  0.0  0.0   0.0  0.0  0.0  0.0  0.0  0.0  0.0       ...         \n",
       "2  0.0  0.0  0.0   1.0  0.0  0.0  0.0  0.0  0.0  0.0       ...         \n",
       "3  0.0  0.0  0.0   1.0  0.0  0.0  1.0  0.0  0.0  0.0       ...         \n",
       "4  0.0  0.0  0.0   0.0  0.0  0.0  0.0  0.0  0.0  0.0       ...         \n",
       "5  0.0  0.0  0.0   0.0  0.0  0.0  0.0  0.0  0.0  0.0       ...         \n",
       "6  0.0  0.0  0.0   1.0  1.0  0.0  0.0  1.0  0.0  0.0       ...         \n",
       "\n",
       "              0                1             2             3             4  \\\n",
       "0  C120101/일반소주  C170701/생활잡화균일가   C030302/고구마  C070101/일반우유  C070103/가공우유   \n",
       "1  C120101/일반소주  C170701/생활잡화균일가   C030302/고구마  C070101/일반우유  C150401/감자스낵   \n",
       "2  C120101/일반소주  C170701/생활잡화균일가   C030302/고구마  C070101/일반우유  C070103/가공우유   \n",
       "3  C120101/일반소주  C170701/생활잡화균일가   C030302/고구마  C070103/가공우유  C070101/일반우유   \n",
       "4  C120101/일반소주  C170701/생활잡화균일가   C030302/고구마  C070101/일반우유  C070103/가공우유   \n",
       "5  C120101/일반소주  C170701/생활잡화균일가  C070101/일반우유   C030302/고구마  C070103/가공우유   \n",
       "6  C120101/일반소주  C170701/생활잡화균일가   C030302/고구마  C070101/일반우유    C110203/콜라   \n",
       "\n",
       "              5             6                7                8  \\\n",
       "0  C150401/감자스낵    C110203/콜라   C060504/기타냉장조리  C090102/튜브아이스크림   \n",
       "1  C070103/가공우유    C110203/콜라  C090102/튜브아이스크림       C150306/파이   \n",
       "2    C110203/콜라  C150401/감자스낵  C090102/튜브아이스크림       C150306/파이   \n",
       "3  C150401/감자스낵    C110203/콜라   C060504/기타냉장조리  C090102/튜브아이스크림   \n",
       "4  C150401/감자스낵    C110203/콜라   C060504/기타냉장조리  C090102/튜브아이스크림   \n",
       "5  C150401/감자스낵    C110203/콜라   C060504/기타냉장조리  C090102/튜브아이스크림   \n",
       "6  C150401/감자스낵  C070103/가공우유   C060504/기타냉장조리  C090102/튜브아이스크림   \n",
       "\n",
       "                9  \n",
       "0      C030103/상추  \n",
       "1  C060504/기타냉장조리  \n",
       "2  C060504/기타냉장조리  \n",
       "3      C150306/파이  \n",
       "4      C030103/상추  \n",
       "5      C150306/파이  \n",
       "6      C030103/상추  \n",
       "\n",
       "[7 rows x 26 columns]"
      ]
     },
     "execution_count": 38,
     "metadata": {},
     "output_type": "execute_result"
    }
   ],
   "source": [
    "how_reco = pd.concat([random_user.reset_index(drop=True), reco_pd], axis=1)\n",
    "how_reco"
   ]
  },
  {
   "cell_type": "markdown",
   "metadata": {},
   "source": [
    "성별, 연령대, 거주지역에 따라 그 순서가 약간 다르긴 하지만,  추천된 상품들을 보면\n",
    "* 2번째로 잘팔린 __일반우유__\n",
    "* 6번째 로 잘팔린 __일반계란__\n",
    "* 12번째 __마시는요구르트__  \n",
    "등도 포함되었으며 기타 다양한 상품들이 추천된 모습을 보입니다."
   ]
  },
  {
   "cell_type": "code",
   "execution_count": 39,
   "metadata": {},
   "outputs": [
    {
     "data": {
      "text/html": [
       "<div>\n",
       "<style>\n",
       "    .dataframe thead tr:only-child th {\n",
       "        text-align: right;\n",
       "    }\n",
       "\n",
       "    .dataframe thead th {\n",
       "        text-align: left;\n",
       "    }\n",
       "\n",
       "    .dataframe tbody tr th {\n",
       "        vertical-align: top;\n",
       "    }\n",
       "</style>\n",
       "<table border=\"1\" class=\"dataframe\">\n",
       "  <thead>\n",
       "    <tr style=\"text-align: right;\">\n",
       "      <th></th>\n",
       "      <th>0</th>\n",
       "    </tr>\n",
       "  </thead>\n",
       "  <tbody>\n",
       "    <tr>\n",
       "      <th>C170206/종량제봉투</th>\n",
       "      <td>12763.0</td>\n",
       "    </tr>\n",
       "    <tr>\n",
       "      <th>C070101/일반우유</th>\n",
       "      <td>8321.0</td>\n",
       "    </tr>\n",
       "    <tr>\n",
       "      <th>C170701/생활잡화균일가</th>\n",
       "      <td>8096.0</td>\n",
       "    </tr>\n",
       "    <tr>\n",
       "      <th>C030401/두부류</th>\n",
       "      <td>7609.0</td>\n",
       "    </tr>\n",
       "    <tr>\n",
       "      <th>C150405/일반스낵</th>\n",
       "      <td>7322.0</td>\n",
       "    </tr>\n",
       "    <tr>\n",
       "      <th>C030901/일반계란</th>\n",
       "      <td>6281.0</td>\n",
       "    </tr>\n",
       "    <tr>\n",
       "      <th>C010206/바나나</th>\n",
       "      <td>5364.0</td>\n",
       "    </tr>\n",
       "    <tr>\n",
       "      <th>C120201/국산맥주</th>\n",
       "      <td>4959.0</td>\n",
       "    </tr>\n",
       "    <tr>\n",
       "      <th>C110101/생수</th>\n",
       "      <td>4948.0</td>\n",
       "    </tr>\n",
       "    <tr>\n",
       "      <th>C150101/국물봉지라면</th>\n",
       "      <td>4885.0</td>\n",
       "    </tr>\n",
       "    <tr>\n",
       "      <th>C150401/감자스낵</th>\n",
       "      <td>4541.0</td>\n",
       "    </tr>\n",
       "    <tr>\n",
       "      <th>C070202/마시는요구르트</th>\n",
       "      <td>4444.0</td>\n",
       "    </tr>\n",
       "    <tr>\n",
       "      <th>C120601/공병/공박스</th>\n",
       "      <td>4063.0</td>\n",
       "    </tr>\n",
       "    <tr>\n",
       "      <th>C070103/가공우유</th>\n",
       "      <td>3952.0</td>\n",
       "    </tr>\n",
       "    <tr>\n",
       "      <th>C120101/일반소주</th>\n",
       "      <td>3650.0</td>\n",
       "    </tr>\n",
       "    <tr>\n",
       "      <th>C070102/기능성우유</th>\n",
       "      <td>3624.0</td>\n",
       "    </tr>\n",
       "    <tr>\n",
       "      <th>C150301/크래커</th>\n",
       "      <td>3546.0</td>\n",
       "    </tr>\n",
       "    <tr>\n",
       "      <th>C070203/떠먹는요구르트</th>\n",
       "      <td>3482.0</td>\n",
       "    </tr>\n",
       "    <tr>\n",
       "      <th>C150302/쿠키</th>\n",
       "      <td>3422.0</td>\n",
       "    </tr>\n",
       "    <tr>\n",
       "      <th>C110301/과일음료</th>\n",
       "      <td>3420.0</td>\n",
       "    </tr>\n",
       "  </tbody>\n",
       "</table>\n",
       "</div>"
      ],
      "text/plain": [
       "                       0\n",
       "C170206/종량제봉투    12763.0\n",
       "C070101/일반우유      8321.0\n",
       "C170701/생활잡화균일가   8096.0\n",
       "C030401/두부류       7609.0\n",
       "C150405/일반스낵      7322.0\n",
       "C030901/일반계란      6281.0\n",
       "C010206/바나나       5364.0\n",
       "C120201/국산맥주      4959.0\n",
       "C110101/생수        4948.0\n",
       "C150101/국물봉지라면    4885.0\n",
       "C150401/감자스낵      4541.0\n",
       "C070202/마시는요구르트   4444.0\n",
       "C120601/공병/공박스    4063.0\n",
       "C070103/가공우유      3952.0\n",
       "C120101/일반소주      3650.0\n",
       "C070102/기능성우유     3624.0\n",
       "C150301/크래커       3546.0\n",
       "C070203/떠먹는요구르트   3482.0\n",
       "C150302/쿠키        3422.0\n",
       "C110301/과일음료      3420.0"
      ]
     },
     "execution_count": 39,
     "metadata": {},
     "output_type": "execute_result"
    }
   ],
   "source": [
    "# 가장 많이 팔린 상품  20 개\n",
    "train_label_Rating = train_label.apply(np.sum, axis = 0)\n",
    "train_label_Rating = pd.DataFrame(train_label_Rating)\n",
    "train_label_Rating.nlargest(20, 0)"
   ]
  },
  {
   "cell_type": "markdown",
   "metadata": {},
   "source": [
    "설명 변수로 사용되는 User Feature들이 다양할 수록 그 결과갑이 좋을것으로 예상되며  \n",
    "Doc2Vec과 Wide&Deep 모형들의 변수들이 random 하게 update 되므로 위 결과값도 그때 그때 다르게 나옵니다. 모형을 구축할 때 정확히 저장을 해야 할 것 같습니다.  "
   ]
  },
  {
   "cell_type": "markdown",
   "metadata": {},
   "source": [
    "## 결론"
   ]
  }
 ],
 "metadata": {
  "kernelspec": {
   "display_name": "Python 3",
   "language": "python",
   "name": "python3"
  },
  "language_info": {
   "codemirror_mode": {
    "name": "ipython",
    "version": 3
   },
   "file_extension": ".py",
   "mimetype": "text/x-python",
   "name": "python",
   "nbconvert_exporter": "python",
   "pygments_lexer": "ipython3",
   "version": "3.6.1"
  }
 },
 "nbformat": 4,
 "nbformat_minor": 2
}
